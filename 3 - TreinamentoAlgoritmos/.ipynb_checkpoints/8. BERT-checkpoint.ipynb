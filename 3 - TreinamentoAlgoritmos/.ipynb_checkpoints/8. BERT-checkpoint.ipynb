{
  "nbformat": 4,
  "nbformat_minor": 0,
  "metadata": {
    "accelerator": "GPU",
    "colab": {
      "name": "1-BERT.ipynb",
      "provenance": [],
      "collapsed_sections": []
    },
    "kernelspec": {
      "display_name": "Python 3",
      "name": "python3"
    },
    "language_info": {
      "name": "python"
    }
  },
  "cells": [
    {
      "cell_type": "code",
      "metadata": {
        "id": "-HqnvVzdgtzW"
      },
      "source": [
        "pip install ktrain"
      ],
      "execution_count": null,
      "outputs": []
    },
    {
      "cell_type": "code",
      "metadata": {
        "id": "92bG1j0Lg8Ot"
      },
      "source": [
        "import ktrain\n",
        "from ktrain import text\n",
        "import pandas as pd"
      ],
      "execution_count": null,
      "outputs": []
    },
    {
      "cell_type": "code",
      "metadata": {
        "colab": {
          "base_uri": "https://localhost:8080/"
        },
        "id": "_Q8cIZUpiPZQ",
        "outputId": "62677bfc-d956-4204-af8b-4d63e2718fc6"
      },
      "source": [
        "from google.colab import drive\n",
        "drive.mount('/content/drive')"
      ],
      "execution_count": null,
      "outputs": [
        {
          "output_type": "stream",
          "text": [
            "Mounted at /content/drive\n"
          ],
          "name": "stdout"
        }
      ]
    },
    {
      "cell_type": "code",
      "metadata": {
        "id": "lqZi3MHtiROi"
      },
      "source": [
        "import os\n",
        "os.chdir(\"/content/drive/MyDrive/algoritmos/\")"
      ],
      "execution_count": null,
      "outputs": []
    },
    {
      "cell_type": "code",
      "metadata": {
        "id": "F5eMkaU3iYck"
      },
      "source": [
        "dados = pd.read_csv(\"9.FestText/all.csv\")"
      ],
      "execution_count": null,
      "outputs": []
    },
    {
      "cell_type": "code",
      "metadata": {
        "id": "BDeZBguKXUXZ"
      },
      "source": [
        "dados"
      ],
      "execution_count": null,
      "outputs": []
    },
    {
      "cell_type": "code",
      "metadata": {
        "id": "80wOR4rrhizx"
      },
      "source": [
        "(x_train, y_train) , (x_test, y_test), preproc = text.texts_from_df(dados, text_column=\"new_text\", preprocess_mode=\"bert\", label_columns=[\"new_labels\"], val_pct=0.3)"
      ],
      "execution_count": null,
      "outputs": []
    },
    {
      "cell_type": "code",
      "metadata": {
        "colab": {
          "base_uri": "https://localhost:8080/"
        },
        "id": "zqRxyxeynYCr",
        "outputId": "68b160c3-70c8-4d4f-be2d-8c9a51773323"
      },
      "source": [
        "classifier = text.text_classifier(name=\"bert\", train_data=(x_train, y_train), preproc=preproc)"
      ],
      "execution_count": null,
      "outputs": [
        {
          "output_type": "stream",
          "text": [
            "Is Multi-Label? False\n",
            "maxlen is 400\n",
            "done.\n"
          ],
          "name": "stdout"
        }
      ]
    },
    {
      "cell_type": "code",
      "metadata": {
        "id": "2InOWQn3mfZ6"
      },
      "source": [
        "learner = ktrain.get_learner(classifier, train_data=(x_train, y_train), val_data=(x_test, y_test), batch_size=8)"
      ],
      "execution_count": null,
      "outputs": []
    },
    {
      "cell_type": "code",
      "metadata": {
        "id": "mlyKPlMt7Y6s"
      },
      "source": [
        "learner.lr_find()"
      ],
      "execution_count": null,
      "outputs": []
    },
    {
      "cell_type": "code",
      "metadata": {
        "id": "ysF1_snwNdrb",
        "colab": {
          "base_uri": "https://localhost:8080/"
        },
        "outputId": "46c72396-06ba-4f11-b7b9-08897fb13a50"
      },
      "source": [
        "learner.fit_onecycle(2e-5, 10)"
      ],
      "execution_count": null,
      "outputs": [
        {
          "output_type": "stream",
          "text": [
            "\n",
            "\n",
            "begin training using onecycle policy with max lr of 2e-05...\n",
            "Epoch 1/10\n",
            "256/256 [==============================] - 282s 1s/step - loss: 1.0350 - accuracy: 0.4503 - val_loss: 0.8966 - val_accuracy: 0.5902\n",
            "Epoch 2/10\n",
            "256/256 [==============================] - 284s 1s/step - loss: 0.8512 - accuracy: 0.6105 - val_loss: 0.7619 - val_accuracy: 0.6610\n",
            "Epoch 3/10\n",
            "256/256 [==============================] - 284s 1s/step - loss: 0.6855 - accuracy: 0.7104 - val_loss: 0.7928 - val_accuracy: 0.6347\n",
            "Epoch 4/10\n",
            "256/256 [==============================] - 284s 1s/step - loss: 0.5053 - accuracy: 0.8045 - val_loss: 0.8051 - val_accuracy: 0.6747\n",
            "Epoch 5/10\n",
            "256/256 [==============================] - 284s 1s/step - loss: 0.3422 - accuracy: 0.8638 - val_loss: 0.9641 - val_accuracy: 0.6473\n",
            "Epoch 6/10\n",
            "256/256 [==============================] - 284s 1s/step - loss: 0.1969 - accuracy: 0.9196 - val_loss: 1.0429 - val_accuracy: 0.6758\n",
            "Epoch 7/10\n",
            "256/256 [==============================] - 284s 1s/step - loss: 0.0918 - accuracy: 0.9682 - val_loss: 1.3388 - val_accuracy: 0.6838\n",
            "Epoch 8/10\n",
            "256/256 [==============================] - 284s 1s/step - loss: 0.0303 - accuracy: 0.9907 - val_loss: 1.4441 - val_accuracy: 0.6769\n",
            "Epoch 9/10\n",
            "256/256 [==============================] - 284s 1s/step - loss: 0.0117 - accuracy: 0.9966 - val_loss: 1.4442 - val_accuracy: 0.6986\n",
            "Epoch 10/10\n",
            "256/256 [==============================] - 284s 1s/step - loss: 0.0060 - accuracy: 0.9985 - val_loss: 1.4628 - val_accuracy: 0.6963\n"
          ],
          "name": "stdout"
        },
        {
          "output_type": "execute_result",
          "data": {
            "text/plain": [
              "<tensorflow.python.keras.callbacks.History at 0x7fbee67834d0>"
            ]
          },
          "metadata": {
            "tags": []
          },
          "execution_count": 12
        }
      ]
    },
    {
      "cell_type": "code",
      "metadata": {
        "colab": {
          "base_uri": "https://localhost:8080/"
        },
        "id": "YrJDG69w0Xzf",
        "outputId": "229dd3df-1183-426f-9083-ecb3e9f137e9"
      },
      "source": [
        "learner.evaluate((x_test, y_test))"
      ],
      "execution_count": null,
      "outputs": [
        {
          "output_type": "stream",
          "text": [
            "              precision    recall  f1-score   support\n",
            "\n",
            "           0       0.68      0.71      0.69       296\n",
            "           1       0.77      0.74      0.75       317\n",
            "           2       0.63      0.63      0.63       263\n",
            "\n",
            "    accuracy                           0.70       876\n",
            "   macro avg       0.69      0.69      0.69       876\n",
            "weighted avg       0.70      0.70      0.70       876\n",
            "\n"
          ],
          "name": "stdout"
        },
        {
          "output_type": "execute_result",
          "data": {
            "text/plain": [
              "array([[209,  35,  52],\n",
              "       [ 38, 234,  45],\n",
              "       [ 60,  36, 167]])"
            ]
          },
          "metadata": {
            "tags": []
          },
          "execution_count": 14
        }
      ]
    },
    {
      "cell_type": "code",
      "metadata": {
        "id": "Id7aNiEo4WNM"
      },
      "source": [
        "predictor = ktrain.get_predictor(learner.model, preproc)"
      ],
      "execution_count": null,
      "outputs": []
    },
    {
      "cell_type": "code",
      "metadata": {
        "id": "ufXeIsy05EX8",
        "colab": {
          "base_uri": "https://localhost:8080/"
        },
        "outputId": "fcc59d24-a5da-4ee5-cfba-c8181d1ee3cf"
      },
      "source": [
        "predictor.get_classes()"
      ],
      "execution_count": null,
      "outputs": [
        {
          "output_type": "execute_result",
          "data": {
            "text/plain": [
              "['__label__bug', '__label__enhancement', '__label__question']"
            ]
          },
          "metadata": {
            "tags": []
          },
          "execution_count": 27
        }
      ]
    }
  ]
}