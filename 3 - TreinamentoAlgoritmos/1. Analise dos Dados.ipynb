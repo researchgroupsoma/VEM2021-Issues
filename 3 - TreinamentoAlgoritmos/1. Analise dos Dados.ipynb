{
 "cells": [
  {
   "cell_type": "markdown",
   "metadata": {
    "id": "cfaor9sl9yhA"
   },
   "source": [
    "# Analise dos Dados"
   ]
  },
  {
   "cell_type": "code",
   "execution_count": 1,
   "metadata": {
    "colab": {
     "base_uri": "https://localhost:8080/",
     "height": 71
    },
    "executionInfo": {
     "elapsed": 1782,
     "status": "ok",
     "timestamp": 1595192345751,
     "user": {
      "displayName": "Gabriel Menezes",
      "photoUrl": "https://lh3.googleusercontent.com/a-/AOh14GjYUuuH8zQ8RXHIMSnNeypaXPnqG95-o6VnOfVLGA=s64",
      "userId": "04710021433655722253"
     },
     "user_tz": 240
    },
    "id": "AfBhm7jC9yhG",
    "outputId": "4977482a-fbb8-454e-ecd9-39b23bfd6dff"
   },
   "outputs": [],
   "source": [
    "import pandas as pd\n",
    "import matplotlib.pyplot as plt\n",
    "import pickle\n",
    "import seaborn as sns\n",
    "sns.set_style(\"whitegrid\")\n",
    "import altair as alt"
   ]
  },
  {
   "cell_type": "code",
   "execution_count": 2,
   "metadata": {
    "id": "IlrIaZIw9yhN"
   },
   "outputs": [],
   "source": [
    "df = pd.read_csv('artigo_ia.csv', sep=',')"
   ]
  },
  {
   "cell_type": "code",
   "execution_count": 3,
   "metadata": {
    "colab": {
     "base_uri": "https://localhost:8080/",
     "height": 204
    },
    "executionInfo": {
     "elapsed": 29082,
     "status": "ok",
     "timestamp": 1595192373094,
     "user": {
      "displayName": "Gabriel Menezes",
      "photoUrl": "https://lh3.googleusercontent.com/a-/AOh14GjYUuuH8zQ8RXHIMSnNeypaXPnqG95-o6VnOfVLGA=s64",
      "userId": "04710021433655722253"
     },
     "user_tz": 240
    },
    "id": "W78MBYdK9yhU",
    "outputId": "5108e2a8-44fe-477a-9105-10c1134b5ed4"
   },
   "outputs": [
    {
     "data": {
      "text/html": [
       "<div>\n",
       "<style scoped>\n",
       "    .dataframe tbody tr th:only-of-type {\n",
       "        vertical-align: middle;\n",
       "    }\n",
       "\n",
       "    .dataframe tbody tr th {\n",
       "        vertical-align: top;\n",
       "    }\n",
       "\n",
       "    .dataframe thead th {\n",
       "        text-align: right;\n",
       "    }\n",
       "</style>\n",
       "<table border=\"1\" class=\"dataframe\">\n",
       "  <thead>\n",
       "    <tr style=\"text-align: right;\">\n",
       "      <th></th>\n",
       "      <th>id</th>\n",
       "      <th>framework</th>\n",
       "      <th>html</th>\n",
       "      <th>sample</th>\n",
       "      <th>title</th>\n",
       "      <th>state</th>\n",
       "      <th>created_at</th>\n",
       "      <th>body</th>\n",
       "      <th>labels</th>\n",
       "    </tr>\n",
       "  </thead>\n",
       "  <tbody>\n",
       "    <tr>\n",
       "      <th>0</th>\n",
       "      <td>4</td>\n",
       "      <td>Android</td>\n",
       "      <td>https://github.com/googlesamples/io2014-codela...</td>\n",
       "      <td>googlesamples/io2014-codelabs</td>\n",
       "      <td>The main README file is not about Google I/O n...</td>\n",
       "      <td>closed</td>\n",
       "      <td>2014-07-12 00:11:32</td>\n",
       "      <td>I'm not sure what kind of information we shoul...</td>\n",
       "      <td>bug</td>\n",
       "    </tr>\n",
       "    <tr>\n",
       "      <th>1</th>\n",
       "      <td>58</td>\n",
       "      <td>Android</td>\n",
       "      <td>https://github.com/googlesamples/google-servic...</td>\n",
       "      <td>googlesamples/google-services</td>\n",
       "      <td>Android Google Sign-in: When Google account po...</td>\n",
       "      <td>open</td>\n",
       "      <td>2019-11-14 11:45:20</td>\n",
       "      <td>### Step 1: Are you in the right place?\\n\\n  *...</td>\n",
       "      <td>bug</td>\n",
       "    </tr>\n",
       "    <tr>\n",
       "      <th>2</th>\n",
       "      <td>65</td>\n",
       "      <td>Android</td>\n",
       "      <td>https://github.com/googlesamples/google-servic...</td>\n",
       "      <td>googlesamples/google-services</td>\n",
       "      <td>Cancelling google sign in on ios gives wrong e...</td>\n",
       "      <td>closed</td>\n",
       "      <td>2019-10-02 09:40:13</td>\n",
       "      <td>### Describe your environment\\n\\n  * Device: i...</td>\n",
       "      <td>bug</td>\n",
       "    </tr>\n",
       "    <tr>\n",
       "      <th>3</th>\n",
       "      <td>111</td>\n",
       "      <td>Android</td>\n",
       "      <td>https://github.com/googlesamples/google-servic...</td>\n",
       "      <td>googlesamples/google-services</td>\n",
       "      <td>Canceling a Sign in leads to GoogleSignInStatu...</td>\n",
       "      <td>closed</td>\n",
       "      <td>2018-07-16 13:53:20</td>\n",
       "      <td>### Step 1: Are you in the right place?\\n\\nA b...</td>\n",
       "      <td>bug</td>\n",
       "    </tr>\n",
       "    <tr>\n",
       "      <th>4</th>\n",
       "      <td>135</td>\n",
       "      <td>Android</td>\n",
       "      <td>https://github.com/googlesamples/google-servic...</td>\n",
       "      <td>googlesamples/google-services</td>\n",
       "      <td>SignIn Dialog from GoogleSignInClient.getSignI...</td>\n",
       "      <td>open</td>\n",
       "      <td>2017-12-14 18:35:01</td>\n",
       "      <td>When running the sample for SignInClient every...</td>\n",
       "      <td>bug</td>\n",
       "    </tr>\n",
       "  </tbody>\n",
       "</table>\n",
       "</div>"
      ],
      "text/plain": [
       "    id framework                                               html  \\\n",
       "0    4   Android  https://github.com/googlesamples/io2014-codela...   \n",
       "1   58   Android  https://github.com/googlesamples/google-servic...   \n",
       "2   65   Android  https://github.com/googlesamples/google-servic...   \n",
       "3  111   Android  https://github.com/googlesamples/google-servic...   \n",
       "4  135   Android  https://github.com/googlesamples/google-servic...   \n",
       "\n",
       "                          sample  \\\n",
       "0  googlesamples/io2014-codelabs   \n",
       "1  googlesamples/google-services   \n",
       "2  googlesamples/google-services   \n",
       "3  googlesamples/google-services   \n",
       "4  googlesamples/google-services   \n",
       "\n",
       "                                               title   state  \\\n",
       "0  The main README file is not about Google I/O n...  closed   \n",
       "1  Android Google Sign-in: When Google account po...    open   \n",
       "2  Cancelling google sign in on ios gives wrong e...  closed   \n",
       "3  Canceling a Sign in leads to GoogleSignInStatu...  closed   \n",
       "4  SignIn Dialog from GoogleSignInClient.getSignI...    open   \n",
       "\n",
       "            created_at                                               body  \\\n",
       "0  2014-07-12 00:11:32  I'm not sure what kind of information we shoul...   \n",
       "1  2019-11-14 11:45:20  ### Step 1: Are you in the right place?\\n\\n  *...   \n",
       "2  2019-10-02 09:40:13  ### Describe your environment\\n\\n  * Device: i...   \n",
       "3  2018-07-16 13:53:20  ### Step 1: Are you in the right place?\\n\\nA b...   \n",
       "4  2017-12-14 18:35:01  When running the sample for SignInClient every...   \n",
       "\n",
       "  labels  \n",
       "0    bug  \n",
       "1    bug  \n",
       "2    bug  \n",
       "3    bug  \n",
       "4    bug  "
      ]
     },
     "execution_count": 3,
     "metadata": {},
     "output_type": "execute_result"
    }
   ],
   "source": [
    "df.head()"
   ]
  },
  {
   "cell_type": "markdown",
   "metadata": {
    "id": "J7n5D9qJ9yhb"
   },
   "source": [
    "### Exporar o número de artigos para cada categoria"
   ]
  },
  {
   "cell_type": "markdown",
   "metadata": {
    "colab": {
     "base_uri": "https://localhost:8080/",
     "height": 437
    },
    "executionInfo": {
     "elapsed": 29069,
     "status": "ok",
     "timestamp": 1595192373098,
     "user": {
      "displayName": "Gabriel Menezes",
      "photoUrl": "https://lh3.googleusercontent.com/a-/AOh14GjYUuuH8zQ8RXHIMSnNeypaXPnqG95-o6VnOfVLGA=s64",
      "userId": "04710021433655722253"
     },
     "user_tz": 240
    },
    "id": "L1td40-09yhc",
    "outputId": "eed684c3-23c0-414c-f338-3a4ed919f88f"
   },
   "source": [
    "bars = alt.Chart(df).mark_bar(size=50).encode(\n",
    "    x=alt.X(\"labels\"),\n",
    "    y=alt.Y(\"count():Q\", axis=alt.Axis(title='Número de perguntas por categoria')),\n",
    "    tooltip=[alt.Tooltip('count()', title='Número de perguntas'), 'labels'],\n",
    "    color='labels'\n",
    "\n",
    ")\n",
    "\n",
    "text = bars.mark_text(\n",
    "    align='center',\n",
    "    baseline='bottom',\n",
    ").encode(\n",
    "    text='count()'\n",
    ")\n",
    "\n",
    "(bars + text).interactive().properties(\n",
    "    height=300, \n",
    "    width=700,\n",
    "    title = \"Número de perguntas por categoria\",\n",
    ")"
   ]
  },
  {
   "cell_type": "markdown",
   "metadata": {
    "id": "-2x58jrC9yhx"
   },
   "source": [
    "### O tamanho das perguntas"
   ]
  },
  {
   "cell_type": "code",
   "execution_count": 4,
   "metadata": {
    "id": "5u7jP3Gq9yhy"
   },
   "outputs": [],
   "source": [
    "df['Body_length'] = df['body'].str.len()"
   ]
  },
  {
   "cell_type": "code",
   "execution_count": 5,
   "metadata": {
    "colab": {
     "base_uri": "https://localhost:8080/",
     "height": 405
    },
    "executionInfo": {
     "elapsed": 29624,
     "status": "ok",
     "timestamp": 1595192373668,
     "user": {
      "displayName": "Gabriel Menezes",
      "photoUrl": "https://lh3.googleusercontent.com/a-/AOh14GjYUuuH8zQ8RXHIMSnNeypaXPnqG95-o6VnOfVLGA=s64",
      "userId": "04710021433655722253"
     },
     "user_tz": 240
    },
    "id": "Hu9cUxJm9yh6",
    "outputId": "62d43206-7228-447f-8884-4115743a2f12"
   },
   "outputs": [
    {
     "name": "stderr",
     "output_type": "stream",
     "text": [
      "c:\\users\\sabia\\appdata\\local\\programs\\python\\python39\\lib\\site-packages\\seaborn\\distributions.py:2557: FutureWarning: `distplot` is a deprecated function and will be removed in a future version. Please adapt your code to use either `displot` (a figure-level function with similar flexibility) or `histplot` (an axes-level function for histograms).\n",
      "  warnings.warn(msg, FutureWarning)\n"
     ]
    },
    {
     "data": {
      "image/png": "[encoded data removed]",
      "text/plain": [
       "<Figure size 921.6x432 with 1 Axes>"
      ]
     },
     "metadata": {},
     "output_type": "display_data"
    }
   ],
   "source": [
    "plt.figure(figsize=(12.8,6))\n",
    "sns.distplot(df['Body_length']).set_title('Distribuição do tamanho das perguntas');"
   ]
  },
  {
   "cell_type": "code",
   "execution_count": 6,
   "metadata": {
    "colab": {
     "base_uri": "https://localhost:8080/",
     "height": 170
    },
    "executionInfo": {
     "elapsed": 29615,
     "status": "ok",
     "timestamp": 1595192373670,
     "user": {
      "displayName": "Gabriel Menezes",
      "photoUrl": "https://lh3.googleusercontent.com/a-/AOh14GjYUuuH8zQ8RXHIMSnNeypaXPnqG95-o6VnOfVLGA=s64",
      "userId": "04710021433655722253"
     },
     "user_tz": 240
    },
    "id": "A6fdS4zl9yh_",
    "outputId": "499aa50f-39c9-46b6-d028-80a1cc45e025"
   },
   "outputs": [
    {
     "data": {
      "text/plain": [
       "count     2917.000000\n",
       "mean      1068.987316\n",
       "std       2332.767690\n",
       "min         10.000000\n",
       "25%        223.000000\n",
       "50%        462.000000\n",
       "75%       1046.000000\n",
       "max      47262.000000\n",
       "Name: Body_length, dtype: float64"
      ]
     },
     "execution_count": 6,
     "metadata": {},
     "output_type": "execute_result"
    }
   ],
   "source": [
    "df['Body_length'].describe()"
   ]
  },
  {
   "cell_type": "markdown",
   "metadata": {
    "id": "q0BmSLx_9yiu"
   },
   "source": [
    "Salvar o conjunto de dados no formato pickle"
   ]
  },
  {
   "cell_type": "code",
   "execution_count": 7,
   "metadata": {
    "id": "cG8_pksx9yiv"
   },
   "outputs": [],
   "source": [
    "with open('StackOverflow_dataset.pickle', 'wb') as output:\n",
    "    pickle.dump(df, output)"
   ]
  }
 ],
 "metadata": {
  "colab": {
   "collapsed_sections": [],
   "name": "1. Analise dos Dados.ipynb",
   "provenance": [],
   "toc_visible": true
  },
  "kernelspec": {
   "display_name": "Python 3",
   "language": "python",
   "name": "python3"
  },
  "language_info": {
   "codemirror_mode": {
    "name": "ipython",
    "version": 3
   },
   "file_extension": ".py",
   "mimetype": "text/x-python",
   "name": "python",
   "nbconvert_exporter": "python",
   "pygments_lexer": "ipython3",
   "version": "3.9.2"
  }
 },
 "nbformat": 4,
 "nbformat_minor": 4
}
