{
 "cells": [
  {
   "cell_type": "markdown",
   "metadata": {
    "id": "egBJWU2iHu77"
   },
   "source": [
    "# Multinomial Logistic Regression"
   ]
  },
  {
   "cell_type": "code",
   "execution_count": 1,
   "metadata": {
    "id": "HcsjGB4rHu8B"
   },
   "outputs": [],
   "source": [
    "import pickle\n",
    "import numpy as np\n",
    "from sklearn.feature_extraction.text import TfidfVectorizer\n",
    "from sklearn.linear_model import LogisticRegression\n",
    "from pprint import pprint\n",
    "from sklearn.model_selection import RandomizedSearchCV\n",
    "from sklearn.model_selection import GridSearchCV\n",
    "from sklearn.metrics import classification_report, confusion_matrix, accuracy_score\n",
    "from sklearn.model_selection import ShuffleSplit\n",
    "import matplotlib.pyplot as plt\n",
    "import seaborn as sns\n",
    "import pandas as pd"
   ]
  },
  {
   "cell_type": "code",
   "execution_count": 2,
   "metadata": {
    "id": "UY4hSIxTHu8I"
   },
   "outputs": [],
   "source": [
    "# Dataframe\n",
    "path_df = \"Pickles/df.pickle\"\n",
    "with open(path_df, 'rb') as data:\n",
    "    df = pickle.load(data)\n",
    "\n",
    "# features_train\n",
    "path_features_train = \"Pickles/features_train.pickle\"\n",
    "with open(path_features_train, 'rb') as data:\n",
    "    features_train = pickle.load(data)\n",
    "\n",
    "# labels_train\n",
    "path_labels_train = \"Pickles/labels_train.pickle\"\n",
    "with open(path_labels_train, 'rb') as data:\n",
    "    labels_train = pickle.load(data)\n",
    "\n",
    "# features_test\n",
    "path_features_test = \"Pickles/features_test.pickle\"\n",
    "with open(path_features_test, 'rb') as data:\n",
    "    features_test = pickle.load(data)\n",
    "\n",
    "# labels_test\n",
    "path_labels_test = \"Pickles/labels_test.pickle\"\n",
    "with open(path_labels_test, 'rb') as data:\n",
    "    labels_test = pickle.load(data)"
   ]
  },
  {
   "cell_type": "code",
   "execution_count": 3,
   "metadata": {
    "colab": {
     "base_uri": "https://localhost:8080/"
    },
    "executionInfo": {
     "elapsed": 8,
     "status": "ok",
     "timestamp": 1624299042124,
     "user": {
      "displayName": "Sábia Belle",
      "photoUrl": "https://lh3.googleusercontent.com/a-/AOh14GgoLe-UgrNos4x-wRynzWo4Mca81Yi6X7B2fRTcUg=s64",
      "userId": "15273515199890451153"
     },
     "user_tz": 180
    },
    "id": "GJGZ8Lv4Hu8R",
    "outputId": "d77bfee8-c6cd-4c35-a39c-3f4c29cc2f84"
   },
   "outputs": [
    {
     "name": "stdout",
     "output_type": "stream",
     "text": [
      "(2041, 300)\n",
      "(876, 300)\n"
     ]
    }
   ],
   "source": [
    "print(features_train.shape)\n",
    "print(features_test.shape)"
   ]
  },
  {
   "cell_type": "markdown",
   "metadata": {
    "id": "5nClTcDtHu8X"
   },
   "source": [
    "## Ajustes de parametros com Cross-Validation"
   ]
  },
  {
   "cell_type": "code",
   "execution_count": 4,
   "metadata": {
    "colab": {
     "base_uri": "https://localhost:8080/"
    },
    "executionInfo": {
     "elapsed": 8,
     "status": "ok",
     "timestamp": 1624299042125,
     "user": {
      "displayName": "Sábia Belle",
      "photoUrl": "https://lh3.googleusercontent.com/a-/AOh14GgoLe-UgrNos4x-wRynzWo4Mca81Yi6X7B2fRTcUg=s64",
      "userId": "15273515199890451153"
     },
     "user_tz": 180
    },
    "id": "Gb1Kmt40Hu8Z",
    "outputId": "48b62184-18f1-4b8f-bab5-40efa1f08204"
   },
   "outputs": [
    {
     "name": "stdout",
     "output_type": "stream",
     "text": [
      "Parameters currently in use:\n",
      "\n",
      "{'C': 1.0,\n",
      " 'class_weight': None,\n",
      " 'dual': False,\n",
      " 'fit_intercept': True,\n",
      " 'intercept_scaling': 1,\n",
      " 'l1_ratio': None,\n",
      " 'max_iter': 100,\n",
      " 'multi_class': 'auto',\n",
      " 'n_jobs': None,\n",
      " 'penalty': 'l2',\n",
      " 'random_state': 10,\n",
      " 'solver': 'lbfgs',\n",
      " 'tol': 0.0001,\n",
      " 'verbose': 0,\n",
      " 'warm_start': False}\n"
     ]
    }
   ],
   "source": [
    "lr_0 = LogisticRegression(random_state = 10)\n",
    "\n",
    "print('Parameters currently in use:\\n')\n",
    "pprint(lr_0.get_params())"
   ]
  },
  {
   "cell_type": "markdown",
   "metadata": {
    "id": "PxIFszoeHu8j"
   },
   "source": [
    "### Randomized Search Cross Validation"
   ]
  },
  {
   "cell_type": "code",
   "execution_count": 5,
   "metadata": {
    "colab": {
     "base_uri": "https://localhost:8080/"
    },
    "executionInfo": {
     "elapsed": 6,
     "status": "ok",
     "timestamp": 1624299042125,
     "user": {
      "displayName": "Sábia Belle",
      "photoUrl": "https://lh3.googleusercontent.com/a-/AOh14GgoLe-UgrNos4x-wRynzWo4Mca81Yi6X7B2fRTcUg=s64",
      "userId": "15273515199890451153"
     },
     "user_tz": 180
    },
    "id": "kmPKC9czHu8s",
    "outputId": "55e92ec1-c408-4cd8-98d2-0852f3e60bda"
   },
   "outputs": [
    {
     "name": "stdout",
     "output_type": "stream",
     "text": [
      "{'C': [0.1,\n",
      "       0.2,\n",
      "       0.30000000000000004,\n",
      "       0.4,\n",
      "       0.5,\n",
      "       0.6,\n",
      "       0.7000000000000001,\n",
      "       0.8,\n",
      "       0.9,\n",
      "       1.0],\n",
      " 'class_weight': ['balanced', None],\n",
      " 'multi_class': ['multinomial'],\n",
      " 'penalty': ['l2'],\n",
      " 'solver': ['newton-cg', 'sag', 'saga', 'lbfgs']}\n"
     ]
    }
   ],
   "source": [
    "# C\n",
    "C = [float(x) for x in np.linspace(start = 0.1, stop = 1, num = 10)]\n",
    "\n",
    "# multi_class\n",
    "multi_class = ['multinomial']\n",
    "\n",
    "# solver\n",
    "solver = ['newton-cg', 'sag', 'saga', 'lbfgs']\n",
    " \n",
    "# class_weight\n",
    "class_weight = ['balanced', None]\n",
    "\n",
    "# penalty\n",
    "penalty = ['l2']\n",
    "\n",
    "# Create the random grid\n",
    "random_grid = {'C': C,\n",
    "               'multi_class': multi_class,\n",
    "               'solver': solver,\n",
    "               'class_weight': class_weight,\n",
    "               'penalty': penalty}\n",
    "\n",
    "pprint(random_grid)"
   ]
  },
  {
   "cell_type": "code",
   "execution_count": 6,
   "metadata": {
    "colab": {
     "base_uri": "https://localhost:8080/"
    },
    "executionInfo": {
     "elapsed": 31853,
     "status": "ok",
     "timestamp": 1624299073974,
     "user": {
      "displayName": "Sábia Belle",
      "photoUrl": "https://lh3.googleusercontent.com/a-/AOh14GgoLe-UgrNos4x-wRynzWo4Mca81Yi6X7B2fRTcUg=s64",
      "userId": "15273515199890451153"
     },
     "user_tz": 180
    },
    "id": "5egbEqDeHu84",
    "outputId": "9324ea04-975f-406a-e534-dd6d5173a7bd"
   },
   "outputs": [
    {
     "name": "stdout",
     "output_type": "stream",
     "text": [
      "Fitting 5 folds for each of 50 candidates, totalling 250 fits\n"
     ]
    },
    {
     "data": {
      "text/plain": [
       "RandomizedSearchCV(cv=5, estimator=LogisticRegression(random_state=10),\n",
       "                   n_iter=50,\n",
       "                   param_distributions={'C': [0.1, 0.2, 0.30000000000000004,\n",
       "                                              0.4, 0.5, 0.6, 0.7000000000000001,\n",
       "                                              0.8, 0.9, 1.0],\n",
       "                                        'class_weight': ['balanced', None],\n",
       "                                        'multi_class': ['multinomial'],\n",
       "                                        'penalty': ['l2'],\n",
       "                                        'solver': ['newton-cg', 'sag', 'saga',\n",
       "                                                   'lbfgs']},\n",
       "                   random_state=10, scoring='accuracy', verbose=1)"
      ]
     },
     "execution_count": 6,
     "metadata": {},
     "output_type": "execute_result"
    }
   ],
   "source": [
    "lrc = LogisticRegression(random_state=10)\n",
    "\n",
    "random_search = RandomizedSearchCV(estimator=lrc,\n",
    "                                   param_distributions=random_grid,\n",
    "                                   n_iter=50,\n",
    "                                   scoring='accuracy',\n",
    "                                   cv=5, \n",
    "                                   verbose=1, \n",
    "                                   random_state=10)\n",
    "\n",
    "random_search.fit(features_train, labels_train)"
   ]
  },
  {
   "cell_type": "code",
   "execution_count": 7,
   "metadata": {
    "colab": {
     "base_uri": "https://localhost:8080/"
    },
    "executionInfo": {
     "elapsed": 7,
     "status": "ok",
     "timestamp": 1624299073974,
     "user": {
      "displayName": "Sábia Belle",
      "photoUrl": "https://lh3.googleusercontent.com/a-/AOh14GgoLe-UgrNos4x-wRynzWo4Mca81Yi6X7B2fRTcUg=s64",
      "userId": "15273515199890451153"
     },
     "user_tz": 180
    },
    "id": "Lcnmh2uQHu9E",
    "outputId": "59d57e6d-13c7-431c-c914-070d8540ec43"
   },
   "outputs": [
    {
     "name": "stdout",
     "output_type": "stream",
     "text": [
      "{'solver': 'lbfgs', 'penalty': 'l2', 'multi_class': 'multinomial', 'class_weight': 'balanced', 'C': 0.1}\n",
      "\n",
      "0.6339973153075411\n"
     ]
    }
   ],
   "source": [
    "print(random_search.best_params_)\n",
    "print(\"\")\n",
    "print(random_search.best_score_)"
   ]
  },
  {
   "cell_type": "markdown",
   "metadata": {
    "id": "67M0TmgxHu9K"
   },
   "source": [
    "### Grid Search Cross Validation"
   ]
  },
  {
   "cell_type": "code",
   "execution_count": 8,
   "metadata": {
    "colab": {
     "base_uri": "https://localhost:8080/"
    },
    "executionInfo": {
     "elapsed": 3748,
     "status": "ok",
     "timestamp": 1624299077718,
     "user": {
      "displayName": "Sábia Belle",
      "photoUrl": "https://lh3.googleusercontent.com/a-/AOh14GgoLe-UgrNos4x-wRynzWo4Mca81Yi6X7B2fRTcUg=s64",
      "userId": "15273515199890451153"
     },
     "user_tz": 180
    },
    "id": "3JKn8kTeHu9K",
    "outputId": "f9d1a5c8-7fa7-4a6b-96ce-13ce03786e66"
   },
   "outputs": [
    {
     "name": "stdout",
     "output_type": "stream",
     "text": [
      "Fitting 3 folds for each of 10 candidates, totalling 30 fits\n"
     ]
    },
    {
     "data": {
      "text/plain": [
       "GridSearchCV(cv=ShuffleSplit(n_splits=3, random_state=10, test_size=0.33, train_size=None),\n",
       "             estimator=LogisticRegression(random_state=10),\n",
       "             param_grid={'C': [0.3, 0.37777777777777777, 0.45555555555555555,\n",
       "                               0.5333333333333333, 0.6111111111111112,\n",
       "                               0.6888888888888889, 0.7666666666666666,\n",
       "                               0.8444444444444446, 0.9222222222222223, 1.0],\n",
       "                         'class_weight': ['balanced'],\n",
       "                         'multi_class': ['multinomial'], 'penalty': ['l2'],\n",
       "                         'solver': ['lbfgs']},\n",
       "             scoring='accuracy', verbose=1)"
      ]
     },
     "execution_count": 8,
     "metadata": {},
     "output_type": "execute_result"
    }
   ],
   "source": [
    "C = [float(x) for x in np.linspace(start = 0.3, stop = 1, num = 10)]\n",
    "multi_class = ['multinomial']\n",
    "solver = ['lbfgs']\n",
    "class_weight = ['balanced']\n",
    "penalty = ['l2']\n",
    "\n",
    "param_grid = {'C': C,\n",
    "               'multi_class': multi_class,\n",
    "               'solver': solver,\n",
    "               'class_weight': class_weight,\n",
    "               'penalty': penalty}\n",
    "\n",
    "lrc = LogisticRegression(random_state=10)\n",
    "\n",
    "cv_sets = ShuffleSplit(n_splits = 3, test_size = .33, random_state = 10)\n",
    "\n",
    "grid_search = GridSearchCV(estimator=lrc, \n",
    "                           param_grid=param_grid,\n",
    "                           scoring='accuracy',\n",
    "                           cv=cv_sets,\n",
    "                           verbose=1)\n",
    "\n",
    "grid_search.fit(features_train, labels_train)"
   ]
  },
  {
   "cell_type": "code",
   "execution_count": 9,
   "metadata": {
    "colab": {
     "base_uri": "https://localhost:8080/"
    },
    "executionInfo": {
     "elapsed": 17,
     "status": "ok",
     "timestamp": 1624299077718,
     "user": {
      "displayName": "Sábia Belle",
      "photoUrl": "https://lh3.googleusercontent.com/a-/AOh14GgoLe-UgrNos4x-wRynzWo4Mca81Yi6X7B2fRTcUg=s64",
      "userId": "15273515199890451153"
     },
     "user_tz": 180
    },
    "id": "4yzOJnFyHu9S",
    "outputId": "7f69d577-b850-4313-c815-b589fefcd1ca"
   },
   "outputs": [
    {
     "name": "stdout",
     "output_type": "stream",
     "text": [
      "{'C': 0.8444444444444446, 'class_weight': 'balanced', 'multi_class': 'multinomial', 'penalty': 'l2', 'solver': 'lbfgs'}\n",
      "\n",
      "0.6201780415430268\n"
     ]
    }
   ],
   "source": [
    "print(grid_search.best_params_)\n",
    "print(\"\")\n",
    "print(grid_search.best_score_)"
   ]
  },
  {
   "cell_type": "code",
   "execution_count": 10,
   "metadata": {
    "id": "VQm61N-WHu9X"
   },
   "outputs": [
    {
     "data": {
      "text/plain": [
       "LogisticRegression(C=0.8444444444444446, class_weight='balanced',\n",
       "                   multi_class='multinomial', random_state=10)"
      ]
     },
     "execution_count": 10,
     "metadata": {},
     "output_type": "execute_result"
    }
   ],
   "source": [
    "best_lrc = grid_search.best_estimator_\n",
    "\n",
    "best_lrc"
   ]
  },
  {
   "cell_type": "markdown",
   "metadata": {
    "id": "9_E-9sZSHu9l"
   },
   "source": [
    "## Treinamento do modelo e avaliação"
   ]
  },
  {
   "cell_type": "code",
   "execution_count": 11,
   "metadata": {
    "colab": {
     "base_uri": "https://localhost:8080/"
    },
    "executionInfo": {
     "elapsed": 420,
     "status": "ok",
     "timestamp": 1624299078126,
     "user": {
      "displayName": "Sábia Belle",
      "photoUrl": "https://lh3.googleusercontent.com/a-/AOh14GgoLe-UgrNos4x-wRynzWo4Mca81Yi6X7B2fRTcUg=s64",
      "userId": "15273515199890451153"
     },
     "user_tz": 180
    },
    "id": "LyYEknInHu9m",
    "outputId": "07b20bbb-f14f-4361-fb21-a0a290aa4665"
   },
   "outputs": [
    {
     "data": {
      "text/plain": [
       "LogisticRegression(C=0.8444444444444446, class_weight='balanced',\n",
       "                   multi_class='multinomial', random_state=10)"
      ]
     },
     "execution_count": 11,
     "metadata": {},
     "output_type": "execute_result"
    }
   ],
   "source": [
    "best_lrc.fit(features_train, labels_train)"
   ]
  },
  {
   "cell_type": "code",
   "execution_count": 12,
   "metadata": {
    "id": "iLaiqrfvHu9s"
   },
   "outputs": [],
   "source": [
    "lrc_pred = best_lrc.predict(features_test)"
   ]
  },
  {
   "cell_type": "markdown",
   "metadata": {
    "id": "MC3zKNEjHu90"
   },
   "source": [
    "#### Acurácia no treino"
   ]
  },
  {
   "cell_type": "code",
   "execution_count": 13,
   "metadata": {
    "colab": {
     "base_uri": "https://localhost:8080/"
    },
    "executionInfo": {
     "elapsed": 21,
     "status": "ok",
     "timestamp": 1624299078128,
     "user": {
      "displayName": "Sábia Belle",
      "photoUrl": "https://lh3.googleusercontent.com/a-/AOh14GgoLe-UgrNos4x-wRynzWo4Mca81Yi6X7B2fRTcUg=s64",
      "userId": "15273515199890451153"
     },
     "user_tz": 180
    },
    "id": "hAR_kaoEHu91",
    "outputId": "30fd7a1b-d062-441f-df8c-4a213d77f097"
   },
   "outputs": [
    {
     "name": "stdout",
     "output_type": "stream",
     "text": [
      "0.7114159725624694\n"
     ]
    }
   ],
   "source": [
    "print(accuracy_score(labels_train, best_lrc.predict(features_train)))"
   ]
  },
  {
   "cell_type": "markdown",
   "metadata": {
    "id": "uqELqbaZHu98"
   },
   "source": [
    "#### Acurácia no teste"
   ]
  },
  {
   "cell_type": "code",
   "execution_count": 14,
   "metadata": {
    "colab": {
     "base_uri": "https://localhost:8080/"
    },
    "executionInfo": {
     "elapsed": 18,
     "status": "ok",
     "timestamp": 1624299078128,
     "user": {
      "displayName": "Sábia Belle",
      "photoUrl": "https://lh3.googleusercontent.com/a-/AOh14GgoLe-UgrNos4x-wRynzWo4Mca81Yi6X7B2fRTcUg=s64",
      "userId": "15273515199890451153"
     },
     "user_tz": 180
    },
    "id": "bvTleUDqHu99",
    "outputId": "35cff516-a3cb-40b7-a83e-11268d8d11c2"
   },
   "outputs": [
    {
     "name": "stdout",
     "output_type": "stream",
     "text": [
      "0.6415525114155252\n"
     ]
    }
   ],
   "source": [
    "print(accuracy_score(labels_test, lrc_pred))"
   ]
  },
  {
   "cell_type": "markdown",
   "metadata": {
    "id": "mSCGjdyyHu-I"
   },
   "source": [
    "#### Classificação"
   ]
  },
  {
   "cell_type": "code",
   "execution_count": 15,
   "metadata": {
    "colab": {
     "base_uri": "https://localhost:8080/"
    },
    "executionInfo": {
     "elapsed": 17,
     "status": "ok",
     "timestamp": 1624299078129,
     "user": {
      "displayName": "Sábia Belle",
      "photoUrl": "https://lh3.googleusercontent.com/a-/AOh14GgoLe-UgrNos4x-wRynzWo4Mca81Yi6X7B2fRTcUg=s64",
      "userId": "15273515199890451153"
     },
     "user_tz": 180
    },
    "id": "XF6v1uG7Hu-J",
    "outputId": "227a10d3-81fa-4c4c-f1ac-8d60ac8fb9b2"
   },
   "outputs": [
    {
     "name": "stdout",
     "output_type": "stream",
     "text": [
      "              precision    recall  f1-score   support\n",
      "\n",
      "           0       0.63      0.59      0.61       291\n",
      "           1       0.65      0.72      0.68       289\n",
      "           2       0.64      0.61      0.63       296\n",
      "\n",
      "    accuracy                           0.64       876\n",
      "   macro avg       0.64      0.64      0.64       876\n",
      "weighted avg       0.64      0.64      0.64       876\n",
      "\n"
     ]
    }
   ],
   "source": [
    "print(classification_report(labels_test,lrc_pred))"
   ]
  },
  {
   "cell_type": "markdown",
   "metadata": {
    "id": "l4LSCzctHu-N"
   },
   "source": [
    "#### Comparando"
   ]
  },
  {
   "cell_type": "code",
   "execution_count": 16,
   "metadata": {
    "colab": {
     "base_uri": "https://localhost:8080/"
    },
    "executionInfo": {
     "elapsed": 277,
     "status": "ok",
     "timestamp": 1624299078394,
     "user": {
      "displayName": "Sábia Belle",
      "photoUrl": "https://lh3.googleusercontent.com/a-/AOh14GgoLe-UgrNos4x-wRynzWo4Mca81Yi6X7B2fRTcUg=s64",
      "userId": "15273515199890451153"
     },
     "user_tz": 180
    },
    "id": "IWVbqrRmHu-W",
    "outputId": "05b5d4f4-505b-4039-adc5-2032da751a16"
   },
   "outputs": [
    {
     "data": {
      "text/plain": [
       "0.639269406392694"
      ]
     },
     "execution_count": 16,
     "metadata": {},
     "output_type": "execute_result"
    }
   ],
   "source": [
    "base_model = LogisticRegression(random_state = 10)\n",
    "base_model.fit(features_train, labels_train)\n",
    "accuracy_score(labels_test, base_model.predict(features_test))"
   ]
  },
  {
   "cell_type": "code",
   "execution_count": 17,
   "metadata": {
    "colab": {
     "base_uri": "https://localhost:8080/"
    },
    "executionInfo": {
     "elapsed": 292,
     "status": "ok",
     "timestamp": 1624299078683,
     "user": {
      "displayName": "Sábia Belle",
      "photoUrl": "https://lh3.googleusercontent.com/a-/AOh14GgoLe-UgrNos4x-wRynzWo4Mca81Yi6X7B2fRTcUg=s64",
      "userId": "15273515199890451153"
     },
     "user_tz": 180
    },
    "id": "-fn69fWBHu-d",
    "outputId": "e108e0f4-8b49-493b-9e9d-244c33c00752"
   },
   "outputs": [
    {
     "data": {
      "text/plain": [
       "0.6415525114155252"
      ]
     },
     "execution_count": 17,
     "metadata": {},
     "output_type": "execute_result"
    }
   ],
   "source": [
    "best_lrc.fit(features_train, labels_train)\n",
    "accuracy_score(labels_test, best_lrc.predict(features_test))"
   ]
  },
  {
   "cell_type": "code",
   "execution_count": 18,
   "metadata": {
    "id": "fwr1YSf9Hu-o"
   },
   "outputs": [],
   "source": [
    "d = {\n",
    "     'Model': 'Logistic Regression',\n",
    "     'Training Set Accuracy': accuracy_score(labels_train, best_lrc.predict(features_train)),\n",
    "     'Test Set Accuracy': accuracy_score(labels_test, lrc_pred)\n",
    "}\n",
    "\n",
    "df_models_lrc = pd.DataFrame(d, index=[0])"
   ]
  },
  {
   "cell_type": "code",
   "execution_count": 19,
   "metadata": {
    "colab": {
     "base_uri": "https://localhost:8080/",
     "height": 80
    },
    "executionInfo": {
     "elapsed": 19,
     "status": "ok",
     "timestamp": 1624299078689,
     "user": {
      "displayName": "Sábia Belle",
      "photoUrl": "https://lh3.googleusercontent.com/a-/AOh14GgoLe-UgrNos4x-wRynzWo4Mca81Yi6X7B2fRTcUg=s64",
      "userId": "15273515199890451153"
     },
     "user_tz": 180
    },
    "id": "xuFYFQlxHu-t",
    "outputId": "0702f0d2-c773-4b61-e645-e9fc69ae2dda"
   },
   "outputs": [
    {
     "data": {
      "text/html": [
       "<div>\n",
       "<style scoped>\n",
       "    .dataframe tbody tr th:only-of-type {\n",
       "        vertical-align: middle;\n",
       "    }\n",
       "\n",
       "    .dataframe tbody tr th {\n",
       "        vertical-align: top;\n",
       "    }\n",
       "\n",
       "    .dataframe thead th {\n",
       "        text-align: right;\n",
       "    }\n",
       "</style>\n",
       "<table border=\"1\" class=\"dataframe\">\n",
       "  <thead>\n",
       "    <tr style=\"text-align: right;\">\n",
       "      <th></th>\n",
       "      <th>Model</th>\n",
       "      <th>Training Set Accuracy</th>\n",
       "      <th>Test Set Accuracy</th>\n",
       "    </tr>\n",
       "  </thead>\n",
       "  <tbody>\n",
       "    <tr>\n",
       "      <th>0</th>\n",
       "      <td>Logistic Regression</td>\n",
       "      <td>0.711416</td>\n",
       "      <td>0.641553</td>\n",
       "    </tr>\n",
       "  </tbody>\n",
       "</table>\n",
       "</div>"
      ],
      "text/plain": [
       "                 Model  Training Set Accuracy  Test Set Accuracy\n",
       "0  Logistic Regression               0.711416           0.641553"
      ]
     },
     "execution_count": 19,
     "metadata": {},
     "output_type": "execute_result"
    }
   ],
   "source": [
    "df_models_lrc"
   ]
  },
  {
   "cell_type": "code",
   "execution_count": 20,
   "metadata": {
    "id": "_1CN0PGEHu-y"
   },
   "outputs": [],
   "source": [
    "with open('Models/best_lrc.pickle', 'wb') as output:\n",
    "    pickle.dump(best_lrc, output)\n",
    "    \n",
    "with open('Models/df_models_lrc.pickle', 'wb') as output:\n",
    "    pickle.dump(df_models_lrc, output)"
   ]
  }
 ],
 "metadata": {
  "colab": {
   "collapsed_sections": [],
   "name": "6. Multinomial LogReg.ipynb",
   "provenance": []
  },
  "kernelspec": {
   "display_name": "Python 3",
   "language": "python",
   "name": "python3"
  },
  "language_info": {
   "codemirror_mode": {
    "name": "ipython",
    "version": 3
   },
   "file_extension": ".py",
   "mimetype": "text/x-python",
   "name": "python",
   "nbconvert_exporter": "python",
   "pygments_lexer": "ipython3",
   "version": "3.9.2"
  }
 },
 "nbformat": 4,
 "nbformat_minor": 4
}
