{
 "cells": [
  {
   "cell_type": "markdown",
   "metadata": {
    "id": "KCzhJQry6JD0"
   },
   "source": [
    "# Tratamento do Texto"
   ]
  },
  {
   "cell_type": "code",
   "execution_count": 1,
   "metadata": {
    "executionInfo": {
     "elapsed": 1499,
     "status": "ok",
     "timestamp": 1624253038520,
     "user": {
      "displayName": "Sábia Belle",
      "photoUrl": "https://lh3.googleusercontent.com/a-/AOh14GgoLe-UgrNos4x-wRynzWo4Mca81Yi6X7B2fRTcUg=s64",
      "userId": "15273515199890451153"
     },
     "user_tz": 180
    },
    "id": "1yZVfD8H6JD4"
   },
   "outputs": [],
   "source": [
    "import pickle\n",
    "import pandas as pd\n",
    "import re\n",
    "import nltk\n",
    "from nltk.corpus import stopwords\n",
    "from nltk.stem import WordNetLemmatizer\n",
    "from sklearn.feature_extraction.text import TfidfVectorizer\n",
    "from sklearn.model_selection import train_test_split\n",
    "from sklearn.feature_selection import chi2\n",
    "import numpy as np\n",
    "import re"
   ]
  },
  {
   "cell_type": "code",
   "execution_count": 2,
   "metadata": {
    "executionInfo": {
     "elapsed": 1489,
     "status": "ok",
     "timestamp": 1624253060899,
     "user": {
      "displayName": "Sábia Belle",
      "photoUrl": "https://lh3.googleusercontent.com/a-/AOh14GgoLe-UgrNos4x-wRynzWo4Mca81Yi6X7B2fRTcUg=s64",
      "userId": "15273515199890451153"
     },
     "user_tz": 180
    },
    "id": "it6_pgQE6JEP"
   },
   "outputs": [],
   "source": [
    "with open('StackOverflow_dataset.pickle', 'rb') as data:\n",
    "    df = pickle.load(data)"
   ]
  },
  {
   "cell_type": "code",
   "execution_count": 3,
   "metadata": {
    "colab": {
     "base_uri": "https://localhost:8080/",
     "height": 304
    },
    "executionInfo": {
     "elapsed": 12,
     "status": "ok",
     "timestamp": 1624253060904,
     "user": {
      "displayName": "Sábia Belle",
      "photoUrl": "https://lh3.googleusercontent.com/a-/AOh14GgoLe-UgrNos4x-wRynzWo4Mca81Yi6X7B2fRTcUg=s64",
      "userId": "15273515199890451153"
     },
     "user_tz": 180
    },
    "id": "LufJtkZo6JEY",
    "outputId": "23ad4f9f-63c0-4026-f825-5ac2cc002f75"
   },
   "outputs": [
    {
     "data": {
      "text/html": [
       "<div>\n",
       "<style scoped>\n",
       "    .dataframe tbody tr th:only-of-type {\n",
       "        vertical-align: middle;\n",
       "    }\n",
       "\n",
       "    .dataframe tbody tr th {\n",
       "        vertical-align: top;\n",
       "    }\n",
       "\n",
       "    .dataframe thead th {\n",
       "        text-align: right;\n",
       "    }\n",
       "</style>\n",
       "<table border=\"1\" class=\"dataframe\">\n",
       "  <thead>\n",
       "    <tr style=\"text-align: right;\">\n",
       "      <th></th>\n",
       "      <th>id</th>\n",
       "      <th>framework</th>\n",
       "      <th>html</th>\n",
       "      <th>sample</th>\n",
       "      <th>title</th>\n",
       "      <th>state</th>\n",
       "      <th>created_at</th>\n",
       "      <th>body</th>\n",
       "      <th>labels</th>\n",
       "      <th>Body_length</th>\n",
       "    </tr>\n",
       "  </thead>\n",
       "  <tbody>\n",
       "    <tr>\n",
       "      <th>0</th>\n",
       "      <td>4</td>\n",
       "      <td>Android</td>\n",
       "      <td>https://github.com/googlesamples/io2014-codela...</td>\n",
       "      <td>googlesamples/io2014-codelabs</td>\n",
       "      <td>The main README file is not about Google I/O n...</td>\n",
       "      <td>closed</td>\n",
       "      <td>2014-07-12 00:11:32</td>\n",
       "      <td>I'm not sure what kind of information we shoul...</td>\n",
       "      <td>bug</td>\n",
       "      <td>108</td>\n",
       "    </tr>\n",
       "    <tr>\n",
       "      <th>1</th>\n",
       "      <td>58</td>\n",
       "      <td>Android</td>\n",
       "      <td>https://github.com/googlesamples/google-servic...</td>\n",
       "      <td>googlesamples/google-services</td>\n",
       "      <td>Android Google Sign-in: When Google account po...</td>\n",
       "      <td>open</td>\n",
       "      <td>2019-11-14 11:45:20</td>\n",
       "      <td>### Step 1: Are you in the right place?\\n\\n  *...</td>\n",
       "      <td>bug</td>\n",
       "      <td>1250</td>\n",
       "    </tr>\n",
       "    <tr>\n",
       "      <th>2</th>\n",
       "      <td>65</td>\n",
       "      <td>Android</td>\n",
       "      <td>https://github.com/googlesamples/google-servic...</td>\n",
       "      <td>googlesamples/google-services</td>\n",
       "      <td>Cancelling google sign in on ios gives wrong e...</td>\n",
       "      <td>closed</td>\n",
       "      <td>2019-10-02 09:40:13</td>\n",
       "      <td>### Describe your environment\\n\\n  * Device: i...</td>\n",
       "      <td>bug</td>\n",
       "      <td>1281</td>\n",
       "    </tr>\n",
       "    <tr>\n",
       "      <th>3</th>\n",
       "      <td>111</td>\n",
       "      <td>Android</td>\n",
       "      <td>https://github.com/googlesamples/google-servic...</td>\n",
       "      <td>googlesamples/google-services</td>\n",
       "      <td>Canceling a Sign in leads to GoogleSignInStatu...</td>\n",
       "      <td>closed</td>\n",
       "      <td>2018-07-16 13:53:20</td>\n",
       "      <td>### Step 1: Are you in the right place?\\n\\nA b...</td>\n",
       "      <td>bug</td>\n",
       "      <td>2169</td>\n",
       "    </tr>\n",
       "    <tr>\n",
       "      <th>4</th>\n",
       "      <td>135</td>\n",
       "      <td>Android</td>\n",
       "      <td>https://github.com/googlesamples/google-servic...</td>\n",
       "      <td>googlesamples/google-services</td>\n",
       "      <td>SignIn Dialog from GoogleSignInClient.getSignI...</td>\n",
       "      <td>open</td>\n",
       "      <td>2017-12-14 18:35:01</td>\n",
       "      <td>When running the sample for SignInClient every...</td>\n",
       "      <td>bug</td>\n",
       "      <td>1056</td>\n",
       "    </tr>\n",
       "  </tbody>\n",
       "</table>\n",
       "</div>"
      ],
      "text/plain": [
       "    id framework                                               html  \\\n",
       "0    4   Android  https://github.com/googlesamples/io2014-codela...   \n",
       "1   58   Android  https://github.com/googlesamples/google-servic...   \n",
       "2   65   Android  https://github.com/googlesamples/google-servic...   \n",
       "3  111   Android  https://github.com/googlesamples/google-servic...   \n",
       "4  135   Android  https://github.com/googlesamples/google-servic...   \n",
       "\n",
       "                          sample  \\\n",
       "0  googlesamples/io2014-codelabs   \n",
       "1  googlesamples/google-services   \n",
       "2  googlesamples/google-services   \n",
       "3  googlesamples/google-services   \n",
       "4  googlesamples/google-services   \n",
       "\n",
       "                                               title   state  \\\n",
       "0  The main README file is not about Google I/O n...  closed   \n",
       "1  Android Google Sign-in: When Google account po...    open   \n",
       "2  Cancelling google sign in on ios gives wrong e...  closed   \n",
       "3  Canceling a Sign in leads to GoogleSignInStatu...  closed   \n",
       "4  SignIn Dialog from GoogleSignInClient.getSignI...    open   \n",
       "\n",
       "            created_at                                               body  \\\n",
       "0  2014-07-12 00:11:32  I'm not sure what kind of information we shoul...   \n",
       "1  2019-11-14 11:45:20  ### Step 1: Are you in the right place?\\n\\n  *...   \n",
       "2  2019-10-02 09:40:13  ### Describe your environment\\n\\n  * Device: i...   \n",
       "3  2018-07-16 13:53:20  ### Step 1: Are you in the right place?\\n\\nA b...   \n",
       "4  2017-12-14 18:35:01  When running the sample for SignInClient every...   \n",
       "\n",
       "  labels  Body_length  \n",
       "0    bug          108  \n",
       "1    bug         1250  \n",
       "2    bug         1281  \n",
       "3    bug         2169  \n",
       "4    bug         1056  "
      ]
     },
     "execution_count": 3,
     "metadata": {},
     "output_type": "execute_result"
    }
   ],
   "source": [
    "df.head()"
   ]
  },
  {
   "cell_type": "code",
   "execution_count": 4,
   "metadata": {
    "executionInfo": {
     "elapsed": 11,
     "status": "ok",
     "timestamp": 1624253060905,
     "user": {
      "displayName": "Sábia Belle",
      "photoUrl": "https://lh3.googleusercontent.com/a-/AOh14GgoLe-UgrNos4x-wRynzWo4Mca81Yi6X7B2fRTcUg=s64",
      "userId": "15273515199890451153"
     },
     "user_tz": 180
    },
    "id": "9JFgOvmV6JEp"
   },
   "outputs": [],
   "source": [
    "#df.loc[1]['body']\n",
    "df['body']=df['title']+df['body']"
   ]
  },
  {
   "cell_type": "code",
   "execution_count": 5,
   "metadata": {
    "colab": {
     "base_uri": "https://localhost:8080/"
    },
    "executionInfo": {
     "elapsed": 11,
     "status": "ok",
     "timestamp": 1624253060906,
     "user": {
      "displayName": "Sábia Belle",
      "photoUrl": "https://lh3.googleusercontent.com/a-/AOh14GgoLe-UgrNos4x-wRynzWo4Mca81Yi6X7B2fRTcUg=s64",
      "userId": "15273515199890451153"
     },
     "user_tz": 180
    },
    "id": "-8JlF8EWdKY5",
    "outputId": "1421594f-18c5-4b38-966c-55ac383d2257"
   },
   "outputs": [
    {
     "data": {
      "text/plain": [
       "0       The main README file is not about Google I/O n...\n",
       "1       Android Google Sign-in: When Google account po...\n",
       "2       Cancelling google sign in on ios gives wrong e...\n",
       "3       Canceling a Sign in leads to GoogleSignInStatu...\n",
       "4       SignIn Dialog from GoogleSignInClient.getSignI...\n",
       "                              ...                        \n",
       "2912    scenario 3 - protect and call web api on azure...\n",
       "2913    OpenLayers and Azure MapsVerify if Azure Maps ...\n",
       "2914    Azure Arc support**Is your feature request rel...\n",
       "2915    Azure Arc support**Is your feature request rel...\n",
       "2916    detectEval() violates CSP when running in a Ch...\n",
       "Name: body, Length: 2917, dtype: object"
      ]
     },
     "execution_count": 5,
     "metadata": {},
     "output_type": "execute_result"
    }
   ],
   "source": [
    "df['body']"
   ]
  },
  {
   "cell_type": "markdown",
   "metadata": {
    "id": "pVp6SXjb6JGd"
   },
   "source": [
    "## Limpar o Texto"
   ]
  },
  {
   "cell_type": "code",
   "execution_count": 6,
   "metadata": {
    "executionInfo": {
     "elapsed": 9,
     "status": "ok",
     "timestamp": 1624253060906,
     "user": {
      "displayName": "Sábia Belle",
      "photoUrl": "https://lh3.googleusercontent.com/a-/AOh14GgoLe-UgrNos4x-wRynzWo4Mca81Yi6X7B2fRTcUg=s64",
      "userId": "15273515199890451153"
     },
     "user_tz": 180
    },
    "id": "r8kCXlKf6JGf"
   },
   "outputs": [
    {
     "name": "stderr",
     "output_type": "stream",
     "text": [
      "<ipython-input-6-b7515069a38e>:4: FutureWarning: The default value of regex will change from True to False in a future version. In addition, single character regular expressions will*not* be treated as literal strings when regex=True.\n",
      "  df['Content_Parsed_1'] = df['Content_Parsed_1'].str.replace(\"*\", \"\")\n"
     ]
    }
   ],
   "source": [
    "df['Content_Parsed_1'] = df['body'].str.replace(\"\\r\", \" \")\n",
    "df['Content_Parsed_1'] = df['Content_Parsed_1'].str.replace(\"\\n\", \" \")\n",
    "df['Content_Parsed_1'] = df['Content_Parsed_1'].str.replace(\"    \", \" \")\n",
    "df['Content_Parsed_1'] = df['Content_Parsed_1'].str.replace(\"*\", \"\")\n",
    "df['Content_Parsed_1'] = df['Content_Parsed_1'].str.replace(\"<p>\", \"\")\n",
    "df['Content_Parsed_1'] = df['Content_Parsed_1'].str.replace(\"</p>\", \"\")\n",
    "df['Content_Parsed_1'] = df['Content_Parsed_1'].str.replace(\"/\", \"\")\n",
    "# df['Content_Parsed_1'] = df['Content_Parsed_1'].replace(regex=r'\\<.*>', value='')\n",
    "\n"
   ]
  },
  {
   "cell_type": "code",
   "execution_count": 7,
   "metadata": {
    "executionInfo": {
     "elapsed": 9,
     "status": "ok",
     "timestamp": 1624253060906,
     "user": {
      "displayName": "Sábia Belle",
      "photoUrl": "https://lh3.googleusercontent.com/a-/AOh14GgoLe-UgrNos4x-wRynzWo4Mca81Yi6X7B2fRTcUg=s64",
      "userId": "15273515199890451153"
     },
     "user_tz": 180
    },
    "id": "p2d1YubE6JG5"
   },
   "outputs": [],
   "source": [
    "df['Content_Parsed_1'] = df['Content_Parsed_1'].str.replace('\"', '')"
   ]
  },
  {
   "cell_type": "markdown",
   "metadata": {
    "id": "J-a0u5mD6JG_"
   },
   "source": [
    "### Maiúsculo para minúsculo"
   ]
  },
  {
   "cell_type": "code",
   "execution_count": 8,
   "metadata": {
    "executionInfo": {
     "elapsed": 10,
     "status": "ok",
     "timestamp": 1624253060908,
     "user": {
      "displayName": "Sábia Belle",
      "photoUrl": "https://lh3.googleusercontent.com/a-/AOh14GgoLe-UgrNos4x-wRynzWo4Mca81Yi6X7B2fRTcUg=s64",
      "userId": "15273515199890451153"
     },
     "user_tz": 180
    },
    "id": "Ql3bS_-U6JHB"
   },
   "outputs": [],
   "source": [
    "df['Content_Parsed_2'] = df['Content_Parsed_1'].str.lower()"
   ]
  },
  {
   "cell_type": "markdown",
   "metadata": {
    "id": "TQlO50yM6JHn"
   },
   "source": [
    "### Retirando pontos"
   ]
  },
  {
   "cell_type": "code",
   "execution_count": 9,
   "metadata": {
    "executionInfo": {
     "elapsed": 392,
     "status": "ok",
     "timestamp": 1624253061290,
     "user": {
      "displayName": "Sábia Belle",
      "photoUrl": "https://lh3.googleusercontent.com/a-/AOh14GgoLe-UgrNos4x-wRynzWo4Mca81Yi6X7B2fRTcUg=s64",
      "userId": "15273515199890451153"
     },
     "user_tz": 180
    },
    "id": "9JztoxUn6JHp"
   },
   "outputs": [
    {
     "name": "stderr",
     "output_type": "stream",
     "text": [
      "<ipython-input-9-cdceb98d92a9>:5: FutureWarning: The default value of regex will change from True to False in a future version. In addition, single character regular expressions will*not* be treated as literal strings when regex=True.\n",
      "  df['Content_Parsed_3'] = df['Content_Parsed_3'].str.replace(punct_sign, '')\n"
     ]
    }
   ],
   "source": [
    "punctuation_signs = list(\"?:!.,;\")\n",
    "df['Content_Parsed_3'] = df['Content_Parsed_2']\n",
    "\n",
    "for punct_sign in punctuation_signs:\n",
    "    df['Content_Parsed_3'] = df['Content_Parsed_3'].str.replace(punct_sign, '')"
   ]
  },
  {
   "cell_type": "markdown",
   "metadata": {
    "id": "WqN_g4DH6JHw"
   },
   "source": [
    "### Removendo pronome de posse"
   ]
  },
  {
   "cell_type": "code",
   "execution_count": 10,
   "metadata": {
    "executionInfo": {
     "elapsed": 4,
     "status": "ok",
     "timestamp": 1624253061291,
     "user": {
      "displayName": "Sábia Belle",
      "photoUrl": "https://lh3.googleusercontent.com/a-/AOh14GgoLe-UgrNos4x-wRynzWo4Mca81Yi6X7B2fRTcUg=s64",
      "userId": "15273515199890451153"
     },
     "user_tz": 180
    },
    "id": "3II2Py8s6JHy"
   },
   "outputs": [],
   "source": [
    "df['Content_Parsed_4'] = df['Content_Parsed_3'].str.replace(\"'s\", \"\")"
   ]
  },
  {
   "cell_type": "markdown",
   "metadata": {
    "id": "DkcX3BqQ6JH6"
   },
   "source": [
    "### Stemming e Lemmatization\n",
    "\n",
    "Desde que aretirada de caracteres feita anteriormente, pode produzir palavras que não existem, usei o processo de lemmatization. "
   ]
  },
  {
   "cell_type": "code",
   "execution_count": 11,
   "metadata": {
    "colab": {
     "base_uri": "https://localhost:8080/"
    },
    "executionInfo": {
     "elapsed": 1360,
     "status": "ok",
     "timestamp": 1624253062648,
     "user": {
      "displayName": "Sábia Belle",
      "photoUrl": "https://lh3.googleusercontent.com/a-/AOh14GgoLe-UgrNos4x-wRynzWo4Mca81Yi6X7B2fRTcUg=s64",
      "userId": "15273515199890451153"
     },
     "user_tz": 180
    },
    "id": "DFaSRdO46JH7",
    "outputId": "a3dfc3f0-59aa-4b00-8fa3-e0fdc26cb747"
   },
   "outputs": [
    {
     "name": "stdout",
     "output_type": "stream",
     "text": [
      "------------------------------------------------------------\n"
     ]
    },
    {
     "name": "stderr",
     "output_type": "stream",
     "text": [
      "[nltk_data] Downloading package punkt to\n",
      "[nltk_data]     C:\\Users\\sabia\\AppData\\Roaming\\nltk_data...\n",
      "[nltk_data]   Package punkt is already up-to-date!\n",
      "[nltk_data] Downloading package wordnet to\n",
      "[nltk_data]     C:\\Users\\sabia\\AppData\\Roaming\\nltk_data...\n",
      "[nltk_data]   Package wordnet is already up-to-date!\n"
     ]
    },
    {
     "data": {
      "text/plain": [
       "True"
      ]
     },
     "execution_count": 11,
     "metadata": {},
     "output_type": "execute_result"
    }
   ],
   "source": [
    "nltk.download('punkt')\n",
    "print(\"------------------------------------------------------------\")\n",
    "nltk.download('wordnet')"
   ]
  },
  {
   "cell_type": "code",
   "execution_count": 12,
   "metadata": {
    "executionInfo": {
     "elapsed": 5,
     "status": "ok",
     "timestamp": 1624253062649,
     "user": {
      "displayName": "Sábia Belle",
      "photoUrl": "https://lh3.googleusercontent.com/a-/AOh14GgoLe-UgrNos4x-wRynzWo4Mca81Yi6X7B2fRTcUg=s64",
      "userId": "15273515199890451153"
     },
     "user_tz": 180
    },
    "id": "A_hNbY3g6JH_"
   },
   "outputs": [],
   "source": [
    "wordnet_lemmatizer = WordNetLemmatizer()"
   ]
  },
  {
   "cell_type": "code",
   "execution_count": 13,
   "metadata": {
    "executionInfo": {
     "elapsed": 4112,
     "status": "ok",
     "timestamp": 1624253066757,
     "user": {
      "displayName": "Sábia Belle",
      "photoUrl": "https://lh3.googleusercontent.com/a-/AOh14GgoLe-UgrNos4x-wRynzWo4Mca81Yi6X7B2fRTcUg=s64",
      "userId": "15273515199890451153"
     },
     "user_tz": 180
    },
    "id": "2HMRrobg6JIK"
   },
   "outputs": [],
   "source": [
    "nrows = len(df)\n",
    "lemmatized_text_list = []\n",
    "\n",
    "for row in range(0, nrows):\n",
    "    \n",
    "    lemmatized_list = []\n",
    "    \n",
    "    text = df.loc[row]['Content_Parsed_4']\n",
    "    text_words = str(text).split(\" \")\n",
    "\n",
    "    for word in text_words:\n",
    "        lemmatized_list.append(wordnet_lemmatizer.lemmatize(word, pos=\"v\"))\n",
    "        \n",
    "    lemmatized_text = \" \".join(lemmatized_list)\n",
    "    \n",
    "    lemmatized_text_list.append(lemmatized_text)"
   ]
  },
  {
   "cell_type": "code",
   "execution_count": 14,
   "metadata": {
    "executionInfo": {
     "elapsed": 21,
     "status": "ok",
     "timestamp": 1624253066760,
     "user": {
      "displayName": "Sábia Belle",
      "photoUrl": "https://lh3.googleusercontent.com/a-/AOh14GgoLe-UgrNos4x-wRynzWo4Mca81Yi6X7B2fRTcUg=s64",
      "userId": "15273515199890451153"
     },
     "user_tz": 180
    },
    "id": "iGga8chJ6JIO"
   },
   "outputs": [],
   "source": [
    "df['Content_Parsed_5'] = lemmatized_text_list"
   ]
  },
  {
   "cell_type": "markdown",
   "metadata": {
    "id": "5Quy7SN26JIZ"
   },
   "source": [
    "Pronomes"
   ]
  },
  {
   "cell_type": "code",
   "execution_count": 15,
   "metadata": {
    "colab": {
     "base_uri": "https://localhost:8080/"
    },
    "executionInfo": {
     "elapsed": 19,
     "status": "ok",
     "timestamp": 1624253066760,
     "user": {
      "displayName": "Sábia Belle",
      "photoUrl": "https://lh3.googleusercontent.com/a-/AOh14GgoLe-UgrNos4x-wRynzWo4Mca81Yi6X7B2fRTcUg=s64",
      "userId": "15273515199890451153"
     },
     "user_tz": 180
    },
    "id": "e4jrimWY6JIa",
    "outputId": "d4d4803e-bee6-4b54-df4a-5b26ea5b0f92"
   },
   "outputs": [
    {
     "name": "stderr",
     "output_type": "stream",
     "text": [
      "[nltk_data] Downloading package stopwords to\n",
      "[nltk_data]     C:\\Users\\sabia\\AppData\\Roaming\\nltk_data...\n",
      "[nltk_data]   Package stopwords is already up-to-date!\n"
     ]
    },
    {
     "data": {
      "text/plain": [
       "True"
      ]
     },
     "execution_count": 15,
     "metadata": {},
     "output_type": "execute_result"
    }
   ],
   "source": [
    "nltk.download('stopwords')"
   ]
  },
  {
   "cell_type": "code",
   "execution_count": 16,
   "metadata": {
    "executionInfo": {
     "elapsed": 18,
     "status": "ok",
     "timestamp": 1624253066761,
     "user": {
      "displayName": "Sábia Belle",
      "photoUrl": "https://lh3.googleusercontent.com/a-/AOh14GgoLe-UgrNos4x-wRynzWo4Mca81Yi6X7B2fRTcUg=s64",
      "userId": "15273515199890451153"
     },
     "user_tz": 180
    },
    "id": "G01Pv8Fq6JIf"
   },
   "outputs": [],
   "source": [
    "stop_words = list(stopwords.words('english'))"
   ]
  },
  {
   "cell_type": "code",
   "execution_count": 17,
   "metadata": {
    "executionInfo": {
     "elapsed": 13063,
     "status": "ok",
     "timestamp": 1624253079807,
     "user": {
      "displayName": "Sábia Belle",
      "photoUrl": "https://lh3.googleusercontent.com/a-/AOh14GgoLe-UgrNos4x-wRynzWo4Mca81Yi6X7B2fRTcUg=s64",
      "userId": "15273515199890451153"
     },
     "user_tz": 180
    },
    "id": "nab_5ZOm6JIz"
   },
   "outputs": [
    {
     "name": "stderr",
     "output_type": "stream",
     "text": [
      "<ipython-input-17-3b7196a1b53b>:6: FutureWarning: The default value of regex will change from True to False in a future version.\n",
      "  df['Content_Parsed_6'] = df['Content_Parsed_6'].str.replace(regex_stopword, '')\n"
     ]
    }
   ],
   "source": [
    "df['Content_Parsed_6'] = df['Content_Parsed_5']\n",
    "\n",
    "for stop_word in stop_words:\n",
    "\n",
    "    regex_stopword = r\"\\b\" + stop_word + r\"\\b\"\n",
    "    df['Content_Parsed_6'] = df['Content_Parsed_6'].str.replace(regex_stopword, '')"
   ]
  },
  {
   "cell_type": "code",
   "execution_count": 18,
   "metadata": {
    "executionInfo": {
     "elapsed": 21,
     "status": "ok",
     "timestamp": 1624253079808,
     "user": {
      "displayName": "Sábia Belle",
      "photoUrl": "https://lh3.googleusercontent.com/a-/AOh14GgoLe-UgrNos4x-wRynzWo4Mca81Yi6X7B2fRTcUg=s64",
      "userId": "15273515199890451153"
     },
     "user_tz": 180
    },
    "id": "e7sbyKsg6JJ0"
   },
   "outputs": [],
   "source": [
    "list_columns = [\"labels\",\"body\", \"Content_Parsed_6\"] #pegar o titulo \n",
    "df = df[list_columns]\n",
    "\n",
    "df = df.rename(columns={'Content_Parsed_6': 'Content_Parsed'})"
   ]
  },
  {
   "cell_type": "code",
   "execution_count": 19,
   "metadata": {
    "colab": {
     "base_uri": "https://localhost:8080/",
     "height": 203
    },
    "executionInfo": {
     "elapsed": 18,
     "status": "ok",
     "timestamp": 1624253079808,
     "user": {
      "displayName": "Sábia Belle",
      "photoUrl": "https://lh3.googleusercontent.com/a-/AOh14GgoLe-UgrNos4x-wRynzWo4Mca81Yi6X7B2fRTcUg=s64",
      "userId": "15273515199890451153"
     },
     "user_tz": 180
    },
    "id": "8OAScGWR6JJ3",
    "outputId": "dbed6862-dba2-4a03-c479-5b5d36e67807",
    "scrolled": true
   },
   "outputs": [
    {
     "data": {
      "text/html": [
       "<div>\n",
       "<style scoped>\n",
       "    .dataframe tbody tr th:only-of-type {\n",
       "        vertical-align: middle;\n",
       "    }\n",
       "\n",
       "    .dataframe tbody tr th {\n",
       "        vertical-align: top;\n",
       "    }\n",
       "\n",
       "    .dataframe thead th {\n",
       "        text-align: right;\n",
       "    }\n",
       "</style>\n",
       "<table border=\"1\" class=\"dataframe\">\n",
       "  <thead>\n",
       "    <tr style=\"text-align: right;\">\n",
       "      <th></th>\n",
       "      <th>labels</th>\n",
       "      <th>body</th>\n",
       "      <th>Content_Parsed</th>\n",
       "    </tr>\n",
       "  </thead>\n",
       "  <tbody>\n",
       "    <tr>\n",
       "      <th>0</th>\n",
       "      <td>bug</td>\n",
       "      <td>The main README file is not about Google I/O n...</td>\n",
       "      <td>main readme file    google io  code labsi'  s...</td>\n",
       "    </tr>\n",
       "    <tr>\n",
       "      <th>1</th>\n",
       "      <td>bug</td>\n",
       "      <td>Android Google Sign-in: When Google account po...</td>\n",
       "      <td>android google sign-  google account popup  se...</td>\n",
       "    </tr>\n",
       "    <tr>\n",
       "      <th>2</th>\n",
       "      <td>bug</td>\n",
       "      <td>Cancelling google sign in on ios gives wrong e...</td>\n",
       "      <td>cancel google sign   ios give wrong error### d...</td>\n",
       "    </tr>\n",
       "    <tr>\n",
       "      <th>3</th>\n",
       "      <td>bug</td>\n",
       "      <td>Canceling a Sign in leads to GoogleSignInStatu...</td>\n",
       "      <td>cancel  sign  lead  googlesigninstatuscodeserr...</td>\n",
       "    </tr>\n",
       "    <tr>\n",
       "      <th>4</th>\n",
       "      <td>bug</td>\n",
       "      <td>SignIn Dialog from GoogleSignInClient.getSignI...</td>\n",
       "      <td>signin dialog  googlesigninclientgetsignininte...</td>\n",
       "    </tr>\n",
       "  </tbody>\n",
       "</table>\n",
       "</div>"
      ],
      "text/plain": [
       "  labels                                               body  \\\n",
       "0    bug  The main README file is not about Google I/O n...   \n",
       "1    bug  Android Google Sign-in: When Google account po...   \n",
       "2    bug  Cancelling google sign in on ios gives wrong e...   \n",
       "3    bug  Canceling a Sign in leads to GoogleSignInStatu...   \n",
       "4    bug  SignIn Dialog from GoogleSignInClient.getSignI...   \n",
       "\n",
       "                                      Content_Parsed  \n",
       "0   main readme file    google io  code labsi'  s...  \n",
       "1  android google sign-  google account popup  se...  \n",
       "2  cancel google sign   ios give wrong error### d...  \n",
       "3  cancel  sign  lead  googlesigninstatuscodeserr...  \n",
       "4  signin dialog  googlesigninclientgetsignininte...  "
      ]
     },
     "execution_count": 19,
     "metadata": {},
     "output_type": "execute_result"
    }
   ],
   "source": [
    "df.head()"
   ]
  },
  {
   "cell_type": "markdown",
   "metadata": {
    "id": "j6PwvzkX6JJ_"
   },
   "source": [
    "## Mapeando as categorias"
   ]
  },
  {
   "cell_type": "code",
   "execution_count": 20,
   "metadata": {
    "executionInfo": {
     "elapsed": 17,
     "status": "ok",
     "timestamp": 1624253079809,
     "user": {
      "displayName": "Sábia Belle",
      "photoUrl": "https://lh3.googleusercontent.com/a-/AOh14GgoLe-UgrNos4x-wRynzWo4Mca81Yi6X7B2fRTcUg=s64",
      "userId": "15273515199890451153"
     },
     "user_tz": 180
    },
    "id": "hwjhPhUO6JKA"
   },
   "outputs": [],
   "source": [
    "category_codes = {\n",
    "    'bug': 0,\n",
    "    'enhancement': 1,\n",
    "    'question': 2,\n",
    "}\n",
    "#categorias vou por aqui"
   ]
  },
  {
   "cell_type": "code",
   "execution_count": 21,
   "metadata": {
    "executionInfo": {
     "elapsed": 17,
     "status": "ok",
     "timestamp": 1624253079809,
     "user": {
      "displayName": "Sábia Belle",
      "photoUrl": "https://lh3.googleusercontent.com/a-/AOh14GgoLe-UgrNos4x-wRynzWo4Mca81Yi6X7B2fRTcUg=s64",
      "userId": "15273515199890451153"
     },
     "user_tz": 180
    },
    "id": "8nwkB3Wd6JKE"
   },
   "outputs": [],
   "source": [
    "df['Category_Code'] = df['labels']\n",
    "df = df.replace({'Category_Code':category_codes})"
   ]
  },
  {
   "cell_type": "markdown",
   "metadata": {
    "id": "KvIRf24h6JKS"
   },
   "source": [
    "## Divisão de treino e teste"
   ]
  },
  {
   "cell_type": "code",
   "execution_count": 22,
   "metadata": {
    "executionInfo": {
     "elapsed": 16,
     "status": "ok",
     "timestamp": 1624253079809,
     "user": {
      "displayName": "Sábia Belle",
      "photoUrl": "https://lh3.googleusercontent.com/a-/AOh14GgoLe-UgrNos4x-wRynzWo4Mca81Yi6X7B2fRTcUg=s64",
      "userId": "15273515199890451153"
     },
     "user_tz": 180
    },
    "id": "Q5a_T8dY6JKU"
   },
   "outputs": [],
   "source": [
    "X_train, X_test, y_train, y_test = train_test_split(df['Content_Parsed'], \n",
    "                                                    df['Category_Code'], \n",
    "                                                    test_size=0.30, \n",
    "                                                    random_state=10)"
   ]
  },
  {
   "cell_type": "code",
   "execution_count": 23,
   "metadata": {
    "colab": {
     "base_uri": "https://localhost:8080/"
    },
    "executionInfo": {
     "elapsed": 17,
     "status": "ok",
     "timestamp": 1624253079810,
     "user": {
      "displayName": "Sábia Belle",
      "photoUrl": "https://lh3.googleusercontent.com/a-/AOh14GgoLe-UgrNos4x-wRynzWo4Mca81Yi6X7B2fRTcUg=s64",
      "userId": "15273515199890451153"
     },
     "user_tz": 180
    },
    "id": "2iYOl5LOCsr8",
    "outputId": "bd1eb3df-b9da-489d-9786-466c6491c98b"
   },
   "outputs": [
    {
     "data": {
      "text/plain": [
       "2577    0\n",
       "1054    2\n",
       "1573    0\n",
       "1548    0\n",
       "1717    0\n",
       "       ..\n",
       "2009    2\n",
       "1180    0\n",
       "1344    2\n",
       "527     0\n",
       "1289    2\n",
       "Name: Category_Code, Length: 2041, dtype: int64"
      ]
     },
     "execution_count": 23,
     "metadata": {},
     "output_type": "execute_result"
    }
   ],
   "source": [
    "y_train"
   ]
  },
  {
   "cell_type": "markdown",
   "metadata": {
    "id": "_BMdhG7a6JKY"
   },
   "source": [
    "## Representação do texto"
   ]
  },
  {
   "cell_type": "code",
   "execution_count": 24,
   "metadata": {
    "executionInfo": {
     "elapsed": 15,
     "status": "ok",
     "timestamp": 1624253079810,
     "user": {
      "displayName": "Sábia Belle",
      "photoUrl": "https://lh3.googleusercontent.com/a-/AOh14GgoLe-UgrNos4x-wRynzWo4Mca81Yi6X7B2fRTcUg=s64",
      "userId": "15273515199890451153"
     },
     "user_tz": 180
    },
    "id": "EhqDmqBK6JKx"
   },
   "outputs": [],
   "source": [
    "ngram_range = (1,2)\n",
    "min_df = 10\n",
    "max_df = 1.\n",
    "max_features = 300"
   ]
  },
  {
   "cell_type": "code",
   "execution_count": 25,
   "metadata": {
    "colab": {
     "base_uri": "https://localhost:8080/"
    },
    "executionInfo": {
     "elapsed": 1111,
     "status": "ok",
     "timestamp": 1624253080907,
     "user": {
      "displayName": "Sábia Belle",
      "photoUrl": "https://lh3.googleusercontent.com/a-/AOh14GgoLe-UgrNos4x-wRynzWo4Mca81Yi6X7B2fRTcUg=s64",
      "userId": "15273515199890451153"
     },
     "user_tz": 180
    },
    "id": "DaQENFI16JK1",
    "outputId": "4dd1a90e-da4d-4ead-e142-82fe5a941eb8",
    "scrolled": true
   },
   "outputs": [
    {
     "name": "stdout",
     "output_type": "stream",
     "text": [
      "(2041, 300)\n",
      "(876, 300)\n"
     ]
    }
   ],
   "source": [
    "tfidf = TfidfVectorizer(encoding='utf-8',\n",
    "                        ngram_range=ngram_range,\n",
    "                        stop_words=None,\n",
    "                        lowercase=False,\n",
    "                        max_df=max_df,\n",
    "                        min_df=min_df,\n",
    "                        max_features=max_features,\n",
    "                        norm='l2',\n",
    "                        sublinear_tf=True)\n",
    "                        \n",
    "features_train = tfidf.fit_transform(X_train).toarray()\n",
    "labels_train = y_train\n",
    "print(features_train.shape)\n",
    "\n",
    "features_test = tfidf.transform(X_test).toarray()\n",
    "labels_test = y_test\n",
    "print(features_test.shape)"
   ]
  },
  {
   "cell_type": "code",
   "execution_count": 26,
   "metadata": {
    "colab": {
     "base_uri": "https://localhost:8080/"
    },
    "executionInfo": {
     "elapsed": 8,
     "status": "ok",
     "timestamp": 1624253080908,
     "user": {
      "displayName": "Sábia Belle",
      "photoUrl": "https://lh3.googleusercontent.com/a-/AOh14GgoLe-UgrNos4x-wRynzWo4Mca81Yi6X7B2fRTcUg=s64",
      "userId": "15273515199890451153"
     },
     "user_tz": 180
    },
    "id": "14_FbaTH6JLB",
    "outputId": "4b4313a6-f0e4-4cf8-ceea-ef611159e920"
   },
   "outputs": [
    {
     "name": "stdout",
     "output_type": "stream",
     "text": [
      "# 'bug' labels:\n",
      "  . Most correlated unigrams:\n",
      ". fix\n",
      ". fail\n",
      ". reproduce\n",
      ". chrome\n",
      ". support\n",
      "  . Most correlated bigrams:\n",
      ". step reproduce\n",
      ". expect behavior\n",
      "\n",
      "# 'enhancement' labels:\n",
      "  . Most correlated unigrams:\n",
      ". would\n",
      ". unity\n",
      ". add\n",
      ". error\n",
      ". support\n",
      "  . Most correlated bigrams:\n",
      ". image httpsuser\n",
      ". feature request\n",
      "\n",
      "# 'question' labels:\n",
      "  . Most correlated unigrams:\n",
      ". resolver\n",
      ". get\n",
      ". unity\n",
      ". token\n",
      ". login\n",
      "  . Most correlated bigrams:\n",
      ". google assistant\n",
      ". web app\n",
      "\n"
     ]
    }
   ],
   "source": [
    "from sklearn.feature_selection import chi2\n",
    "import numpy as np\n",
    "\n",
    "for Product, category_id in sorted(category_codes.items()):\n",
    "    features_chi2 = chi2(features_train, labels_train == category_id)\n",
    "    indices = np.argsort(features_chi2[0])\n",
    "    feature_names = np.array(tfidf.get_feature_names())[indices]\n",
    "    unigrams = [v for v in feature_names if len(v.split(' ')) == 1]\n",
    "    bigrams = [v for v in feature_names if len(v.split(' ')) == 2]\n",
    "    print(\"# '{}' labels:\".format(Product))\n",
    "    print(\"  . Most correlated unigrams:\\n. {}\".format('\\n. '.join(unigrams[-5:])))\n",
    "    print(\"  . Most correlated bigrams:\\n. {}\".format('\\n. '.join(bigrams[-2:])))\n",
    "    print(\"\")\n"
   ]
  },
  {
   "cell_type": "code",
   "execution_count": 27,
   "metadata": {
    "executionInfo": {
     "elapsed": 5,
     "status": "ok",
     "timestamp": 1624253080909,
     "user": {
      "displayName": "Sábia Belle",
      "photoUrl": "https://lh3.googleusercontent.com/a-/AOh14GgoLe-UgrNos4x-wRynzWo4Mca81Yi6X7B2fRTcUg=s64",
      "userId": "15273515199890451153"
     },
     "user_tz": 180
    },
    "id": "ITkFn28l6JLW"
   },
   "outputs": [],
   "source": [
    "# X_train\n",
    "with open('Pickles/X_train.pickle', 'wb') as output:\n",
    "    pickle.dump(X_train, output)\n",
    "    \n",
    "# X_test    \n",
    "with open('Pickles/X_test.pickle', 'wb') as output:\n",
    "    pickle.dump(X_test, output)\n",
    "    \n",
    "# y_train\n",
    "with open('Pickles/y_train.pickle', 'wb') as output:\n",
    "    pickle.dump(y_train, output)\n",
    "    \n",
    "# y_test\n",
    "with open('Pickles/y_test.pickle', 'wb') as output:\n",
    "    pickle.dump(y_test, output)\n",
    "    \n",
    "# df\n",
    "with open('Pickles/df.pickle', 'wb') as output:\n",
    "    pickle.dump(df, output)\n",
    "    \n",
    "# features_train\n",
    "with open('Pickles/features_train.pickle', 'wb') as output:\n",
    "    pickle.dump(features_train, output)\n",
    "\n",
    "# labels_train\n",
    "with open('Pickles/labels_train.pickle', 'wb') as output:\n",
    "    pickle.dump(labels_train, output)\n",
    "\n",
    "# features_test\n",
    "with open('Pickles/features_test.pickle', 'wb') as output:\n",
    "    pickle.dump(features_test, output)\n",
    "\n",
    "# labels_test\n",
    "with open('Pickles/labels_test.pickle', 'wb') as output:\n",
    "    pickle.dump(labels_test, output)\n",
    "    \n",
    "# TF-IDF object\n",
    "with open('Pickles/tfidf.pickle', 'wb') as output:\n",
    "    pickle.dump(tfidf, output)"
   ]
  }
 ],
 "metadata": {
  "colab": {
   "collapsed_sections": [],
   "name": "2. Tratamento do Texto.ipynb",
   "provenance": []
  },
  "kernelspec": {
   "display_name": "Python 3",
   "language": "python",
   "name": "python3"
  },
  "language_info": {
   "codemirror_mode": {
    "name": "ipython",
    "version": 3
   },
   "file_extension": ".py",
   "mimetype": "text/x-python",
   "name": "python",
   "nbconvert_exporter": "python",
   "pygments_lexer": "ipython3",
   "version": "3.9.2"
  }
 },
 "nbformat": 4,
 "nbformat_minor": 4
}
