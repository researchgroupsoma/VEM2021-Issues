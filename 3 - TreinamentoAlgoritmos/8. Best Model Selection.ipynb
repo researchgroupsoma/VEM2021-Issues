{
 "cells": [
  {
   "cell_type": "markdown",
   "metadata": {
    "id": "zIfTXcqCAUYz"
   },
   "source": [
    "# Best Model Selection"
   ]
  },
  {
   "cell_type": "code",
   "execution_count": 1,
   "metadata": {
    "id": "2N6h1-duAUY6"
   },
   "outputs": [],
   "source": [
    "import pickle\n",
    "import pandas as pd"
   ]
  },
  {
   "cell_type": "code",
   "execution_count": 2,
   "metadata": {
    "id": "pcea3T7iAUZA"
   },
   "outputs": [],
   "source": [
    "path_pickles = \"Models/\"\n",
    "\n",
    "list_pickles = [\n",
    "    \"df_models_gbc.pickle\",\n",
    "    \"df_models_lrc.pickle\",\n",
    "    \"df_models_mnbc.pickle\",\n",
    "    \"df_models_rfc.pickle\",\n",
    "    \"df_models_svc.pickle\"\n",
    "#se adicionar ou trocar, mudar essa parte do código\n",
    "]\n",
    "\n",
    "df_summary = pd.DataFrame()\n",
    "\n",
    "for pickle_ in list_pickles:\n",
    "    \n",
    "    path = path_pickles + pickle_\n",
    "    \n",
    "    with open(path, 'rb') as data:\n",
    "        df = pickle.load(data)\n",
    "\n",
    "    df_summary = df_summary.append(df)\n",
    "\n",
    "df_summary = df_summary.reset_index().drop('index', axis=1)"
   ]
  },
  {
   "cell_type": "code",
   "execution_count": 3,
   "metadata": {
    "colab": {
     "base_uri": "https://localhost:8080/",
     "height": 204
    },
    "executionInfo": {
     "elapsed": 40437,
     "status": "ok",
     "timestamp": 1595195333671,
     "user": {
      "displayName": "Gabriel Menezes",
      "photoUrl": "https://lh3.googleusercontent.com/a-/AOh14GjYUuuH8zQ8RXHIMSnNeypaXPnqG95-o6VnOfVLGA=s64",
      "userId": "04710021433655722253"
     },
     "user_tz": 240
    },
    "id": "dRzUMCMbAUZL",
    "outputId": "7bd6d4d9-b4c8-4404-ee0f-755e2b5539c3"
   },
   "outputs": [
    {
     "data": {
      "text/html": [
       "<div>\n",
       "<style scoped>\n",
       "    .dataframe tbody tr th:only-of-type {\n",
       "        vertical-align: middle;\n",
       "    }\n",
       "\n",
       "    .dataframe tbody tr th {\n",
       "        vertical-align: top;\n",
       "    }\n",
       "\n",
       "    .dataframe thead th {\n",
       "        text-align: right;\n",
       "    }\n",
       "</style>\n",
       "<table border=\"1\" class=\"dataframe\">\n",
       "  <thead>\n",
       "    <tr style=\"text-align: right;\">\n",
       "      <th></th>\n",
       "      <th>Model</th>\n",
       "      <th>Training Set Accuracy</th>\n",
       "      <th>Test Set Accuracy</th>\n",
       "    </tr>\n",
       "  </thead>\n",
       "  <tbody>\n",
       "    <tr>\n",
       "      <th>0</th>\n",
       "      <td>Gradient Boosting</td>\n",
       "      <td>0.996570</td>\n",
       "      <td>0.615297</td>\n",
       "    </tr>\n",
       "    <tr>\n",
       "      <th>1</th>\n",
       "      <td>Logistic Regression</td>\n",
       "      <td>0.711416</td>\n",
       "      <td>0.641553</td>\n",
       "    </tr>\n",
       "    <tr>\n",
       "      <th>2</th>\n",
       "      <td>Multinomial Naïve Bayes</td>\n",
       "      <td>0.663890</td>\n",
       "      <td>0.633562</td>\n",
       "    </tr>\n",
       "    <tr>\n",
       "      <th>3</th>\n",
       "      <td>Random Forest</td>\n",
       "      <td>0.967663</td>\n",
       "      <td>0.654110</td>\n",
       "    </tr>\n",
       "    <tr>\n",
       "      <th>4</th>\n",
       "      <td>SVM</td>\n",
       "      <td>0.675649</td>\n",
       "      <td>0.638128</td>\n",
       "    </tr>\n",
       "  </tbody>\n",
       "</table>\n",
       "</div>"
      ],
      "text/plain": [
       "                     Model  Training Set Accuracy  Test Set Accuracy\n",
       "0        Gradient Boosting               0.996570           0.615297\n",
       "1      Logistic Regression               0.711416           0.641553\n",
       "2  Multinomial Naïve Bayes               0.663890           0.633562\n",
       "3            Random Forest               0.967663           0.654110\n",
       "4                      SVM               0.675649           0.638128"
      ]
     },
     "execution_count": 3,
     "metadata": {},
     "output_type": "execute_result"
    }
   ],
   "source": [
    "df_summary"
   ]
  },
  {
   "cell_type": "code",
   "execution_count": 4,
   "metadata": {
    "colab": {
     "base_uri": "https://localhost:8080/",
     "height": 204
    },
    "executionInfo": {
     "elapsed": 40426,
     "status": "ok",
     "timestamp": 1595195333672,
     "user": {
      "displayName": "Gabriel Menezes",
      "photoUrl": "https://lh3.googleusercontent.com/a-/AOh14GjYUuuH8zQ8RXHIMSnNeypaXPnqG95-o6VnOfVLGA=s64",
      "userId": "04710021433655722253"
     },
     "user_tz": 240
    },
    "id": "XCZX1wpZAUZT",
    "outputId": "29f2fb8e-fbab-42ce-9a12-cc9b740a38c3"
   },
   "outputs": [
    {
     "data": {
      "text/html": [
       "<div>\n",
       "<style scoped>\n",
       "    .dataframe tbody tr th:only-of-type {\n",
       "        vertical-align: middle;\n",
       "    }\n",
       "\n",
       "    .dataframe tbody tr th {\n",
       "        vertical-align: top;\n",
       "    }\n",
       "\n",
       "    .dataframe thead th {\n",
       "        text-align: right;\n",
       "    }\n",
       "</style>\n",
       "<table border=\"1\" class=\"dataframe\">\n",
       "  <thead>\n",
       "    <tr style=\"text-align: right;\">\n",
       "      <th></th>\n",
       "      <th>Model</th>\n",
       "      <th>Training Set Accuracy</th>\n",
       "      <th>Test Set Accuracy</th>\n",
       "    </tr>\n",
       "  </thead>\n",
       "  <tbody>\n",
       "    <tr>\n",
       "      <th>3</th>\n",
       "      <td>Random Forest</td>\n",
       "      <td>0.967663</td>\n",
       "      <td>0.654110</td>\n",
       "    </tr>\n",
       "    <tr>\n",
       "      <th>1</th>\n",
       "      <td>Logistic Regression</td>\n",
       "      <td>0.711416</td>\n",
       "      <td>0.641553</td>\n",
       "    </tr>\n",
       "    <tr>\n",
       "      <th>4</th>\n",
       "      <td>SVM</td>\n",
       "      <td>0.675649</td>\n",
       "      <td>0.638128</td>\n",
       "    </tr>\n",
       "    <tr>\n",
       "      <th>2</th>\n",
       "      <td>Multinomial Naïve Bayes</td>\n",
       "      <td>0.663890</td>\n",
       "      <td>0.633562</td>\n",
       "    </tr>\n",
       "    <tr>\n",
       "      <th>0</th>\n",
       "      <td>Gradient Boosting</td>\n",
       "      <td>0.996570</td>\n",
       "      <td>0.615297</td>\n",
       "    </tr>\n",
       "  </tbody>\n",
       "</table>\n",
       "</div>"
      ],
      "text/plain": [
       "                     Model  Training Set Accuracy  Test Set Accuracy\n",
       "3            Random Forest               0.967663           0.654110\n",
       "1      Logistic Regression               0.711416           0.641553\n",
       "4                      SVM               0.675649           0.638128\n",
       "2  Multinomial Naïve Bayes               0.663890           0.633562\n",
       "0        Gradient Boosting               0.996570           0.615297"
      ]
     },
     "execution_count": 4,
     "metadata": {},
     "output_type": "execute_result"
    }
   ],
   "source": [
    "df_summary.sort_values('Test Set Accuracy', ascending=False)"
   ]
  }
 ],
 "metadata": {
  "colab": {
   "name": "8. Best Model Selection.ipynb",
   "provenance": []
  },
  "kernelspec": {
   "display_name": "Python 3",
   "language": "python",
   "name": "python3"
  },
  "language_info": {
   "codemirror_mode": {
    "name": "ipython",
    "version": 3
   },
   "file_extension": ".py",
   "mimetype": "text/x-python",
   "name": "python",
   "nbconvert_exporter": "python",
   "pygments_lexer": "ipython3",
   "version": "3.9.2"
  }
 },
 "nbformat": 4,
 "nbformat_minor": 4
}
