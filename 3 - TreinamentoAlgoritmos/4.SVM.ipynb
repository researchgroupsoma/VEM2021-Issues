{
 "cells": [
  {
   "cell_type": "markdown",
   "metadata": {
    "id": "oT9TODneF0DC"
   },
   "source": [
    "# Support Vector Machine"
   ]
  },
  {
   "cell_type": "code",
   "execution_count": 1,
   "metadata": {
    "id": "fOYTbNUsF0DE"
   },
   "outputs": [],
   "source": [
    "import pickle\n",
    "import numpy as np\n",
    "from sklearn.feature_extraction.text import TfidfVectorizer\n",
    "from sklearn import svm\n",
    "from pprint import pprint\n",
    "from sklearn.model_selection import RandomizedSearchCV\n",
    "from sklearn.model_selection import GridSearchCV\n",
    "from sklearn.metrics import classification_report, confusion_matrix, accuracy_score\n",
    "from sklearn.model_selection import ShuffleSplit\n",
    "import matplotlib.pyplot as plt\n",
    "import seaborn as sns\n",
    "import pandas as pd"
   ]
  },
  {
   "cell_type": "code",
   "execution_count": 2,
   "metadata": {
    "id": "rUlAROopF0DS"
   },
   "outputs": [],
   "source": [
    "# Dataframe\n",
    "path_df = \"Pickles/df.pickle\"\n",
    "with open(path_df, 'rb') as data:\n",
    "    df = pickle.load(data)\n",
    "\n",
    "# features_train\n",
    "path_features_train = \"Pickles/features_train.pickle\"\n",
    "with open(path_features_train, 'rb') as data:\n",
    "    features_train = pickle.load(data)\n",
    "\n",
    "# labels_train\n",
    "path_labels_train = \"Pickles/labels_train.pickle\"\n",
    "with open(path_labels_train, 'rb') as data:\n",
    "    labels_train = pickle.load(data)\n",
    "\n",
    "# features_test\n",
    "path_features_test = \"Pickles/features_test.pickle\"\n",
    "with open(path_features_test, 'rb') as data:\n",
    "    features_test = pickle.load(data)\n",
    "\n",
    "# labels_test\n",
    "path_labels_test = \"Pickles/labels_test.pickle\"\n",
    "with open(path_labels_test, 'rb') as data:\n",
    "    labels_test = pickle.load(data)"
   ]
  },
  {
   "cell_type": "code",
   "execution_count": 3,
   "metadata": {
    "colab": {
     "base_uri": "https://localhost:8080/"
    },
    "executionInfo": {
     "elapsed": 19,
     "status": "ok",
     "timestamp": 1624296929692,
     "user": {
      "displayName": "Sábia Belle",
      "photoUrl": "https://lh3.googleusercontent.com/a-/AOh14GgoLe-UgrNos4x-wRynzWo4Mca81Yi6X7B2fRTcUg=s64",
      "userId": "15273515199890451153"
     },
     "user_tz": 180
    },
    "id": "vLjPRjNrF0DZ",
    "outputId": "eea3721b-6130-49af-b5a5-ea5b467e0f4b"
   },
   "outputs": [
    {
     "name": "stdout",
     "output_type": "stream",
     "text": [
      "(2041, 300)\n",
      "(876, 300)\n"
     ]
    }
   ],
   "source": [
    "print(features_train.shape)\n",
    "print(features_test.shape)"
   ]
  },
  {
   "cell_type": "markdown",
   "metadata": {
    "id": "jow1M7d7F0Di"
   },
   "source": [
    "## Cross-Validation for Hyperparameter tuning"
   ]
  },
  {
   "cell_type": "code",
   "execution_count": 4,
   "metadata": {
    "colab": {
     "base_uri": "https://localhost:8080/"
    },
    "executionInfo": {
     "elapsed": 17,
     "status": "ok",
     "timestamp": 1624296929692,
     "user": {
      "displayName": "Sábia Belle",
      "photoUrl": "https://lh3.googleusercontent.com/a-/AOh14GgoLe-UgrNos4x-wRynzWo4Mca81Yi6X7B2fRTcUg=s64",
      "userId": "15273515199890451153"
     },
     "user_tz": 180
    },
    "id": "ZwtIXLVbF0Dk",
    "outputId": "82767f9f-d684-4c72-d2ad-dd40c06cc842"
   },
   "outputs": [
    {
     "name": "stdout",
     "output_type": "stream",
     "text": [
      "Parameters currently in use:\n",
      "\n",
      "{'C': 1.0,\n",
      " 'break_ties': False,\n",
      " 'cache_size': 200,\n",
      " 'class_weight': None,\n",
      " 'coef0': 0.0,\n",
      " 'decision_function_shape': 'ovr',\n",
      " 'degree': 3,\n",
      " 'gamma': 'scale',\n",
      " 'kernel': 'rbf',\n",
      " 'max_iter': -1,\n",
      " 'probability': False,\n",
      " 'random_state': 10,\n",
      " 'shrinking': True,\n",
      " 'tol': 0.001,\n",
      " 'verbose': False}\n"
     ]
    }
   ],
   "source": [
    "svc_0 =svm.SVC(random_state=10)\n",
    "\n",
    "print('Parameters currently in use:\\n')\n",
    "pprint(svc_0.get_params())"
   ]
  },
  {
   "cell_type": "markdown",
   "metadata": {
    "id": "6nyMjb1nF0Dq"
   },
   "source": [
    "### Randomized Search Cross Validation"
   ]
  },
  {
   "cell_type": "code",
   "execution_count": 5,
   "metadata": {
    "colab": {
     "base_uri": "https://localhost:8080/"
    },
    "executionInfo": {
     "elapsed": 16,
     "status": "ok",
     "timestamp": 1624296929693,
     "user": {
      "displayName": "Sábia Belle",
      "photoUrl": "https://lh3.googleusercontent.com/a-/AOh14GgoLe-UgrNos4x-wRynzWo4Mca81Yi6X7B2fRTcUg=s64",
      "userId": "15273515199890451153"
     },
     "user_tz": 180
    },
    "id": "UbnWABjiF0Dx",
    "outputId": "bb159d61-7b3f-4317-a75e-ee01ffc061f5"
   },
   "outputs": [
    {
     "name": "stdout",
     "output_type": "stream",
     "text": [
      "{'C': [0.0001, 0.001, 0.01],\n",
      " 'degree': [1, 2, 3, 4, 5],\n",
      " 'gamma': [0.0001, 0.001, 0.01, 0.1, 1, 10, 100],\n",
      " 'kernel': ['linear', 'rbf', 'poly'],\n",
      " 'probability': [True]}\n"
     ]
    }
   ],
   "source": [
    "# C\n",
    "C = [.0001, .001, .01]\n",
    "\n",
    "# gamma\n",
    "gamma = [.0001, .001, .01, .1, 1, 10, 100]\n",
    "\n",
    "# degree\n",
    "degree = [1, 2, 3, 4, 5]\n",
    "\n",
    "# kernel\n",
    "kernel = ['linear', 'rbf', 'poly']\n",
    "\n",
    "# probability\n",
    "probability = [True]\n",
    "\n",
    "# Create the random grid\n",
    "random_grid = {'C': C,\n",
    "              'kernel': kernel,\n",
    "              'gamma': gamma,\n",
    "              'degree': degree,\n",
    "              'probability': probability\n",
    "             }\n",
    "\n",
    "pprint(random_grid)"
   ]
  },
  {
   "cell_type": "markdown",
   "metadata": {
    "id": "N4KNBp5xF0D7"
   },
   "source": [
    "Then, we'll perform the Random Search:"
   ]
  },
  {
   "cell_type": "code",
   "execution_count": 6,
   "metadata": {
    "colab": {
     "base_uri": "https://localhost:8080/"
    },
    "executionInfo": {
     "elapsed": 639035,
     "status": "ok",
     "timestamp": 1624297568714,
     "user": {
      "displayName": "Sábia Belle",
      "photoUrl": "https://lh3.googleusercontent.com/a-/AOh14GgoLe-UgrNos4x-wRynzWo4Mca81Yi6X7B2fRTcUg=s64",
      "userId": "15273515199890451153"
     },
     "user_tz": 180
    },
    "id": "T0Wgx2kIF0D7",
    "outputId": "f6915be4-9a70-4a75-f6a6-5adc818c4553"
   },
   "outputs": [
    {
     "name": "stdout",
     "output_type": "stream",
     "text": [
      "Fitting 5 folds for each of 50 candidates, totalling 250 fits\n"
     ]
    },
    {
     "data": {
      "text/plain": [
       "RandomizedSearchCV(cv=5, estimator=SVC(random_state=10), n_iter=50,\n",
       "                   param_distributions={'C': [0.0001, 0.001, 0.01],\n",
       "                                        'degree': [1, 2, 3, 4, 5],\n",
       "                                        'gamma': [0.0001, 0.001, 0.01, 0.1, 1,\n",
       "                                                  10, 100],\n",
       "                                        'kernel': ['linear', 'rbf', 'poly'],\n",
       "                                        'probability': [True]},\n",
       "                   random_state=10, scoring='accuracy', verbose=1)"
      ]
     },
     "execution_count": 6,
     "metadata": {},
     "output_type": "execute_result"
    }
   ],
   "source": [
    "# First create the base model to tune\n",
    "svc = svm.SVC(random_state=10)\n",
    "\n",
    "random_search = RandomizedSearchCV(estimator=svc,\n",
    "                                   param_distributions=random_grid,\n",
    "                                   n_iter=50,\n",
    "                                   scoring='accuracy',\n",
    "                                   cv=5, \n",
    "                                   verbose=1, \n",
    "                                   random_state=10)\n",
    "\n",
    "random_search.fit(features_train, labels_train)"
   ]
  },
  {
   "cell_type": "code",
   "execution_count": 7,
   "metadata": {
    "colab": {
     "base_uri": "https://localhost:8080/"
    },
    "executionInfo": {
     "elapsed": 12,
     "status": "ok",
     "timestamp": 1624297568715,
     "user": {
      "displayName": "Sábia Belle",
      "photoUrl": "https://lh3.googleusercontent.com/a-/AOh14GgoLe-UgrNos4x-wRynzWo4Mca81Yi6X7B2fRTcUg=s64",
      "userId": "15273515199890451153"
     },
     "user_tz": 180
    },
    "id": "JQt0j_5GF0EG",
    "outputId": "fb94354e-7194-4b37-bf74-3ed5dd0e9513"
   },
   "outputs": [
    {
     "name": "stdout",
     "output_type": "stream",
     "text": [
      "The best hyperparameters from Random Search are:\n",
      "{'probability': True, 'kernel': 'poly', 'gamma': 10, 'degree': 3, 'C': 0.001}\n",
      "\n",
      "The mean accuracy of a model with these hyperparameters is:\n",
      "0.6207752049475046\n"
     ]
    }
   ],
   "source": [
    "print(\"The best hyperparameters from Random Search are:\")\n",
    "print(random_search.best_params_)\n",
    "print(\"\")\n",
    "print(\"The mean accuracy of a model with these hyperparameters is:\")\n",
    "print(random_search.best_score_)"
   ]
  },
  {
   "cell_type": "markdown",
   "metadata": {
    "id": "bsf8YeVLF0EP"
   },
   "source": [
    "### Grid Search Cross Validation"
   ]
  },
  {
   "cell_type": "code",
   "execution_count": 8,
   "metadata": {
    "colab": {
     "base_uri": "https://localhost:8080/"
    },
    "executionInfo": {
     "elapsed": 368483,
     "status": "ok",
     "timestamp": 1624297937192,
     "user": {
      "displayName": "Sábia Belle",
      "photoUrl": "https://lh3.googleusercontent.com/a-/AOh14GgoLe-UgrNos4x-wRynzWo4Mca81Yi6X7B2fRTcUg=s64",
      "userId": "15273515199890451153"
     },
     "user_tz": 180
    },
    "id": "mkAFdQ0CF0EQ",
    "outputId": "59d91002-fe44-42eb-d80a-3c04c6a7ff51"
   },
   "outputs": [
    {
     "name": "stdout",
     "output_type": "stream",
     "text": [
      "Fitting 3 folds for each of 28 candidates, totalling 84 fits\n"
     ]
    },
    {
     "data": {
      "text/plain": [
       "GridSearchCV(cv=ShuffleSplit(n_splits=3, random_state=10, test_size=0.33, train_size=None),\n",
       "             estimator=SVC(random_state=10),\n",
       "             param_grid=[{'C': [0.0001, 0.001, 0.01, 0.1], 'kernel': ['linear'],\n",
       "                          'probability': [True]},\n",
       "                         {'C': [0.0001, 0.001, 0.01, 0.1], 'degree': [3, 4, 5],\n",
       "                          'kernel': ['poly'], 'probability': [True]},\n",
       "                         {'C': [0.0001, 0.001, 0.01, 0.1],\n",
       "                          'gamma': [1, 10, 100], 'kernel': ['rbf'],\n",
       "                          'probability': [True]}],\n",
       "             scoring='accuracy', verbose=1)"
      ]
     },
     "execution_count": 8,
     "metadata": {},
     "output_type": "execute_result"
    }
   ],
   "source": [
    "C = [.0001, .001, .01, .1]\n",
    "degree = [3, 4, 5]\n",
    "gamma = [1, 10, 100]\n",
    "probability = [True]\n",
    "\n",
    "param_grid = [\n",
    "  {'C': C, 'kernel':['linear'], 'probability':probability},\n",
    "  {'C': C, 'kernel':['poly'], 'degree':degree, 'probability':probability},\n",
    "  {'C': C, 'kernel':['rbf'], 'gamma':gamma, 'probability':probability}\n",
    "]\n",
    "\n",
    "svc = svm.SVC(random_state=10)\n",
    "\n",
    "cv_sets = ShuffleSplit(n_splits = 3, test_size = .33, random_state = 10)\n",
    "\n",
    "grid_search = GridSearchCV(estimator=svc, \n",
    "                           param_grid=param_grid,\n",
    "                           scoring='accuracy',\n",
    "                           cv=cv_sets,\n",
    "                           verbose=1)\n",
    "\n",
    "grid_search.fit(features_train, labels_train)"
   ]
  },
  {
   "cell_type": "code",
   "execution_count": 9,
   "metadata": {
    "colab": {
     "base_uri": "https://localhost:8080/"
    },
    "executionInfo": {
     "elapsed": 16,
     "status": "ok",
     "timestamp": 1624297937193,
     "user": {
      "displayName": "Sábia Belle",
      "photoUrl": "https://lh3.googleusercontent.com/a-/AOh14GgoLe-UgrNos4x-wRynzWo4Mca81Yi6X7B2fRTcUg=s64",
      "userId": "15273515199890451153"
     },
     "user_tz": 180
    },
    "id": "_tsP8pBfF0EV",
    "outputId": "d3184467-b11b-44d8-80f2-f89fc7757429",
    "scrolled": true
   },
   "outputs": [
    {
     "name": "stdout",
     "output_type": "stream",
     "text": [
      "The best hyperparameters from Grid Search are:\n",
      "{'C': 0.1, 'kernel': 'linear', 'probability': True}\n",
      "\n",
      "The mean accuracy of a model with these hyperparameters is:\n",
      "0.6196834817012858\n"
     ]
    }
   ],
   "source": [
    "print(\"The best hyperparameters from Grid Search are:\")\n",
    "print(grid_search.best_params_)\n",
    "print(\"\")\n",
    "print(\"The mean accuracy of a model with these hyperparameters is:\")\n",
    "print(grid_search.best_score_)"
   ]
  },
  {
   "cell_type": "code",
   "execution_count": 10,
   "metadata": {
    "id": "cNbLDk8XF0Ea"
   },
   "outputs": [],
   "source": [
    "best_svc = grid_search.best_estimator_"
   ]
  },
  {
   "cell_type": "code",
   "execution_count": 11,
   "metadata": {
    "colab": {
     "base_uri": "https://localhost:8080/"
    },
    "executionInfo": {
     "elapsed": 12,
     "status": "ok",
     "timestamp": 1624297937193,
     "user": {
      "displayName": "Sábia Belle",
      "photoUrl": "https://lh3.googleusercontent.com/a-/AOh14GgoLe-UgrNos4x-wRynzWo4Mca81Yi6X7B2fRTcUg=s64",
      "userId": "15273515199890451153"
     },
     "user_tz": 180
    },
    "id": "_UAWObHtF0Eh",
    "outputId": "30ec172b-27f9-421f-a194-fb6dc3553d1c"
   },
   "outputs": [
    {
     "data": {
      "text/plain": [
       "SVC(C=0.1, kernel='linear', probability=True, random_state=10)"
      ]
     },
     "execution_count": 11,
     "metadata": {},
     "output_type": "execute_result"
    }
   ],
   "source": [
    "best_svc"
   ]
  },
  {
   "cell_type": "markdown",
   "metadata": {
    "id": "nIjAD93yF0En"
   },
   "source": [
    "## Model fit and performance"
   ]
  },
  {
   "cell_type": "code",
   "execution_count": 12,
   "metadata": {
    "colab": {
     "base_uri": "https://localhost:8080/"
    },
    "executionInfo": {
     "elapsed": 7802,
     "status": "ok",
     "timestamp": 1624297944985,
     "user": {
      "displayName": "Sábia Belle",
      "photoUrl": "https://lh3.googleusercontent.com/a-/AOh14GgoLe-UgrNos4x-wRynzWo4Mca81Yi6X7B2fRTcUg=s64",
      "userId": "15273515199890451153"
     },
     "user_tz": 180
    },
    "id": "di686oTSF0Eo",
    "outputId": "1c98fc0e-6498-4a1f-f3a2-d431c8f1a473"
   },
   "outputs": [
    {
     "data": {
      "text/plain": [
       "SVC(C=0.1, kernel='linear', probability=True, random_state=10)"
      ]
     },
     "execution_count": 12,
     "metadata": {},
     "output_type": "execute_result"
    }
   ],
   "source": [
    "best_svc.fit(features_train, labels_train)"
   ]
  },
  {
   "cell_type": "code",
   "execution_count": 13,
   "metadata": {
    "id": "xKBso4J1F0Ez"
   },
   "outputs": [],
   "source": [
    "svc_pred = best_svc.predict(features_test)"
   ]
  },
  {
   "cell_type": "markdown",
   "metadata": {
    "id": "0UpcyfTTF0E5"
   },
   "source": [
    "#### Training accuracy"
   ]
  },
  {
   "cell_type": "code",
   "execution_count": 14,
   "metadata": {
    "colab": {
     "base_uri": "https://localhost:8080/"
    },
    "executionInfo": {
     "elapsed": 1002,
     "status": "ok",
     "timestamp": 1624297946444,
     "user": {
      "displayName": "Sábia Belle",
      "photoUrl": "https://lh3.googleusercontent.com/a-/AOh14GgoLe-UgrNos4x-wRynzWo4Mca81Yi6X7B2fRTcUg=s64",
      "userId": "15273515199890451153"
     },
     "user_tz": 180
    },
    "id": "xn85yzk6F0E7",
    "outputId": "a30f5ab7-c21d-468b-987e-903da5ca44be"
   },
   "outputs": [
    {
     "name": "stdout",
     "output_type": "stream",
     "text": [
      "The training accuracy is: \n",
      "0.6756491915727585\n"
     ]
    }
   ],
   "source": [
    "# Training accuracy\n",
    "print(\"The training accuracy is: \")\n",
    "print(accuracy_score(labels_train, best_svc.predict(features_train)))"
   ]
  },
  {
   "cell_type": "markdown",
   "metadata": {
    "id": "bBKw3-moF0FF"
   },
   "source": [
    "#### Test accuracy"
   ]
  },
  {
   "cell_type": "code",
   "execution_count": 15,
   "metadata": {
    "colab": {
     "base_uri": "https://localhost:8080/"
    },
    "executionInfo": {
     "elapsed": 7,
     "status": "ok",
     "timestamp": 1624297946445,
     "user": {
      "displayName": "Sábia Belle",
      "photoUrl": "https://lh3.googleusercontent.com/a-/AOh14GgoLe-UgrNos4x-wRynzWo4Mca81Yi6X7B2fRTcUg=s64",
      "userId": "15273515199890451153"
     },
     "user_tz": 180
    },
    "id": "fEZNN4MYF0FG",
    "outputId": "c9225d3a-630e-4d59-a672-b3c0fa34cac4"
   },
   "outputs": [
    {
     "name": "stdout",
     "output_type": "stream",
     "text": [
      "The test accuracy is: \n",
      "0.6381278538812786\n"
     ]
    }
   ],
   "source": [
    "# Test accuracy\n",
    "print(\"The test accuracy is: \")\n",
    "print(accuracy_score(labels_test, svc_pred))"
   ]
  },
  {
   "cell_type": "markdown",
   "metadata": {
    "id": "fu-XTagsF0FN"
   },
   "source": [
    "#### Classification report"
   ]
  },
  {
   "cell_type": "code",
   "execution_count": 16,
   "metadata": {
    "colab": {
     "base_uri": "https://localhost:8080/"
    },
    "executionInfo": {
     "elapsed": 5,
     "status": "ok",
     "timestamp": 1624297946445,
     "user": {
      "displayName": "Sábia Belle",
      "photoUrl": "https://lh3.googleusercontent.com/a-/AOh14GgoLe-UgrNos4x-wRynzWo4Mca81Yi6X7B2fRTcUg=s64",
      "userId": "15273515199890451153"
     },
     "user_tz": 180
    },
    "id": "gqYuW1jtF0FO",
    "outputId": "66d46e5a-ea12-41db-eeb3-27f376503f58"
   },
   "outputs": [
    {
     "name": "stdout",
     "output_type": "stream",
     "text": [
      "Classification report\n",
      "              precision    recall  f1-score   support\n",
      "\n",
      "           0       0.61      0.60      0.61       291\n",
      "           1       0.66      0.71      0.68       289\n",
      "           2       0.64      0.60      0.62       296\n",
      "\n",
      "    accuracy                           0.64       876\n",
      "   macro avg       0.64      0.64      0.64       876\n",
      "weighted avg       0.64      0.64      0.64       876\n",
      "\n"
     ]
    }
   ],
   "source": [
    "# Classification report\n",
    "print(\"Classification report\")\n",
    "print(classification_report(labels_test,svc_pred))"
   ]
  },
  {
   "cell_type": "markdown",
   "metadata": {
    "id": "k0RmmcgoF0FV"
   },
   "source": [
    "#### Confusion matrix"
   ]
  },
  {
   "cell_type": "code",
   "execution_count": 17,
   "metadata": {
    "colab": {
     "base_uri": "https://localhost:8080/",
     "height": 404
    },
    "executionInfo": {
     "elapsed": 395,
     "status": "ok",
     "timestamp": 1624298390179,
     "user": {
      "displayName": "Sábia Belle",
      "photoUrl": "https://lh3.googleusercontent.com/a-/AOh14GgoLe-UgrNos4x-wRynzWo4Mca81Yi6X7B2fRTcUg=s64",
      "userId": "15273515199890451153"
     },
     "user_tz": 180
    },
    "id": "VOFjmJj_F0FW",
    "outputId": "d3508ac9-4336-4a53-8151-2a911aaa05d3"
   },
   "outputs": [
    {
     "data": {
      "image/png": "[encoded data removed]",
      "text/plain": [
       "<Figure size 921.6x432 with 2 Axes>"
      ]
     },
     "metadata": {
      "needs_background": "light"
     },
     "output_type": "display_data"
    }
   ],
   "source": [
    "aux_df = df[['labels', 'Category_Code']].drop_duplicates().sort_values('Category_Code')\n",
    "conf_matrix = confusion_matrix(labels_test, svc_pred)\n",
    "plt.figure(figsize=(12.8,6))\n",
    "sns.heatmap(conf_matrix, \n",
    "            annot=True,\n",
    "            xticklabels=aux_df['labels'].values, \n",
    "            yticklabels=aux_df['labels'].values,\n",
    "            cmap=\"Blues\")\n",
    "plt.ylabel('Predicted')\n",
    "plt.xlabel('Actual')\n",
    "plt.title('Confusion matrix')\n",
    "plt.show()"
   ]
  },
  {
   "cell_type": "markdown",
   "metadata": {
    "id": "dzO4ByKGF0Fb"
   },
   "source": [
    "Let's see if the hyperparameter tuning process has returned a better model:"
   ]
  },
  {
   "cell_type": "code",
   "execution_count": 18,
   "metadata": {
    "colab": {
     "base_uri": "https://localhost:8080/"
    },
    "executionInfo": {
     "elapsed": 2410,
     "status": "ok",
     "timestamp": 1624298403724,
     "user": {
      "displayName": "Sábia Belle",
      "photoUrl": "https://lh3.googleusercontent.com/a-/AOh14GgoLe-UgrNos4x-wRynzWo4Mca81Yi6X7B2fRTcUg=s64",
      "userId": "15273515199890451153"
     },
     "user_tz": 180
    },
    "id": "AW0PL1GdF0Fc",
    "outputId": "5686d410-54b2-4c27-d48d-517fa39bb35f"
   },
   "outputs": [
    {
     "data": {
      "text/plain": [
       "0.6575342465753424"
      ]
     },
     "execution_count": 18,
     "metadata": {},
     "output_type": "execute_result"
    }
   ],
   "source": [
    "base_model = svm.SVC(random_state = 10)\n",
    "base_model.fit(features_train, labels_train)\n",
    "accuracy_score(labels_test, base_model.predict(features_test))"
   ]
  },
  {
   "cell_type": "code",
   "execution_count": 19,
   "metadata": {
    "colab": {
     "base_uri": "https://localhost:8080/"
    },
    "executionInfo": {
     "elapsed": 8275,
     "status": "ok",
     "timestamp": 1624298411996,
     "user": {
      "displayName": "Sábia Belle",
      "photoUrl": "https://lh3.googleusercontent.com/a-/AOh14GgoLe-UgrNos4x-wRynzWo4Mca81Yi6X7B2fRTcUg=s64",
      "userId": "15273515199890451153"
     },
     "user_tz": 180
    },
    "id": "2fWzhhpRF0Fg",
    "outputId": "f428edf7-702a-4a54-9891-501a8d1eb384",
    "scrolled": true
   },
   "outputs": [
    {
     "data": {
      "text/plain": [
       "0.6381278538812786"
      ]
     },
     "execution_count": 19,
     "metadata": {},
     "output_type": "execute_result"
    }
   ],
   "source": [
    "best_svc.fit(features_train, labels_train)\n",
    "accuracy_score(labels_test, best_svc.predict(features_test))"
   ]
  },
  {
   "cell_type": "markdown",
   "metadata": {
    "id": "KmeZhv68F0Fn"
   },
   "source": [
    "We'll create a dataset with a model summary to compare models:"
   ]
  },
  {
   "cell_type": "code",
   "execution_count": 20,
   "metadata": {
    "id": "ZY0vAS7JF0Fo"
   },
   "outputs": [],
   "source": [
    "d = {\n",
    "     'Model': 'SVM',\n",
    "     'Training Set Accuracy': accuracy_score(labels_train, best_svc.predict(features_train)),\n",
    "     'Test Set Accuracy': accuracy_score(labels_test, svc_pred)\n",
    "}\n",
    "\n",
    "df_models_svc = pd.DataFrame(d, index=[0])"
   ]
  },
  {
   "cell_type": "code",
   "execution_count": 21,
   "metadata": {
    "colab": {
     "base_uri": "https://localhost:8080/",
     "height": 80
    },
    "executionInfo": {
     "elapsed": 8,
     "status": "ok",
     "timestamp": 1624298412922,
     "user": {
      "displayName": "Sábia Belle",
      "photoUrl": "https://lh3.googleusercontent.com/a-/AOh14GgoLe-UgrNos4x-wRynzWo4Mca81Yi6X7B2fRTcUg=s64",
      "userId": "15273515199890451153"
     },
     "user_tz": 180
    },
    "id": "dKS-k8MWF0Fv",
    "outputId": "9d150071-c830-45af-f65b-99434f399974"
   },
   "outputs": [
    {
     "data": {
      "text/html": [
       "<div>\n",
       "<style scoped>\n",
       "    .dataframe tbody tr th:only-of-type {\n",
       "        vertical-align: middle;\n",
       "    }\n",
       "\n",
       "    .dataframe tbody tr th {\n",
       "        vertical-align: top;\n",
       "    }\n",
       "\n",
       "    .dataframe thead th {\n",
       "        text-align: right;\n",
       "    }\n",
       "</style>\n",
       "<table border=\"1\" class=\"dataframe\">\n",
       "  <thead>\n",
       "    <tr style=\"text-align: right;\">\n",
       "      <th></th>\n",
       "      <th>Model</th>\n",
       "      <th>Training Set Accuracy</th>\n",
       "      <th>Test Set Accuracy</th>\n",
       "    </tr>\n",
       "  </thead>\n",
       "  <tbody>\n",
       "    <tr>\n",
       "      <th>0</th>\n",
       "      <td>SVM</td>\n",
       "      <td>0.675649</td>\n",
       "      <td>0.638128</td>\n",
       "    </tr>\n",
       "  </tbody>\n",
       "</table>\n",
       "</div>"
      ],
      "text/plain": [
       "  Model  Training Set Accuracy  Test Set Accuracy\n",
       "0   SVM               0.675649           0.638128"
      ]
     },
     "execution_count": 21,
     "metadata": {},
     "output_type": "execute_result"
    }
   ],
   "source": [
    "df_models_svc"
   ]
  },
  {
   "cell_type": "markdown",
   "metadata": {
    "id": "Zx6tu2ogF0F4"
   },
   "source": [
    "Let's save the model and this dataset:"
   ]
  },
  {
   "cell_type": "code",
   "execution_count": 22,
   "metadata": {
    "id": "Wr62j3dsF0F5"
   },
   "outputs": [],
   "source": [
    "with open('Models/best_svc.pickle', 'wb') as output:\n",
    "    pickle.dump(best_svc, output)\n",
    "    \n",
    "with open('Models/df_models_svc.pickle', 'wb') as output:\n",
    "    pickle.dump(df_models_svc, output)"
   ]
  }
 ],
 "metadata": {
  "colab": {
   "name": "4.SVM.ipynb",
   "provenance": []
  },
  "kernelspec": {
   "display_name": "Python 3",
   "language": "python",
   "name": "python3"
  },
  "language_info": {
   "codemirror_mode": {
    "name": "ipython",
    "version": 3
   },
   "file_extension": ".py",
   "mimetype": "text/x-python",
   "name": "python",
   "nbconvert_exporter": "python",
   "pygments_lexer": "ipython3",
   "version": "3.9.2"
  }
 },
 "nbformat": 4,
 "nbformat_minor": 4
}
