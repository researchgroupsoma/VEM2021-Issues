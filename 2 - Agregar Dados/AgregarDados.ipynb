{
 "cells": [
  {
   "cell_type": "code",
   "execution_count": 1,
   "metadata": {
    "colab": {
     "base_uri": "https://localhost:8080/"
    },
    "executionInfo": {
     "elapsed": 405,
     "status": "ok",
     "timestamp": 1624992255092,
     "user": {
      "displayName": "Gabriel Menezes",
      "photoUrl": "https://lh3.googleusercontent.com/a-/AOh14GjYUuuH8zQ8RXHIMSnNeypaXPnqG95-o6VnOfVLGA=s64",
      "userId": "04710021433655722253"
     },
     "user_tz": 240
    },
    "id": "0XKHr5SRp-qT",
    "outputId": "a630aca7-48d0-461a-82c3-5aa094f81ff5"
   },
   "outputs": [
    {
     "data": {
      "text/plain": [
       "'C:\\\\Users\\\\sabia\\\\OneDrive\\\\VEM2021-Issues\\\\VEM2021-Issues\\\\2 - Agregar Dados'"
      ]
     },
     "execution_count": 1,
     "metadata": {},
     "output_type": "execute_result"
    }
   ],
   "source": [
    "import os\n",
    "import pandas as pd\n",
    "os.getcwd()"
   ]
  },
  {
   "cell_type": "code",
   "execution_count": 2,
   "metadata": {
    "colab": {
     "base_uri": "https://localhost:8080/"
    },
    "executionInfo": {
     "elapsed": 15,
     "status": "ok",
     "timestamp": 1624992255094,
     "user": {
      "displayName": "Gabriel Menezes",
      "photoUrl": "https://lh3.googleusercontent.com/a-/AOh14GjYUuuH8zQ8RXHIMSnNeypaXPnqG95-o6VnOfVLGA=s64",
      "userId": "04710021433655722253"
     },
     "user_tz": 240
    },
    "id": "ViKrqhorsURF",
    "outputId": "331b4d0f-f617-4712-ee09-15ca46f8353f"
   },
   "outputs": [],
   "source": [
    "os.chdir(\"C:\\\\Users\\\\sabia\\\\OneDrive\\\\VEM2021-Issues\\\\VEM2021-Issues\\\\\")"
   ]
  },
  {
   "cell_type": "code",
   "execution_count": null,
   "metadata": {
    "executionInfo": {
     "elapsed": 12,
     "status": "ok",
     "timestamp": 1624992255096,
     "user": {
      "displayName": "Gabriel Menezes",
      "photoUrl": "https://lh3.googleusercontent.com/a-/AOh14GjYUuuH8zQ8RXHIMSnNeypaXPnqG95-o6VnOfVLGA=s64",
      "userId": "04710021433655722253"
     },
     "user_tz": 240
    },
    "id": "ry9LxM6esnDq"
   },
   "outputs": [],
   "source": []
  },
  {
   "cell_type": "code",
   "execution_count": 3,
   "metadata": {
    "executionInfo": {
     "elapsed": 8,
     "status": "ok",
     "timestamp": 1624992255537,
     "user": {
      "displayName": "Gabriel Menezes",
      "photoUrl": "https://lh3.googleusercontent.com/a-/AOh14GjYUuuH8zQ8RXHIMSnNeypaXPnqG95-o6VnOfVLGA=s64",
      "userId": "04710021433655722253"
     },
     "user_tz": 240
    },
    "id": "B92xz9FZs7K5"
   },
   "outputs": [],
   "source": [
    "android = pd.read_csv(\"1 - ExtrairDadosIssues/GoogleIssues.csv\")\n",
    "del android[\"Unnamed: 0\"]\n",
    "aws = pd.read_csv(\"1 - ExtrairDadosIssues/AWS-Issues.csv\")\n",
    "del aws[\"Unnamed: 0\"]\n",
    "azure = pd.read_csv(\"1 - ExtrairDadosIssues/Azure-Issues.csv\")\n",
    "del azure[\"Unnamed: 0\"]\n",
    "spring = pd.read_csv(\"1 - ExtrairDadosIssues/SpringIssues.csv\")\n",
    "del spring[\"Unnamed: 0\"]"
   ]
  },
  {
   "cell_type": "code",
   "execution_count": 4,
   "metadata": {
    "executionInfo": {
     "elapsed": 538,
     "status": "ok",
     "timestamp": 1624992256068,
     "user": {
      "displayName": "Gabriel Menezes",
      "photoUrl": "https://lh3.googleusercontent.com/a-/AOh14GjYUuuH8zQ8RXHIMSnNeypaXPnqG95-o6VnOfVLGA=s64",
      "userId": "04710021433655722253"
     },
     "user_tz": 240
    },
    "id": "Ll78NqATzGqH"
   },
   "outputs": [],
   "source": [
    "all = pd.concat([android, aws, azure, spring], ignore_index=True)"
   ]
  },
  {
   "cell_type": "markdown",
   "metadata": {
    "id": "9Ur1d8GXZjQu"
   },
   "source": [
    "## Number of Code Samples"
   ]
  },
  {
   "cell_type": "code",
   "execution_count": 5,
   "metadata": {
    "colab": {
     "base_uri": "https://localhost:8080/"
    },
    "executionInfo": {
     "elapsed": 111,
     "status": "ok",
     "timestamp": 1624992256068,
     "user": {
      "displayName": "Gabriel Menezes",
      "photoUrl": "https://lh3.googleusercontent.com/a-/AOh14GjYUuuH8zQ8RXHIMSnNeypaXPnqG95-o6VnOfVLGA=s64",
      "userId": "04710021433655722253"
     },
     "user_tz": 240
    },
    "id": "G4LUCA3xZo9a",
    "outputId": "0273b217-f10a-4d5f-cb72-64c5afc7599b"
   },
   "outputs": [
    {
     "data": {
      "text/plain": [
       "googlearchive/chromedeveditor             2175\n",
       "googlearchive/caja                        2017\n",
       "googlearchive/gwt-google-apis              538\n",
       "googlearchive/code-prettify                510\n",
       "googlesamples/android-vision               423\n",
       "                                          ... \n",
       "googlearchive/camera-app                     1\n",
       "googlearchive/wu-weather                     1\n",
       "googlearchive/chrome-gamepad-probe           1\n",
       "googlearchive/android-CustomTransition       1\n",
       "googlearchive/sauce-element                  1\n",
       "Name: sample, Length: 604, dtype: int64"
      ]
     },
     "execution_count": 5,
     "metadata": {},
     "output_type": "execute_result"
    }
   ],
   "source": [
    "android[\"sample\"].value_counts()"
   ]
  },
  {
   "cell_type": "code",
   "execution_count": 6,
   "metadata": {
    "colab": {
     "base_uri": "https://localhost:8080/"
    },
    "executionInfo": {
     "elapsed": 94,
     "status": "ok",
     "timestamp": 1624992256069,
     "user": {
      "displayName": "Gabriel Menezes",
      "photoUrl": "https://lh3.googleusercontent.com/a-/AOh14GjYUuuH8zQ8RXHIMSnNeypaXPnqG95-o6VnOfVLGA=s64",
      "userId": "04710021433655722253"
     },
     "user_tz": 240
    },
    "id": "WgMxoqX5Zt4D",
    "outputId": "772db8ae-b46f-41d5-95f9-a80697242b36"
   },
   "outputs": [
    {
     "data": {
      "text/plain": [
       "aws-samples/eks-workshop                                        343\n",
       "aws-samples/aws-workshop-for-kubernetes                         308\n",
       "aws-samples/aws-lex-web-ui                                      228\n",
       "aws-samples/aws-ai-qna-bot                                      176\n",
       "aws-samples/aws-cdk-examples                                    161\n",
       "                                                               ... \n",
       "aws-samples/aws-perforce                                          1\n",
       "aws-samples/amazon-redshift-query-patterns-and-optimizations      1\n",
       "aws-samples/disaster-recovery-workshop                            1\n",
       "aws-samples/aws-version-dashboard                                 1\n",
       "aws-samples/cicd-for-ecs-workshop-code                            1\n",
       "Name: sample, Length: 944, dtype: int64"
      ]
     },
     "execution_count": 6,
     "metadata": {},
     "output_type": "execute_result"
    }
   ],
   "source": [
    "aws[\"sample\"].value_counts()"
   ]
  },
  {
   "cell_type": "code",
   "execution_count": 7,
   "metadata": {
    "colab": {
     "base_uri": "https://localhost:8080/"
    },
    "executionInfo": {
     "elapsed": 91,
     "status": "ok",
     "timestamp": 1624992256071,
     "user": {
      "displayName": "Gabriel Menezes",
      "photoUrl": "https://lh3.googleusercontent.com/a-/AOh14GjYUuuH8zQ8RXHIMSnNeypaXPnqG95-o6VnOfVLGA=s64",
      "userId": "04710021433655722253"
     },
     "user_tz": 240
    },
    "id": "CByrwX29ZuTD",
    "outputId": "d8664ea7-d95a-4df9-f111-0a172a604b36"
   },
   "outputs": [
    {
     "data": {
      "text/plain": [
       "Azure-Samples/cognitive-services-speech-sdk                              922\n",
       "Azure-Samples/Cognitive-Services-Voice-Assistant                         256\n",
       "Azure-Samples/active-directory-aspnetcore-webapp-openidconnect-v2        245\n",
       "Azure-Samples/MyDriving                                                  195\n",
       "Azure-Samples/modern-data-warehouse-dataops                              182\n",
       "                                                                        ... \n",
       "Azure-Samples/documentdb-dotnet-getting-started                            1\n",
       "Azure-Samples/azure-stack-edge-vpn                                         1\n",
       "Azure-Samples/app-service-maven                                            1\n",
       "Azure-Samples/azure-sdk-for-python-keyvault-secrets-get-set-managedid      1\n",
       "Azure-Samples/iot-remote-monitoring-node-raspberrypi-getstartedkit         1\n",
       "Name: sample, Length: 828, dtype: int64"
      ]
     },
     "execution_count": 7,
     "metadata": {},
     "output_type": "execute_result"
    }
   ],
   "source": [
    "azure[\"sample\"].value_counts()"
   ]
  },
  {
   "cell_type": "code",
   "execution_count": 8,
   "metadata": {
    "colab": {
     "base_uri": "https://localhost:8080/"
    },
    "executionInfo": {
     "elapsed": 88,
     "status": "ok",
     "timestamp": 1624992256072,
     "user": {
      "displayName": "Gabriel Menezes",
      "photoUrl": "https://lh3.googleusercontent.com/a-/AOh14GjYUuuH8zQ8RXHIMSnNeypaXPnqG95-o6VnOfVLGA=s64",
      "userId": "04710021433655722253"
     },
     "user_tz": 240
    },
    "id": "gka-kJBTZukK",
    "outputId": "1c4a276e-1355-455a-afeb-96905d4a4ebc"
   },
   "outputs": [
    {
     "data": {
      "text/plain": [
       "spring-guides/tut-spring-security-and-angular-js    165\n",
       "spring-guides/getting-started-guides                100\n",
       "spring-guides/tut-react-and-spring-data-rest         92\n",
       "spring-guides/tut-spring-boot-oauth2                 85\n",
       "spring-guides/tut-rest                               63\n",
       "                                                   ... \n",
       "spring-guides/gs-spring-cloud-stream                  1\n",
       "spring-guides/gs-consuming-rest-jquery                1\n",
       "spring-guides/gs-accessing-gemfire-data-rest          1\n",
       "spring-guides/gs-caching                              1\n",
       "spring-guides/gs-accessing-vault                      1\n",
       "Name: sample, Length: 73, dtype: int64"
      ]
     },
     "execution_count": 8,
     "metadata": {},
     "output_type": "execute_result"
    }
   ],
   "source": [
    "spring[\"sample\"].value_counts()"
   ]
  },
  {
   "cell_type": "code",
   "execution_count": 9,
   "metadata": {
    "colab": {
     "base_uri": "https://localhost:8080/"
    },
    "executionInfo": {
     "elapsed": 84,
     "status": "ok",
     "timestamp": 1624992256073,
     "user": {
      "displayName": "Gabriel Menezes",
      "photoUrl": "https://lh3.googleusercontent.com/a-/AOh14GjYUuuH8zQ8RXHIMSnNeypaXPnqG95-o6VnOfVLGA=s64",
      "userId": "04710021433655722253"
     },
     "user_tz": 240
    },
    "id": "9voReb3UZSmM",
    "outputId": "7fee8c29-570e-4246-b259-a8a88bffa15a"
   },
   "outputs": [
    {
     "data": {
      "text/plain": [
       "googlearchive/chromedeveditor                                   2175\n",
       "googlearchive/caja                                              2017\n",
       "Azure-Samples/cognitive-services-speech-sdk                      922\n",
       "googlearchive/gwt-google-apis                                    538\n",
       "googlearchive/code-prettify                                      510\n",
       "                                                                ... \n",
       "aws-samples/aws-perforce                                           1\n",
       "Azure-Samples/storage-node-resource-provider-getting-started       1\n",
       "aws-samples/sagemaker-yolov3-detection-server                      1\n",
       "Azure-Samples/storage-table-ruby-getting-started                   1\n",
       "aws-samples/amazon-ecs-firelens-under-the-hood                     1\n",
       "Name: sample, Length: 2449, dtype: int64"
      ]
     },
     "execution_count": 9,
     "metadata": {},
     "output_type": "execute_result"
    }
   ],
   "source": [
    "all[\"sample\"].value_counts()"
   ]
  },
  {
   "cell_type": "markdown",
   "metadata": {
    "id": "XsMFEJhru4KR"
   },
   "source": [
    "## Analysis at Pull Request level"
   ]
  },
  {
   "cell_type": "markdown",
   "metadata": {
    "id": "CEP1tLRjyUy-"
   },
   "source": [
    "### Pulls Open X Pulls Closed"
   ]
  },
  {
   "cell_type": "code",
   "execution_count": 10,
   "metadata": {
    "colab": {
     "base_uri": "https://localhost:8080/"
    },
    "executionInfo": {
     "elapsed": 79,
     "status": "ok",
     "timestamp": 1624992256073,
     "user": {
      "displayName": "Gabriel Menezes",
      "photoUrl": "https://lh3.googleusercontent.com/a-/AOh14GjYUuuH8zQ8RXHIMSnNeypaXPnqG95-o6VnOfVLGA=s64",
      "userId": "04710021433655722253"
     },
     "user_tz": 240
    },
    "id": "tKfGI2EgyY0_",
    "outputId": "c1db214e-9535-4565-892b-7966d37b5d76"
   },
   "outputs": [
    {
     "data": {
      "text/plain": [
       "closed    11770\n",
       "open       5297\n",
       "Name: state, dtype: int64"
      ]
     },
     "execution_count": 10,
     "metadata": {},
     "output_type": "execute_result"
    }
   ],
   "source": [
    "android[\"state\"].value_counts()"
   ]
  },
  {
   "cell_type": "code",
   "execution_count": 11,
   "metadata": {
    "colab": {
     "base_uri": "https://localhost:8080/"
    },
    "executionInfo": {
     "elapsed": 74,
     "status": "ok",
     "timestamp": 1624992256075,
     "user": {
      "displayName": "Gabriel Menezes",
      "photoUrl": "https://lh3.googleusercontent.com/a-/AOh14GjYUuuH8zQ8RXHIMSnNeypaXPnqG95-o6VnOfVLGA=s64",
      "userId": "04710021433655722253"
     },
     "user_tz": 240
    },
    "id": "GgRTqHFvyf6O",
    "outputId": "a8d76f36-3bde-4d74-ad63-59674e015dbd"
   },
   "outputs": [
    {
     "data": {
      "text/plain": [
       "closed    4890\n",
       "open      3155\n",
       "Name: state, dtype: int64"
      ]
     },
     "execution_count": 11,
     "metadata": {},
     "output_type": "execute_result"
    }
   ],
   "source": [
    "aws[\"state\"].value_counts()"
   ]
  },
  {
   "cell_type": "code",
   "execution_count": 12,
   "metadata": {
    "colab": {
     "base_uri": "https://localhost:8080/"
    },
    "executionInfo": {
     "elapsed": 69,
     "status": "ok",
     "timestamp": 1624992256075,
     "user": {
      "displayName": "Gabriel Menezes",
      "photoUrl": "https://lh3.googleusercontent.com/a-/AOh14GjYUuuH8zQ8RXHIMSnNeypaXPnqG95-o6VnOfVLGA=s64",
      "userId": "04710021433655722253"
     },
     "user_tz": 240
    },
    "id": "8aK-rlFPyi5e",
    "outputId": "23d50b52-d365-4832-913a-5da2c8267a98"
   },
   "outputs": [
    {
     "data": {
      "text/plain": [
       "closed    5797\n",
       "open      2291\n",
       "Name: state, dtype: int64"
      ]
     },
     "execution_count": 12,
     "metadata": {},
     "output_type": "execute_result"
    }
   ],
   "source": [
    "azure[\"state\"].value_counts()"
   ]
  },
  {
   "cell_type": "code",
   "execution_count": 13,
   "metadata": {
    "colab": {
     "base_uri": "https://localhost:8080/"
    },
    "executionInfo": {
     "elapsed": 65,
     "status": "ok",
     "timestamp": 1624992256076,
     "user": {
      "displayName": "Gabriel Menezes",
      "photoUrl": "https://lh3.googleusercontent.com/a-/AOh14GjYUuuH8zQ8RXHIMSnNeypaXPnqG95-o6VnOfVLGA=s64",
      "userId": "04710021433655722253"
     },
     "user_tz": 240
    },
    "id": "bUaZN2LQymQX",
    "outputId": "280f3e28-0ed5-4283-9bd3-79f4b6b55fa7"
   },
   "outputs": [
    {
     "data": {
      "text/plain": [
       "closed    1041\n",
       "open       263\n",
       "Name: state, dtype: int64"
      ]
     },
     "execution_count": 13,
     "metadata": {},
     "output_type": "execute_result"
    }
   ],
   "source": [
    "spring[\"state\"].value_counts()"
   ]
  },
  {
   "cell_type": "code",
   "execution_count": 14,
   "metadata": {
    "colab": {
     "base_uri": "https://localhost:8080/"
    },
    "executionInfo": {
     "elapsed": 62,
     "status": "ok",
     "timestamp": 1624992256077,
     "user": {
      "displayName": "Gabriel Menezes",
      "photoUrl": "https://lh3.googleusercontent.com/a-/AOh14GjYUuuH8zQ8RXHIMSnNeypaXPnqG95-o6VnOfVLGA=s64",
      "userId": "04710021433655722253"
     },
     "user_tz": 240
    },
    "id": "Ls5lZvNUzkMe",
    "outputId": "3860915d-f4a4-4c94-9d5a-29d04f0a48e8"
   },
   "outputs": [
    {
     "data": {
      "text/plain": [
       "closed    23498\n",
       "open      11006\n",
       "Name: state, dtype: int64"
      ]
     },
     "execution_count": 14,
     "metadata": {},
     "output_type": "execute_result"
    }
   ],
   "source": [
    "all[\"state\"].value_counts()"
   ]
  },
  {
   "cell_type": "markdown",
   "metadata": {
    "id": "iFJia1ZVzyJ1"
   },
   "source": [
    "### Pulls Merged x Not Merged"
   ]
  },
  {
   "cell_type": "code",
   "execution_count": 15,
   "metadata": {
    "executionInfo": {
     "elapsed": 59,
     "status": "ok",
     "timestamp": 1624992256078,
     "user": {
      "displayName": "Gabriel Menezes",
      "photoUrl": "https://lh3.googleusercontent.com/a-/AOh14GjYUuuH8zQ8RXHIMSnNeypaXPnqG95-o6VnOfVLGA=s64",
      "userId": "04710021433655722253"
     },
     "user_tz": 240
    },
    "id": "OC5Z2HMYz5oW"
   },
   "outputs": [],
   "source": [
    "android_closed = android[android[\"state\"] == \"closed\"]\n",
    "aws_closed = aws[aws[\"state\"] == \"closed\"]\n",
    "azure_closed = azure[azure[\"state\"] == \"closed\"]\n",
    "spring_closed = spring[spring[\"state\"] == \"closed\"]\n",
    "all_closed = all[all[\"state\"] == \"closed\"]"
   ]
  },
  {
   "cell_type": "markdown",
   "metadata": {
    "id": "IuY2xdaC3aRU"
   },
   "source": [
    "## Analysis at code sample level"
   ]
  },
  {
   "cell_type": "code",
   "execution_count": 16,
   "metadata": {
    "executionInfo": {
     "elapsed": 35,
     "status": "ok",
     "timestamp": 1624992256081,
     "user": {
      "displayName": "Gabriel Menezes",
      "photoUrl": "https://lh3.googleusercontent.com/a-/AOh14GjYUuuH8zQ8RXHIMSnNeypaXPnqG95-o6VnOfVLGA=s64",
      "userId": "04710021433655722253"
     },
     "user_tz": 240
    },
    "id": "aVxRUNEX3efd"
   },
   "outputs": [],
   "source": [
    "def set_index(dataframe):\n",
    "  dataframe.set_index(dataframe[\"sample\"], inplace=True)\n",
    "  del dataframe[\"sample\"]"
   ]
  },
  {
   "cell_type": "code",
   "execution_count": 17,
   "metadata": {
    "executionInfo": {
     "elapsed": 34,
     "status": "ok",
     "timestamp": 1624992256082,
     "user": {
      "displayName": "Gabriel Menezes",
      "photoUrl": "https://lh3.googleusercontent.com/a-/AOh14GjYUuuH8zQ8RXHIMSnNeypaXPnqG95-o6VnOfVLGA=s64",
      "userId": "04710021433655722253"
     },
     "user_tz": 240
    },
    "id": "BWVN7zLd1qwA"
   },
   "outputs": [],
   "source": [
    "set_index(android)\n",
    "set_index(aws)\n",
    "set_index(azure)\n",
    "set_index(spring)"
   ]
  },
  {
   "cell_type": "code",
   "execution_count": 18,
   "metadata": {
    "executionInfo": {
     "elapsed": 33,
     "status": "ok",
     "timestamp": 1624992256083,
     "user": {
      "displayName": "Gabriel Menezes",
      "photoUrl": "https://lh3.googleusercontent.com/a-/AOh14GjYUuuH8zQ8RXHIMSnNeypaXPnqG95-o6VnOfVLGA=s64",
      "userId": "04710021433655722253"
     },
     "user_tz": 240
    },
    "id": "B7djS8e2eLsy"
   },
   "outputs": [],
   "source": [
    "def calculate_stats(dataframe):\n",
    "  for sample in dataframe.index.unique():\n",
    "    aux = dataframe.loc[[sample]]\n",
    "    dataframe.loc[sample, \"closed_count\"] = aux[aux[\"state\"] == \"closed\"][\"framework\"].count()\n",
    "    dataframe.loc[sample, \"open_count\"] = aux[aux[\"state\"] == \"open\"][\"framework\"].count()"
   ]
  },
  {
   "cell_type": "code",
   "execution_count": 22,
   "metadata": {
    "executionInfo": {
     "elapsed": 24503,
     "status": "ok",
     "timestamp": 1624992280554,
     "user": {
      "displayName": "Gabriel Menezes",
      "photoUrl": "https://lh3.googleusercontent.com/a-/AOh14GjYUuuH8zQ8RXHIMSnNeypaXPnqG95-o6VnOfVLGA=s64",
      "userId": "04710021433655722253"
     },
     "user_tz": 240
    },
    "id": "evlae8PgTUwu"
   },
   "outputs": [],
   "source": [
    "calculate_stats(android)\n",
    "calculate_stats(aws)\n",
    "calculate_stats(azure)\n",
    "calculate_stats(spring)"
   ]
  },
  {
   "cell_type": "code",
   "execution_count": 23,
   "metadata": {
    "executionInfo": {
     "elapsed": 33,
     "status": "ok",
     "timestamp": 1624992280558,
     "user": {
      "displayName": "Gabriel Menezes",
      "photoUrl": "https://lh3.googleusercontent.com/a-/AOh14GjYUuuH8zQ8RXHIMSnNeypaXPnqG95-o6VnOfVLGA=s64",
      "userId": "04710021433655722253"
     },
     "user_tz": 240
    },
    "id": "8lBC1vRM-c5a"
   },
   "outputs": [],
   "source": [
    "def aggregate(dataframe, framework):\n",
    "    dataframe[\"framework\"] = framework\n",
    "    dataframe = dataframe.groupby(by=\"sample\").mean()\n",
    "    return dataframe"
   ]
  },
  {
   "cell_type": "code",
   "execution_count": 24,
   "metadata": {
    "executionInfo": {
     "elapsed": 25,
     "status": "ok",
     "timestamp": 1624992280559,
     "user": {
      "displayName": "Gabriel Menezes",
      "photoUrl": "https://lh3.googleusercontent.com/a-/AOh14GjYUuuH8zQ8RXHIMSnNeypaXPnqG95-o6VnOfVLGA=s64",
      "userId": "04710021433655722253"
     },
     "user_tz": 240
    },
    "id": "nkEmrMnC63iD"
   },
   "outputs": [],
   "source": [
    "android = aggregate(android, \"Android\")"
   ]
  },
  {
   "cell_type": "code",
   "execution_count": 25,
   "metadata": {
    "executionInfo": {
     "elapsed": 24,
     "status": "ok",
     "timestamp": 1624992280560,
     "user": {
      "displayName": "Gabriel Menezes",
      "photoUrl": "https://lh3.googleusercontent.com/a-/AOh14GjYUuuH8zQ8RXHIMSnNeypaXPnqG95-o6VnOfVLGA=s64",
      "userId": "04710021433655722253"
     },
     "user_tz": 240
    },
    "id": "o9UMyJsH63Sv"
   },
   "outputs": [],
   "source": [
    "aws = aggregate(aws, \"AWS\")"
   ]
  },
  {
   "cell_type": "code",
   "execution_count": 26,
   "metadata": {
    "executionInfo": {
     "elapsed": 24,
     "status": "ok",
     "timestamp": 1624992280560,
     "user": {
      "displayName": "Gabriel Menezes",
      "photoUrl": "https://lh3.googleusercontent.com/a-/AOh14GjYUuuH8zQ8RXHIMSnNeypaXPnqG95-o6VnOfVLGA=s64",
      "userId": "04710021433655722253"
     },
     "user_tz": 240
    },
    "id": "KiOsKBFSzRro"
   },
   "outputs": [],
   "source": [
    "azure = aggregate(azure, \"Azure\")"
   ]
  },
  {
   "cell_type": "code",
   "execution_count": 27,
   "metadata": {
    "executionInfo": {
     "elapsed": 24,
     "status": "ok",
     "timestamp": 1624992280561,
     "user": {
      "displayName": "Gabriel Menezes",
      "photoUrl": "https://lh3.googleusercontent.com/a-/AOh14GjYUuuH8zQ8RXHIMSnNeypaXPnqG95-o6VnOfVLGA=s64",
      "userId": "04710021433655722253"
     },
     "user_tz": 240
    },
    "id": "j4GnPRrw9Bmx"
   },
   "outputs": [],
   "source": [
    "spring = aggregate(spring, \"Spring\")"
   ]
  },
  {
   "cell_type": "code",
   "execution_count": 28,
   "metadata": {},
   "outputs": [],
   "source": [
    "android[\"framework\"] = \"Android\"\n",
    "aws[\"framework\"] = \"AWS\"\n",
    "azure[\"framework\"] = \"Azure\"\n",
    "spring[\"framework\"] = \"Spring\""
   ]
  },
  {
   "cell_type": "code",
   "execution_count": 29,
   "metadata": {},
   "outputs": [],
   "source": [
    "def relative_metrics(dataframe):\n",
    "    dataframe[\"relative_open_count\"] = (dataframe[\"open_count\"] / (dataframe[\"open_count\"] + dataframe[\"closed_count\"])) * 100\n",
    "    dataframe[\"relative_closed_count\"] = (dataframe[\"closed_count\"] / (dataframe[\"open_count\"] + dataframe[\"closed_count\"])) * 100\n",
    "    return dataframe"
   ]
  },
  {
   "cell_type": "code",
   "execution_count": 30,
   "metadata": {},
   "outputs": [],
   "source": [
    "android = relative_metrics(android)\n",
    "aws = relative_metrics(aws)\n",
    "azure = relative_metrics(azure)\n",
    "spring = relative_metrics(spring)"
   ]
  },
  {
   "cell_type": "code",
   "execution_count": 31,
   "metadata": {
    "executionInfo": {
     "elapsed": 24,
     "status": "ok",
     "timestamp": 1624992280562,
     "user": {
      "displayName": "Gabriel Menezes",
      "photoUrl": "https://lh3.googleusercontent.com/a-/AOh14GjYUuuH8zQ8RXHIMSnNeypaXPnqG95-o6VnOfVLGA=s64",
      "userId": "04710021433655722253"
     },
     "user_tz": 240
    },
    "id": "tsuyWsYc9O8O"
   },
   "outputs": [],
   "source": [
    "android.to_csv(\"2 - Agregar Dados/android.csv\")"
   ]
  },
  {
   "cell_type": "code",
   "execution_count": 32,
   "metadata": {
    "executionInfo": {
     "elapsed": 23,
     "status": "ok",
     "timestamp": 1624992280562,
     "user": {
      "displayName": "Gabriel Menezes",
      "photoUrl": "https://lh3.googleusercontent.com/a-/AOh14GjYUuuH8zQ8RXHIMSnNeypaXPnqG95-o6VnOfVLGA=s64",
      "userId": "04710021433655722253"
     },
     "user_tz": 240
    },
    "id": "rqlGpvoRDxmz"
   },
   "outputs": [],
   "source": [
    "aws.to_csv(\"2 - Agregar Dados/aws.csv\")"
   ]
  },
  {
   "cell_type": "code",
   "execution_count": 33,
   "metadata": {
    "executionInfo": {
     "elapsed": 23,
     "status": "ok",
     "timestamp": 1624992280563,
     "user": {
      "displayName": "Gabriel Menezes",
      "photoUrl": "https://lh3.googleusercontent.com/a-/AOh14GjYUuuH8zQ8RXHIMSnNeypaXPnqG95-o6VnOfVLGA=s64",
      "userId": "04710021433655722253"
     },
     "user_tz": 240
    },
    "id": "bghCAqTdDxaW"
   },
   "outputs": [],
   "source": [
    "azure.to_csv(\"2 - Agregar Dados/azure.csv\")"
   ]
  },
  {
   "cell_type": "code",
   "execution_count": 34,
   "metadata": {
    "executionInfo": {
     "elapsed": 22,
     "status": "ok",
     "timestamp": 1624992280563,
     "user": {
      "displayName": "Gabriel Menezes",
      "photoUrl": "https://lh3.googleusercontent.com/a-/AOh14GjYUuuH8zQ8RXHIMSnNeypaXPnqG95-o6VnOfVLGA=s64",
      "userId": "04710021433655722253"
     },
     "user_tz": 240
    },
    "id": "dzK-YctYDxGq"
   },
   "outputs": [],
   "source": [
    "spring.to_csv(\"2 - Agregar Dados/spring.csv\")"
   ]
  },
  {
   "cell_type": "code",
   "execution_count": 35,
   "metadata": {},
   "outputs": [
    {
     "data": {
      "text/plain": [
       "tempo para fechamento            198.069525\n",
       "number                            22.650218\n",
       "creator user cargo                      NaN\n",
       "creator user seguidores         1093.583886\n",
       "creator user tempo no GitHub    1281.867152\n",
       "closed user cargo                       NaN\n",
       "closed user seguidores          1411.768391\n",
       "closed user tempo no GitHub     1675.154296\n",
       "closed_count                      19.486755\n",
       "open_count                         8.769868\n",
       "relative_open_count               38.920358\n",
       "relative_closed_count             61.079642\n",
       "dtype: float64"
      ]
     },
     "execution_count": 35,
     "metadata": {},
     "output_type": "execute_result"
    }
   ],
   "source": [
    "android.mean()"
   ]
  },
  {
   "cell_type": "code",
   "execution_count": null,
   "metadata": {},
   "outputs": [],
   "source": []
  }
 ],
 "metadata": {
  "colab": {
   "authorship_tag": "ABX9TyMgD5vNjLYHbOJMi9ZVOpnE",
   "collapsed_sections": [
    "9Ur1d8GXZjQu",
    "XsMFEJhru4KR"
   ],
   "name": "AgregarDados.ipynb",
   "provenance": []
  },
  "kernelspec": {
   "display_name": "Python 3",
   "language": "python",
   "name": "python3"
  },
  "language_info": {
   "codemirror_mode": {
    "name": "ipython",
    "version": 3
   },
   "file_extension": ".py",
   "mimetype": "text/x-python",
   "name": "python",
   "nbconvert_exporter": "python",
   "pygments_lexer": "ipython3",
   "version": "3.9.2"
  }
 },
 "nbformat": 4,
 "nbformat_minor": 4
}
