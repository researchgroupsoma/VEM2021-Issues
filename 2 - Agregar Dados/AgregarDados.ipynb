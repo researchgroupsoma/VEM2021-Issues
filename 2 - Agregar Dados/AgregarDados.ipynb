{
 "cells": [
  {
   "cell_type": "code",
   "execution_count": 1,
   "metadata": {
    "colab": {
     "base_uri": "https://localhost:8080/"
    },
    "executionInfo": {
     "elapsed": 405,
     "status": "ok",
     "timestamp": 1624992255092,
     "user": {
      "displayName": "Gabriel Menezes",
      "photoUrl": "https://lh3.googleusercontent.com/a-/AOh14GjYUuuH8zQ8RXHIMSnNeypaXPnqG95-o6VnOfVLGA=s64",
      "userId": "04710021433655722253"
     },
     "user_tz": 240
    },
    "id": "0XKHr5SRp-qT",
    "outputId": "a630aca7-48d0-461a-82c3-5aa094f81ff5"
   },
   "outputs": [
    {
     "data": {
      "text/plain": [
       "'C:\\\\Users\\\\sabia\\\\OneDrive\\\\VEM2021-Issues\\\\2 - Agregar Dados'"
      ]
     },
     "execution_count": 1,
     "metadata": {},
     "output_type": "execute_result"
    }
   ],
   "source": [
    "import os\n",
    "import pandas as pd\n",
    "os.getcwd()"
   ]
  },
  {
   "cell_type": "code",
   "execution_count": 2,
   "metadata": {
    "colab": {
     "base_uri": "https://localhost:8080/"
    },
    "executionInfo": {
     "elapsed": 15,
     "status": "ok",
     "timestamp": 1624992255094,
     "user": {
      "displayName": "Gabriel Menezes",
      "photoUrl": "https://lh3.googleusercontent.com/a-/AOh14GjYUuuH8zQ8RXHIMSnNeypaXPnqG95-o6VnOfVLGA=s64",
      "userId": "04710021433655722253"
     },
     "user_tz": 240
    },
    "id": "ViKrqhorsURF",
    "outputId": "331b4d0f-f617-4712-ee09-15ca46f8353f"
   },
   "outputs": [],
   "source": [
    "os.chdir(\"C:\\\\Users\\\\sabia\\\\OneDrive\\\\VEM2021-Issues\")"
   ]
  },
  {
   "cell_type": "code",
   "execution_count": 3,
   "metadata": {
    "executionInfo": {
     "elapsed": 12,
     "status": "ok",
     "timestamp": 1624992255096,
     "user": {
      "displayName": "Gabriel Menezes",
      "photoUrl": "https://lh3.googleusercontent.com/a-/AOh14GjYUuuH8zQ8RXHIMSnNeypaXPnqG95-o6VnOfVLGA=s64",
      "userId": "04710021433655722253"
     },
     "user_tz": 240
    },
    "id": "ry9LxM6esnDq"
   },
   "outputs": [],
   "source": [
    "#2-AgregarDadosPorCodeSample"
   ]
  },
  {
   "cell_type": "code",
   "execution_count": 4,
   "metadata": {
    "executionInfo": {
     "elapsed": 8,
     "status": "ok",
     "timestamp": 1624992255537,
     "user": {
      "displayName": "Gabriel Menezes",
      "photoUrl": "https://lh3.googleusercontent.com/a-/AOh14GjYUuuH8zQ8RXHIMSnNeypaXPnqG95-o6VnOfVLGA=s64",
      "userId": "04710021433655722253"
     },
     "user_tz": 240
    },
    "id": "B92xz9FZs7K5"
   },
   "outputs": [],
   "source": [
    "android = pd.read_csv(\"1 - ExtrairDadosIssues/GoogleIssues.csv\")\n",
    "del android[\"Unnamed: 0\"]\n",
    "aws = pd.read_csv(\"1 - ExtrairDadosIssues/AWS-Issues.csv\")\n",
    "del aws[\"Unnamed: 0\"]\n",
    "azure = pd.read_csv(\"1 - ExtrairDadosIssues/Azure-Issues.csv\")\n",
    "del azure[\"Unnamed: 0\"]\n",
    "spring = pd.read_csv(\"1 - ExtrairDadosIssues/SpringIssues.csv\")\n",
    "del spring[\"Unnamed: 0\"]"
   ]
  },
  {
   "cell_type": "code",
   "execution_count": 6,
   "metadata": {
    "executionInfo": {
     "elapsed": 538,
     "status": "ok",
     "timestamp": 1624992256068,
     "user": {
      "displayName": "Gabriel Menezes",
      "photoUrl": "https://lh3.googleusercontent.com/a-/AOh14GjYUuuH8zQ8RXHIMSnNeypaXPnqG95-o6VnOfVLGA=s64",
      "userId": "04710021433655722253"
     },
     "user_tz": 240
    },
    "id": "Ll78NqATzGqH"
   },
   "outputs": [],
   "source": [
    "all = pd.concat([android, aws, azure, spring], ignore_index=True)"
   ]
  },
  {
   "cell_type": "markdown",
   "metadata": {
    "id": "9Ur1d8GXZjQu"
   },
   "source": [
    "## Number of Code Samples"
   ]
  },
  {
   "cell_type": "code",
   "execution_count": 7,
   "metadata": {
    "colab": {
     "base_uri": "https://localhost:8080/"
    },
    "executionInfo": {
     "elapsed": 111,
     "status": "ok",
     "timestamp": 1624992256068,
     "user": {
      "displayName": "Gabriel Menezes",
      "photoUrl": "https://lh3.googleusercontent.com/a-/AOh14GjYUuuH8zQ8RXHIMSnNeypaXPnqG95-o6VnOfVLGA=s64",
      "userId": "04710021433655722253"
     },
     "user_tz": 240
    },
    "id": "G4LUCA3xZo9a",
    "outputId": "0273b217-f10a-4d5f-cb72-64c5afc7599b"
   },
   "outputs": [
    {
     "data": {
      "text/plain": [
       "googlearchive/chromedeveditor                2175\n",
       "googlearchive/caja                           2017\n",
       "googlearchive/gwt-google-apis                 538\n",
       "googlearchive/code-prettify                   510\n",
       "googlearchive/vrview                          236\n",
       "                                             ... \n",
       "googlearchive/google-server-auth-android        1\n",
       "googlearchive/android-CustomTransition          1\n",
       "googlearchive/prpl-rain                         1\n",
       "googlearchive/android-ElevationDrag             1\n",
       "googlearchive/appengine-helloworld-python       1\n",
       "Name: sample, Length: 556, dtype: int64"
      ]
     },
     "execution_count": 7,
     "metadata": {},
     "output_type": "execute_result"
    }
   ],
   "source": [
    "android[\"sample\"].value_counts()"
   ]
  },
  {
   "cell_type": "code",
   "execution_count": 8,
   "metadata": {
    "colab": {
     "base_uri": "https://localhost:8080/"
    },
    "executionInfo": {
     "elapsed": 94,
     "status": "ok",
     "timestamp": 1624992256069,
     "user": {
      "displayName": "Gabriel Menezes",
      "photoUrl": "https://lh3.googleusercontent.com/a-/AOh14GjYUuuH8zQ8RXHIMSnNeypaXPnqG95-o6VnOfVLGA=s64",
      "userId": "04710021433655722253"
     },
     "user_tz": 240
    },
    "id": "WgMxoqX5Zt4D",
    "outputId": "772db8ae-b46f-41d5-95f9-a80697242b36"
   },
   "outputs": [
    {
     "data": {
      "text/plain": [
       "aws-samples/eks-workshop                                     343\n",
       "aws-samples/aws-workshop-for-kubernetes                      308\n",
       "aws-samples/aws-lex-web-ui                                   228\n",
       "aws-samples/aws-ai-qna-bot                                   176\n",
       "aws-samples/aws-cdk-examples                                 161\n",
       "                                                            ... \n",
       "aws-samples/amazon-ecs-fargate-aspnetcore                      1\n",
       "aws-samples/cdk-deployment-of-locust                           1\n",
       "aws-samples/amazon-pinpoint-call-generator                     1\n",
       "aws-samples/aws-codedeploy-linear-canary-deployments-blog      1\n",
       "aws-samples/amazon-lex-support-bot                             1\n",
       "Name: sample, Length: 944, dtype: int64"
      ]
     },
     "execution_count": 8,
     "metadata": {},
     "output_type": "execute_result"
    }
   ],
   "source": [
    "aws[\"sample\"].value_counts()"
   ]
  },
  {
   "cell_type": "code",
   "execution_count": 9,
   "metadata": {
    "colab": {
     "base_uri": "https://localhost:8080/"
    },
    "executionInfo": {
     "elapsed": 91,
     "status": "ok",
     "timestamp": 1624992256071,
     "user": {
      "displayName": "Gabriel Menezes",
      "photoUrl": "https://lh3.googleusercontent.com/a-/AOh14GjYUuuH8zQ8RXHIMSnNeypaXPnqG95-o6VnOfVLGA=s64",
      "userId": "04710021433655722253"
     },
     "user_tz": 240
    },
    "id": "CByrwX29ZuTD",
    "outputId": "d8664ea7-d95a-4df9-f111-0a172a604b36"
   },
   "outputs": [
    {
     "data": {
      "text/plain": [
       "Azure-Samples/cognitive-services-speech-sdk                                           922\n",
       "Azure-Samples/Cognitive-Services-Voice-Assistant                                      256\n",
       "Azure-Samples/active-directory-aspnetcore-webapp-openidconnect-v2                     245\n",
       "Azure-Samples/MyDriving                                                               195\n",
       "Azure-Samples/modern-data-warehouse-dataops                                           182\n",
       "                                                                                     ... \n",
       "Azure-Samples/media-services-dotnet-on-demand-encoding-with-media-encoder-standard      1\n",
       "Azure-Samples/azure-maps-fullscreen-control                                             1\n",
       "Azure-Samples/storage-blob-node-getting-started                                         1\n",
       "Azure-Samples/container-instances-python-manage                                         1\n",
       "Azure-Samples/azure-maps-overview-map                                                   1\n",
       "Name: sample, Length: 828, dtype: int64"
      ]
     },
     "execution_count": 9,
     "metadata": {},
     "output_type": "execute_result"
    }
   ],
   "source": [
    "azure[\"sample\"].value_counts()"
   ]
  },
  {
   "cell_type": "code",
   "execution_count": 10,
   "metadata": {
    "colab": {
     "base_uri": "https://localhost:8080/"
    },
    "executionInfo": {
     "elapsed": 88,
     "status": "ok",
     "timestamp": 1624992256072,
     "user": {
      "displayName": "Gabriel Menezes",
      "photoUrl": "https://lh3.googleusercontent.com/a-/AOh14GjYUuuH8zQ8RXHIMSnNeypaXPnqG95-o6VnOfVLGA=s64",
      "userId": "04710021433655722253"
     },
     "user_tz": 240
    },
    "id": "gka-kJBTZukK",
    "outputId": "1c4a276e-1355-455a-afeb-96905d4a4ebc"
   },
   "outputs": [
    {
     "data": {
      "text/plain": [
       "spring-guides/tut-spring-security-and-angular-js    165\n",
       "spring-guides/getting-started-guides                100\n",
       "spring-guides/tut-react-and-spring-data-rest         92\n",
       "spring-guides/tut-spring-boot-oauth2                 85\n",
       "spring-guides/tut-rest                               63\n",
       "                                                   ... \n",
       "spring-guides/gs-accessing-data-r2dbc                 1\n",
       "spring-guides/gs-accessing-gemfire-data-rest          1\n",
       "spring-guides/topical-guides                          1\n",
       "spring-guides/top-spring-on-kubernetes                1\n",
       "spring-guides/gs-caching                              1\n",
       "Name: sample, Length: 73, dtype: int64"
      ]
     },
     "execution_count": 10,
     "metadata": {},
     "output_type": "execute_result"
    }
   ],
   "source": [
    "spring[\"sample\"].value_counts()"
   ]
  },
  {
   "cell_type": "code",
   "execution_count": 11,
   "metadata": {
    "colab": {
     "base_uri": "https://localhost:8080/"
    },
    "executionInfo": {
     "elapsed": 84,
     "status": "ok",
     "timestamp": 1624992256073,
     "user": {
      "displayName": "Gabriel Menezes",
      "photoUrl": "https://lh3.googleusercontent.com/a-/AOh14GjYUuuH8zQ8RXHIMSnNeypaXPnqG95-o6VnOfVLGA=s64",
      "userId": "04710021433655722253"
     },
     "user_tz": 240
    },
    "id": "9voReb3UZSmM",
    "outputId": "7fee8c29-570e-4246-b259-a8a88bffa15a"
   },
   "outputs": [
    {
     "data": {
      "text/plain": [
       "googlearchive/chromedeveditor                                   2175\n",
       "googlearchive/caja                                              2017\n",
       "Azure-Samples/cognitive-services-speech-sdk                      922\n",
       "googlearchive/gwt-google-apis                                    538\n",
       "googlearchive/code-prettify                                      510\n",
       "                                                                ... \n",
       "aws-samples/amazon-lookout-for-vision-demo                         1\n",
       "aws-samples/amazon-kinesis-video-streams-producer-embedded-c       1\n",
       "Azure-Samples/key-vault-dotnet-recovery                            1\n",
       "aws-samples/reinvent-fine-tune-mxnet-model-for-ios-coreml          1\n",
       "Azure-Samples/azure-cosmos-db-mongodb-java-changestream            1\n",
       "Name: sample, Length: 2401, dtype: int64"
      ]
     },
     "execution_count": 11,
     "metadata": {},
     "output_type": "execute_result"
    }
   ],
   "source": [
    "all[\"sample\"].value_counts()"
   ]
  },
  {
   "cell_type": "markdown",
   "metadata": {
    "id": "XsMFEJhru4KR"
   },
   "source": [
    "## Analysis at Pull Request level"
   ]
  },
  {
   "cell_type": "markdown",
   "metadata": {
    "id": "CEP1tLRjyUy-"
   },
   "source": [
    "### Pulls Open X Pulls Closed"
   ]
  },
  {
   "cell_type": "code",
   "execution_count": 12,
   "metadata": {
    "colab": {
     "base_uri": "https://localhost:8080/"
    },
    "executionInfo": {
     "elapsed": 79,
     "status": "ok",
     "timestamp": 1624992256073,
     "user": {
      "displayName": "Gabriel Menezes",
      "photoUrl": "https://lh3.googleusercontent.com/a-/AOh14GjYUuuH8zQ8RXHIMSnNeypaXPnqG95-o6VnOfVLGA=s64",
      "userId": "04710021433655722253"
     },
     "user_tz": 240
    },
    "id": "tKfGI2EgyY0_",
    "outputId": "c1db214e-9535-4565-892b-7966d37b5d76"
   },
   "outputs": [
    {
     "data": {
      "text/plain": [
       "closed    9908\n",
       "open      4135\n",
       "Name: state, dtype: int64"
      ]
     },
     "execution_count": 12,
     "metadata": {},
     "output_type": "execute_result"
    }
   ],
   "source": [
    "android[\"state\"].value_counts()"
   ]
  },
  {
   "cell_type": "code",
   "execution_count": 13,
   "metadata": {
    "colab": {
     "base_uri": "https://localhost:8080/"
    },
    "executionInfo": {
     "elapsed": 74,
     "status": "ok",
     "timestamp": 1624992256075,
     "user": {
      "displayName": "Gabriel Menezes",
      "photoUrl": "https://lh3.googleusercontent.com/a-/AOh14GjYUuuH8zQ8RXHIMSnNeypaXPnqG95-o6VnOfVLGA=s64",
      "userId": "04710021433655722253"
     },
     "user_tz": 240
    },
    "id": "GgRTqHFvyf6O",
    "outputId": "a8d76f36-3bde-4d74-ad63-59674e015dbd"
   },
   "outputs": [
    {
     "data": {
      "text/plain": [
       "closed    4890\n",
       "open      3155\n",
       "Name: state, dtype: int64"
      ]
     },
     "execution_count": 13,
     "metadata": {},
     "output_type": "execute_result"
    }
   ],
   "source": [
    "aws[\"state\"].value_counts()"
   ]
  },
  {
   "cell_type": "code",
   "execution_count": 14,
   "metadata": {
    "colab": {
     "base_uri": "https://localhost:8080/"
    },
    "executionInfo": {
     "elapsed": 69,
     "status": "ok",
     "timestamp": 1624992256075,
     "user": {
      "displayName": "Gabriel Menezes",
      "photoUrl": "https://lh3.googleusercontent.com/a-/AOh14GjYUuuH8zQ8RXHIMSnNeypaXPnqG95-o6VnOfVLGA=s64",
      "userId": "04710021433655722253"
     },
     "user_tz": 240
    },
    "id": "8aK-rlFPyi5e",
    "outputId": "23d50b52-d365-4832-913a-5da2c8267a98"
   },
   "outputs": [
    {
     "data": {
      "text/plain": [
       "closed    5797\n",
       "open      2291\n",
       "Name: state, dtype: int64"
      ]
     },
     "execution_count": 14,
     "metadata": {},
     "output_type": "execute_result"
    }
   ],
   "source": [
    "azure[\"state\"].value_counts()"
   ]
  },
  {
   "cell_type": "code",
   "execution_count": 15,
   "metadata": {
    "colab": {
     "base_uri": "https://localhost:8080/"
    },
    "executionInfo": {
     "elapsed": 65,
     "status": "ok",
     "timestamp": 1624992256076,
     "user": {
      "displayName": "Gabriel Menezes",
      "photoUrl": "https://lh3.googleusercontent.com/a-/AOh14GjYUuuH8zQ8RXHIMSnNeypaXPnqG95-o6VnOfVLGA=s64",
      "userId": "04710021433655722253"
     },
     "user_tz": 240
    },
    "id": "bUaZN2LQymQX",
    "outputId": "280f3e28-0ed5-4283-9bd3-79f4b6b55fa7"
   },
   "outputs": [
    {
     "data": {
      "text/plain": [
       "closed    1041\n",
       "open       263\n",
       "Name: state, dtype: int64"
      ]
     },
     "execution_count": 15,
     "metadata": {},
     "output_type": "execute_result"
    }
   ],
   "source": [
    "spring[\"state\"].value_counts()"
   ]
  },
  {
   "cell_type": "code",
   "execution_count": 16,
   "metadata": {
    "colab": {
     "base_uri": "https://localhost:8080/"
    },
    "executionInfo": {
     "elapsed": 62,
     "status": "ok",
     "timestamp": 1624992256077,
     "user": {
      "displayName": "Gabriel Menezes",
      "photoUrl": "https://lh3.googleusercontent.com/a-/AOh14GjYUuuH8zQ8RXHIMSnNeypaXPnqG95-o6VnOfVLGA=s64",
      "userId": "04710021433655722253"
     },
     "user_tz": 240
    },
    "id": "Ls5lZvNUzkMe",
    "outputId": "3860915d-f4a4-4c94-9d5a-29d04f0a48e8"
   },
   "outputs": [
    {
     "data": {
      "text/plain": [
       "closed    21636\n",
       "open       9844\n",
       "Name: state, dtype: int64"
      ]
     },
     "execution_count": 16,
     "metadata": {},
     "output_type": "execute_result"
    }
   ],
   "source": [
    "all[\"state\"].value_counts()"
   ]
  },
  {
   "cell_type": "markdown",
   "metadata": {
    "id": "iFJia1ZVzyJ1"
   },
   "source": [
    "### Pulls Merged x Not Merged"
   ]
  },
  {
   "cell_type": "code",
   "execution_count": 17,
   "metadata": {
    "executionInfo": {
     "elapsed": 59,
     "status": "ok",
     "timestamp": 1624992256078,
     "user": {
      "displayName": "Gabriel Menezes",
      "photoUrl": "https://lh3.googleusercontent.com/a-/AOh14GjYUuuH8zQ8RXHIMSnNeypaXPnqG95-o6VnOfVLGA=s64",
      "userId": "04710021433655722253"
     },
     "user_tz": 240
    },
    "id": "OC5Z2HMYz5oW"
   },
   "outputs": [],
   "source": [
    "android_closed = android[android[\"state\"] == \"closed\"]\n",
    "aws_closed = aws[aws[\"state\"] == \"closed\"]\n",
    "azure_closed = azure[azure[\"state\"] == \"closed\"]\n",
    "spring_closed = spring[spring[\"state\"] == \"closed\"]\n",
    "all_closed = all[all[\"state\"] == \"closed\"]"
   ]
  },
  {
   "cell_type": "markdown",
   "metadata": {
    "id": "IuY2xdaC3aRU"
   },
   "source": [
    "## Analysis at code sample level"
   ]
  },
  {
   "cell_type": "code",
   "execution_count": 18,
   "metadata": {
    "executionInfo": {
     "elapsed": 35,
     "status": "ok",
     "timestamp": 1624992256081,
     "user": {
      "displayName": "Gabriel Menezes",
      "photoUrl": "https://lh3.googleusercontent.com/a-/AOh14GjYUuuH8zQ8RXHIMSnNeypaXPnqG95-o6VnOfVLGA=s64",
      "userId": "04710021433655722253"
     },
     "user_tz": 240
    },
    "id": "aVxRUNEX3efd"
   },
   "outputs": [],
   "source": [
    "def set_index(dataframe):\n",
    "  dataframe.set_index(dataframe[\"sample\"], inplace=True)\n",
    "  del dataframe[\"sample\"]"
   ]
  },
  {
   "cell_type": "code",
   "execution_count": 19,
   "metadata": {
    "executionInfo": {
     "elapsed": 34,
     "status": "ok",
     "timestamp": 1624992256082,
     "user": {
      "displayName": "Gabriel Menezes",
      "photoUrl": "https://lh3.googleusercontent.com/a-/AOh14GjYUuuH8zQ8RXHIMSnNeypaXPnqG95-o6VnOfVLGA=s64",
      "userId": "04710021433655722253"
     },
     "user_tz": 240
    },
    "id": "BWVN7zLd1qwA"
   },
   "outputs": [],
   "source": [
    "set_index(android)\n",
    "set_index(aws)\n",
    "set_index(azure)\n",
    "set_index(spring)"
   ]
  },
  {
   "cell_type": "code",
   "execution_count": 20,
   "metadata": {
    "executionInfo": {
     "elapsed": 33,
     "status": "ok",
     "timestamp": 1624992256083,
     "user": {
      "displayName": "Gabriel Menezes",
      "photoUrl": "https://lh3.googleusercontent.com/a-/AOh14GjYUuuH8zQ8RXHIMSnNeypaXPnqG95-o6VnOfVLGA=s64",
      "userId": "04710021433655722253"
     },
     "user_tz": 240
    },
    "id": "B7djS8e2eLsy"
   },
   "outputs": [],
   "source": [
    "def calculate_stats(dataframe):\n",
    "  for sample in dataframe.index.unique():\n",
    "    aux = dataframe.loc[[sample]]\n",
    "    dataframe.loc[sample, \"closed_count\"] = aux[aux[\"state\"] == \"closed\"][\"framework\"].count()\n",
    "    dataframe.loc[sample, \"open_count\"] = aux[aux[\"state\"] == \"open\"][\"framework\"].count()"
   ]
  },
  {
   "cell_type": "code",
   "execution_count": 21,
   "metadata": {
    "executionInfo": {
     "elapsed": 24503,
     "status": "ok",
     "timestamp": 1624992280554,
     "user": {
      "displayName": "Gabriel Menezes",
      "photoUrl": "https://lh3.googleusercontent.com/a-/AOh14GjYUuuH8zQ8RXHIMSnNeypaXPnqG95-o6VnOfVLGA=s64",
      "userId": "04710021433655722253"
     },
     "user_tz": 240
    },
    "id": "evlae8PgTUwu"
   },
   "outputs": [
    {
     "ename": "KeyboardInterrupt",
     "evalue": "",
     "output_type": "error",
     "traceback": [
      "\u001b[1;31m---------------------------------------------------------------------------\u001b[0m",
      "\u001b[1;31mKeyboardInterrupt\u001b[0m                         Traceback (most recent call last)",
      "\u001b[1;32m<ipython-input-21-4350dcb175f2>\u001b[0m in \u001b[0;36m<module>\u001b[1;34m\u001b[0m\n\u001b[0;32m      1\u001b[0m \u001b[0mcalculate_stats\u001b[0m\u001b[1;33m(\u001b[0m\u001b[0mandroid\u001b[0m\u001b[1;33m)\u001b[0m\u001b[1;33m\u001b[0m\u001b[1;33m\u001b[0m\u001b[0m\n\u001b[0;32m      2\u001b[0m \u001b[0mcalculate_stats\u001b[0m\u001b[1;33m(\u001b[0m\u001b[0maws\u001b[0m\u001b[1;33m)\u001b[0m\u001b[1;33m\u001b[0m\u001b[1;33m\u001b[0m\u001b[0m\n\u001b[1;32m----> 3\u001b[1;33m \u001b[0mcalculate_stats\u001b[0m\u001b[1;33m(\u001b[0m\u001b[0mazure\u001b[0m\u001b[1;33m)\u001b[0m\u001b[1;33m\u001b[0m\u001b[1;33m\u001b[0m\u001b[0m\n\u001b[0m\u001b[0;32m      4\u001b[0m \u001b[0mcalculate_stats\u001b[0m\u001b[1;33m(\u001b[0m\u001b[0mspring\u001b[0m\u001b[1;33m)\u001b[0m\u001b[1;33m\u001b[0m\u001b[1;33m\u001b[0m\u001b[0m\n",
      "\u001b[1;32m<ipython-input-20-89615f0649bb>\u001b[0m in \u001b[0;36mcalculate_stats\u001b[1;34m(dataframe)\u001b[0m\n\u001b[0;32m      2\u001b[0m   \u001b[1;32mfor\u001b[0m \u001b[0msample\u001b[0m \u001b[1;32min\u001b[0m \u001b[0mdataframe\u001b[0m\u001b[1;33m.\u001b[0m\u001b[0mindex\u001b[0m\u001b[1;33m.\u001b[0m\u001b[0munique\u001b[0m\u001b[1;33m(\u001b[0m\u001b[1;33m)\u001b[0m\u001b[1;33m:\u001b[0m\u001b[1;33m\u001b[0m\u001b[1;33m\u001b[0m\u001b[0m\n\u001b[0;32m      3\u001b[0m     \u001b[0maux\u001b[0m \u001b[1;33m=\u001b[0m \u001b[0mdataframe\u001b[0m\u001b[1;33m.\u001b[0m\u001b[0mloc\u001b[0m\u001b[1;33m[\u001b[0m\u001b[1;33m[\u001b[0m\u001b[0msample\u001b[0m\u001b[1;33m]\u001b[0m\u001b[1;33m]\u001b[0m\u001b[1;33m\u001b[0m\u001b[1;33m\u001b[0m\u001b[0m\n\u001b[1;32m----> 4\u001b[1;33m     \u001b[0mdataframe\u001b[0m\u001b[1;33m.\u001b[0m\u001b[0mloc\u001b[0m\u001b[1;33m[\u001b[0m\u001b[0msample\u001b[0m\u001b[1;33m,\u001b[0m \u001b[1;34m\"closed_count\"\u001b[0m\u001b[1;33m]\u001b[0m \u001b[1;33m=\u001b[0m \u001b[0maux\u001b[0m\u001b[1;33m[\u001b[0m\u001b[0maux\u001b[0m\u001b[1;33m[\u001b[0m\u001b[1;34m\"state\"\u001b[0m\u001b[1;33m]\u001b[0m \u001b[1;33m==\u001b[0m \u001b[1;34m\"closed\"\u001b[0m\u001b[1;33m]\u001b[0m\u001b[1;33m[\u001b[0m\u001b[1;34m\"framework\"\u001b[0m\u001b[1;33m]\u001b[0m\u001b[1;33m.\u001b[0m\u001b[0mcount\u001b[0m\u001b[1;33m(\u001b[0m\u001b[1;33m)\u001b[0m\u001b[1;33m\u001b[0m\u001b[1;33m\u001b[0m\u001b[0m\n\u001b[0m\u001b[0;32m      5\u001b[0m     \u001b[0mdataframe\u001b[0m\u001b[1;33m.\u001b[0m\u001b[0mloc\u001b[0m\u001b[1;33m[\u001b[0m\u001b[0msample\u001b[0m\u001b[1;33m,\u001b[0m \u001b[1;34m\"open_count\"\u001b[0m\u001b[1;33m]\u001b[0m \u001b[1;33m=\u001b[0m \u001b[0maux\u001b[0m\u001b[1;33m[\u001b[0m\u001b[0maux\u001b[0m\u001b[1;33m[\u001b[0m\u001b[1;34m\"state\"\u001b[0m\u001b[1;33m]\u001b[0m \u001b[1;33m==\u001b[0m \u001b[1;34m\"open\"\u001b[0m\u001b[1;33m]\u001b[0m\u001b[1;33m[\u001b[0m\u001b[1;34m\"framework\"\u001b[0m\u001b[1;33m]\u001b[0m\u001b[1;33m.\u001b[0m\u001b[0mcount\u001b[0m\u001b[1;33m(\u001b[0m\u001b[1;33m)\u001b[0m\u001b[1;33m\u001b[0m\u001b[1;33m\u001b[0m\u001b[0m\n",
      "\u001b[1;32mc:\\users\\sabia\\appdata\\local\\programs\\python\\python39\\lib\\site-packages\\pandas\\core\\frame.py\u001b[0m in \u001b[0;36m__getitem__\u001b[1;34m(self, key)\u001b[0m\n\u001b[0;32m   2994\u001b[0m                 \u001b[1;32mif\u001b[0m \u001b[0misinstance\u001b[0m\u001b[1;33m(\u001b[0m\u001b[0mself\u001b[0m\u001b[1;33m.\u001b[0m\u001b[0mcolumns\u001b[0m\u001b[1;33m,\u001b[0m \u001b[0mMultiIndex\u001b[0m\u001b[1;33m)\u001b[0m\u001b[1;33m:\u001b[0m\u001b[1;33m\u001b[0m\u001b[1;33m\u001b[0m\u001b[0m\n\u001b[0;32m   2995\u001b[0m                     \u001b[1;32mreturn\u001b[0m \u001b[0mself\u001b[0m\u001b[1;33m.\u001b[0m\u001b[0m_getitem_multilevel\u001b[0m\u001b[1;33m(\u001b[0m\u001b[0mkey\u001b[0m\u001b[1;33m)\u001b[0m\u001b[1;33m\u001b[0m\u001b[1;33m\u001b[0m\u001b[0m\n\u001b[1;32m-> 2996\u001b[1;33m                 \u001b[1;32mreturn\u001b[0m \u001b[0mself\u001b[0m\u001b[1;33m.\u001b[0m\u001b[0m_get_item_cache\u001b[0m\u001b[1;33m(\u001b[0m\u001b[0mkey\u001b[0m\u001b[1;33m)\u001b[0m\u001b[1;33m\u001b[0m\u001b[1;33m\u001b[0m\u001b[0m\n\u001b[0m\u001b[0;32m   2997\u001b[0m \u001b[1;33m\u001b[0m\u001b[0m\n\u001b[0;32m   2998\u001b[0m         \u001b[1;31m# Do we have a slicer (on rows)?\u001b[0m\u001b[1;33m\u001b[0m\u001b[1;33m\u001b[0m\u001b[1;33m\u001b[0m\u001b[0m\n",
      "\u001b[1;32mc:\\users\\sabia\\appdata\\local\\programs\\python\\python39\\lib\\site-packages\\pandas\\core\\generic.py\u001b[0m in \u001b[0;36m_get_item_cache\u001b[1;34m(self, item)\u001b[0m\n\u001b[0;32m   3791\u001b[0m \u001b[1;33m\u001b[0m\u001b[0m\n\u001b[0;32m   3792\u001b[0m             \u001b[0mloc\u001b[0m \u001b[1;33m=\u001b[0m \u001b[0mself\u001b[0m\u001b[1;33m.\u001b[0m\u001b[0mcolumns\u001b[0m\u001b[1;33m.\u001b[0m\u001b[0mget_loc\u001b[0m\u001b[1;33m(\u001b[0m\u001b[0mitem\u001b[0m\u001b[1;33m)\u001b[0m\u001b[1;33m\u001b[0m\u001b[1;33m\u001b[0m\u001b[0m\n\u001b[1;32m-> 3793\u001b[1;33m             \u001b[0mvalues\u001b[0m \u001b[1;33m=\u001b[0m \u001b[0mself\u001b[0m\u001b[1;33m.\u001b[0m\u001b[0m_mgr\u001b[0m\u001b[1;33m.\u001b[0m\u001b[0miget\u001b[0m\u001b[1;33m(\u001b[0m\u001b[0mloc\u001b[0m\u001b[1;33m)\u001b[0m\u001b[1;33m\u001b[0m\u001b[1;33m\u001b[0m\u001b[0m\n\u001b[0m\u001b[0;32m   3794\u001b[0m             \u001b[0mres\u001b[0m \u001b[1;33m=\u001b[0m \u001b[0mself\u001b[0m\u001b[1;33m.\u001b[0m\u001b[0m_box_col_values\u001b[0m\u001b[1;33m(\u001b[0m\u001b[0mvalues\u001b[0m\u001b[1;33m,\u001b[0m \u001b[0mloc\u001b[0m\u001b[1;33m)\u001b[0m\u001b[1;33m.\u001b[0m\u001b[0m__finalize__\u001b[0m\u001b[1;33m(\u001b[0m\u001b[0mself\u001b[0m\u001b[1;33m)\u001b[0m\u001b[1;33m\u001b[0m\u001b[1;33m\u001b[0m\u001b[0m\n\u001b[0;32m   3795\u001b[0m \u001b[1;33m\u001b[0m\u001b[0m\n",
      "\u001b[1;32mc:\\users\\sabia\\appdata\\local\\programs\\python\\python39\\lib\\site-packages\\pandas\\core\\internals\\managers.py\u001b[0m in \u001b[0;36miget\u001b[1;34m(self, i)\u001b[0m\n\u001b[0;32m   1000\u001b[0m         \u001b[0mReturn\u001b[0m \u001b[0mthe\u001b[0m \u001b[0mdata\u001b[0m \u001b[1;32mas\u001b[0m \u001b[0ma\u001b[0m \u001b[0mSingleBlockManager\u001b[0m\u001b[1;33m.\u001b[0m\u001b[1;33m\u001b[0m\u001b[1;33m\u001b[0m\u001b[0m\n\u001b[0;32m   1001\u001b[0m         \"\"\"\n\u001b[1;32m-> 1002\u001b[1;33m         \u001b[0mblock\u001b[0m \u001b[1;33m=\u001b[0m \u001b[0mself\u001b[0m\u001b[1;33m.\u001b[0m\u001b[0mblocks\u001b[0m\u001b[1;33m[\u001b[0m\u001b[0mself\u001b[0m\u001b[1;33m.\u001b[0m\u001b[0mblknos\u001b[0m\u001b[1;33m[\u001b[0m\u001b[0mi\u001b[0m\u001b[1;33m]\u001b[0m\u001b[1;33m]\u001b[0m\u001b[1;33m\u001b[0m\u001b[1;33m\u001b[0m\u001b[0m\n\u001b[0m\u001b[0;32m   1003\u001b[0m         \u001b[0mvalues\u001b[0m \u001b[1;33m=\u001b[0m \u001b[0mblock\u001b[0m\u001b[1;33m.\u001b[0m\u001b[0miget\u001b[0m\u001b[1;33m(\u001b[0m\u001b[0mself\u001b[0m\u001b[1;33m.\u001b[0m\u001b[0mblklocs\u001b[0m\u001b[1;33m[\u001b[0m\u001b[0mi\u001b[0m\u001b[1;33m]\u001b[0m\u001b[1;33m)\u001b[0m\u001b[1;33m\u001b[0m\u001b[1;33m\u001b[0m\u001b[0m\n\u001b[0;32m   1004\u001b[0m \u001b[1;33m\u001b[0m\u001b[0m\n",
      "\u001b[1;32mc:\\users\\sabia\\appdata\\local\\programs\\python\\python39\\lib\\site-packages\\pandas\\core\\internals\\managers.py\u001b[0m in \u001b[0;36mblknos\u001b[1;34m(self)\u001b[0m\n\u001b[0;32m    167\u001b[0m         \u001b[1;32mif\u001b[0m \u001b[0mself\u001b[0m\u001b[1;33m.\u001b[0m\u001b[0m_blknos\u001b[0m \u001b[1;32mis\u001b[0m \u001b[1;32mNone\u001b[0m\u001b[1;33m:\u001b[0m\u001b[1;33m\u001b[0m\u001b[1;33m\u001b[0m\u001b[0m\n\u001b[0;32m    168\u001b[0m             \u001b[1;31m# Note: these can be altered by other BlockManager methods.\u001b[0m\u001b[1;33m\u001b[0m\u001b[1;33m\u001b[0m\u001b[1;33m\u001b[0m\u001b[0m\n\u001b[1;32m--> 169\u001b[1;33m             \u001b[0mself\u001b[0m\u001b[1;33m.\u001b[0m\u001b[0m_rebuild_blknos_and_blklocs\u001b[0m\u001b[1;33m(\u001b[0m\u001b[1;33m)\u001b[0m\u001b[1;33m\u001b[0m\u001b[1;33m\u001b[0m\u001b[0m\n\u001b[0m\u001b[0;32m    170\u001b[0m \u001b[1;33m\u001b[0m\u001b[0m\n\u001b[0;32m    171\u001b[0m         \u001b[1;32mreturn\u001b[0m \u001b[0mself\u001b[0m\u001b[1;33m.\u001b[0m\u001b[0m_blknos\u001b[0m\u001b[1;33m\u001b[0m\u001b[1;33m\u001b[0m\u001b[0m\n",
      "\u001b[1;32mc:\\users\\sabia\\appdata\\local\\programs\\python\\python39\\lib\\site-packages\\pandas\\core\\internals\\managers.py\u001b[0m in \u001b[0;36m_rebuild_blknos_and_blklocs\u001b[1;34m(self)\u001b[0m\n\u001b[0;32m    242\u001b[0m             \u001b[0mrl\u001b[0m \u001b[1;33m=\u001b[0m \u001b[0mblk\u001b[0m\u001b[1;33m.\u001b[0m\u001b[0mmgr_locs\u001b[0m\u001b[1;33m\u001b[0m\u001b[1;33m\u001b[0m\u001b[0m\n\u001b[0;32m    243\u001b[0m             \u001b[0mnew_blknos\u001b[0m\u001b[1;33m[\u001b[0m\u001b[0mrl\u001b[0m\u001b[1;33m.\u001b[0m\u001b[0mindexer\u001b[0m\u001b[1;33m]\u001b[0m \u001b[1;33m=\u001b[0m \u001b[0mblkno\u001b[0m\u001b[1;33m\u001b[0m\u001b[1;33m\u001b[0m\u001b[0m\n\u001b[1;32m--> 244\u001b[1;33m             \u001b[0mnew_blklocs\u001b[0m\u001b[1;33m[\u001b[0m\u001b[0mrl\u001b[0m\u001b[1;33m.\u001b[0m\u001b[0mindexer\u001b[0m\u001b[1;33m]\u001b[0m \u001b[1;33m=\u001b[0m \u001b[0mnp\u001b[0m\u001b[1;33m.\u001b[0m\u001b[0marange\u001b[0m\u001b[1;33m(\u001b[0m\u001b[0mlen\u001b[0m\u001b[1;33m(\u001b[0m\u001b[0mrl\u001b[0m\u001b[1;33m)\u001b[0m\u001b[1;33m)\u001b[0m\u001b[1;33m\u001b[0m\u001b[1;33m\u001b[0m\u001b[0m\n\u001b[0m\u001b[0;32m    245\u001b[0m \u001b[1;33m\u001b[0m\u001b[0m\n\u001b[0;32m    246\u001b[0m         \u001b[1;32mif\u001b[0m \u001b[1;33m(\u001b[0m\u001b[0mnew_blknos\u001b[0m \u001b[1;33m==\u001b[0m \u001b[1;33m-\u001b[0m\u001b[1;36m1\u001b[0m\u001b[1;33m)\u001b[0m\u001b[1;33m.\u001b[0m\u001b[0many\u001b[0m\u001b[1;33m(\u001b[0m\u001b[1;33m)\u001b[0m\u001b[1;33m:\u001b[0m\u001b[1;33m\u001b[0m\u001b[1;33m\u001b[0m\u001b[0m\n",
      "\u001b[1;31mKeyboardInterrupt\u001b[0m: "
     ]
    }
   ],
   "source": [
    "calculate_stats(android)\n",
    "calculate_stats(aws)\n",
    "calculate_stats(azure)\n",
    "calculate_stats(spring)"
   ]
  },
  {
   "cell_type": "code",
   "execution_count": null,
   "metadata": {
    "executionInfo": {
     "elapsed": 33,
     "status": "ok",
     "timestamp": 1624992280558,
     "user": {
      "displayName": "Gabriel Menezes",
      "photoUrl": "https://lh3.googleusercontent.com/a-/AOh14GjYUuuH8zQ8RXHIMSnNeypaXPnqG95-o6VnOfVLGA=s64",
      "userId": "04710021433655722253"
     },
     "user_tz": 240
    },
    "id": "8lBC1vRM-c5a"
   },
   "outputs": [],
   "source": [
    "def aggregate(dataframe, framework):\n",
    "    dataframe[\"framework\"] = framework\n",
    "    dataframe = dataframe.groupby(by=\"sample\").mean()\n",
    "    return dataframe"
   ]
  },
  {
   "cell_type": "code",
   "execution_count": null,
   "metadata": {
    "executionInfo": {
     "elapsed": 25,
     "status": "ok",
     "timestamp": 1624992280559,
     "user": {
      "displayName": "Gabriel Menezes",
      "photoUrl": "https://lh3.googleusercontent.com/a-/AOh14GjYUuuH8zQ8RXHIMSnNeypaXPnqG95-o6VnOfVLGA=s64",
      "userId": "04710021433655722253"
     },
     "user_tz": 240
    },
    "id": "nkEmrMnC63iD"
   },
   "outputs": [],
   "source": [
    "android = aggregate(android, \"Android\")"
   ]
  },
  {
   "cell_type": "code",
   "execution_count": null,
   "metadata": {
    "executionInfo": {
     "elapsed": 24,
     "status": "ok",
     "timestamp": 1624992280560,
     "user": {
      "displayName": "Gabriel Menezes",
      "photoUrl": "https://lh3.googleusercontent.com/a-/AOh14GjYUuuH8zQ8RXHIMSnNeypaXPnqG95-o6VnOfVLGA=s64",
      "userId": "04710021433655722253"
     },
     "user_tz": 240
    },
    "id": "o9UMyJsH63Sv"
   },
   "outputs": [],
   "source": [
    "aws = aggregate(aws, \"AWS\")"
   ]
  },
  {
   "cell_type": "code",
   "execution_count": null,
   "metadata": {
    "executionInfo": {
     "elapsed": 24,
     "status": "ok",
     "timestamp": 1624992280560,
     "user": {
      "displayName": "Gabriel Menezes",
      "photoUrl": "https://lh3.googleusercontent.com/a-/AOh14GjYUuuH8zQ8RXHIMSnNeypaXPnqG95-o6VnOfVLGA=s64",
      "userId": "04710021433655722253"
     },
     "user_tz": 240
    },
    "id": "KiOsKBFSzRro"
   },
   "outputs": [],
   "source": [
    "azure = aggregate(azure, \"Azure\")"
   ]
  },
  {
   "cell_type": "code",
   "execution_count": null,
   "metadata": {
    "executionInfo": {
     "elapsed": 24,
     "status": "ok",
     "timestamp": 1624992280561,
     "user": {
      "displayName": "Gabriel Menezes",
      "photoUrl": "https://lh3.googleusercontent.com/a-/AOh14GjYUuuH8zQ8RXHIMSnNeypaXPnqG95-o6VnOfVLGA=s64",
      "userId": "04710021433655722253"
     },
     "user_tz": 240
    },
    "id": "j4GnPRrw9Bmx"
   },
   "outputs": [],
   "source": [
    "spring = aggregate(spring, \"Spring\")"
   ]
  },
  {
   "cell_type": "code",
   "execution_count": null,
   "metadata": {},
   "outputs": [],
   "source": [
    "android[\"framework\"] = \"Android\"\n",
    "aws[\"framework\"] = \"AWS\"\n",
    "azure[\"framework\"] = \"Azure\"\n",
    "spring[\"framework\"] = \"Spring\""
   ]
  },
  {
   "cell_type": "code",
   "execution_count": null,
   "metadata": {},
   "outputs": [],
   "source": [
    "def relative_metrics(dataframe):\n",
    "    dataframe[\"relative_open_count\"] = (dataframe[\"open_count\"] / (dataframe[\"open_count\"] + dataframe[\"closed_count\"])) * 100\n",
    "    dataframe[\"relative_closed_count\"] = (dataframe[\"closed_count\"] / (dataframe[\"open_count\"] + dataframe[\"closed_count\"])) * 100\n",
    "    return dataframe"
   ]
  },
  {
   "cell_type": "code",
   "execution_count": null,
   "metadata": {},
   "outputs": [],
   "source": [
    "android = relative_metrics(android)\n",
    "aws = relative_metrics(aws)\n",
    "azure = relative_metrics(azure)\n",
    "spring = relative_metrics(spring)"
   ]
  },
  {
   "cell_type": "code",
   "execution_count": null,
   "metadata": {
    "executionInfo": {
     "elapsed": 24,
     "status": "ok",
     "timestamp": 1624992280562,
     "user": {
      "displayName": "Gabriel Menezes",
      "photoUrl": "https://lh3.googleusercontent.com/a-/AOh14GjYUuuH8zQ8RXHIMSnNeypaXPnqG95-o6VnOfVLGA=s64",
      "userId": "04710021433655722253"
     },
     "user_tz": 240
    },
    "id": "tsuyWsYc9O8O"
   },
   "outputs": [],
   "source": [
    "android.to_csv(\"2 - Agregar Dados/android.csv\")"
   ]
  },
  {
   "cell_type": "code",
   "execution_count": null,
   "metadata": {
    "executionInfo": {
     "elapsed": 23,
     "status": "ok",
     "timestamp": 1624992280562,
     "user": {
      "displayName": "Gabriel Menezes",
      "photoUrl": "https://lh3.googleusercontent.com/a-/AOh14GjYUuuH8zQ8RXHIMSnNeypaXPnqG95-o6VnOfVLGA=s64",
      "userId": "04710021433655722253"
     },
     "user_tz": 240
    },
    "id": "rqlGpvoRDxmz"
   },
   "outputs": [],
   "source": [
    "aws.to_csv(\"2 - Agregar Dados/aws.csv\")"
   ]
  },
  {
   "cell_type": "code",
   "execution_count": null,
   "metadata": {
    "executionInfo": {
     "elapsed": 23,
     "status": "ok",
     "timestamp": 1624992280563,
     "user": {
      "displayName": "Gabriel Menezes",
      "photoUrl": "https://lh3.googleusercontent.com/a-/AOh14GjYUuuH8zQ8RXHIMSnNeypaXPnqG95-o6VnOfVLGA=s64",
      "userId": "04710021433655722253"
     },
     "user_tz": 240
    },
    "id": "bghCAqTdDxaW"
   },
   "outputs": [],
   "source": [
    "azure.to_csv(\"2 - Agregar Dados/azure.csv\")"
   ]
  },
  {
   "cell_type": "code",
   "execution_count": null,
   "metadata": {
    "executionInfo": {
     "elapsed": 22,
     "status": "ok",
     "timestamp": 1624992280563,
     "user": {
      "displayName": "Gabriel Menezes",
      "photoUrl": "https://lh3.googleusercontent.com/a-/AOh14GjYUuuH8zQ8RXHIMSnNeypaXPnqG95-o6VnOfVLGA=s64",
      "userId": "04710021433655722253"
     },
     "user_tz": 240
    },
    "id": "dzK-YctYDxGq"
   },
   "outputs": [],
   "source": [
    "spring.to_csv(\"2 - Agregar Dados/spring.csv\")"
   ]
  },
  {
   "cell_type": "code",
   "execution_count": null,
   "metadata": {},
   "outputs": [],
   "source": [
    "android.mean()"
   ]
  },
  {
   "cell_type": "code",
   "execution_count": null,
   "metadata": {},
   "outputs": [],
   "source": []
  }
 ],
 "metadata": {
  "colab": {
   "authorship_tag": "ABX9TyMgD5vNjLYHbOJMi9ZVOpnE",
   "collapsed_sections": [
    "9Ur1d8GXZjQu",
    "XsMFEJhru4KR"
   ],
   "name": "AgregarDados.ipynb",
   "provenance": []
  },
  "kernelspec": {
   "display_name": "Python 3",
   "language": "python",
   "name": "python3"
  },
  "language_info": {
   "codemirror_mode": {
    "name": "ipython",
    "version": 3
   },
   "file_extension": ".py",
   "mimetype": "text/x-python",
   "name": "python",
   "nbconvert_exporter": "python",
   "pygments_lexer": "ipython3",
   "version": "3.9.2"
  }
 },
 "nbformat": 4,
 "nbformat_minor": 4
}
